{
 "cells": [
  {
   "cell_type": "code",
   "execution_count": 1,
   "id": "d97fe33c-be0a-41ff-a46e-2254b6e47696",
   "metadata": {},
   "outputs": [
    {
     "name": "stdout",
     "output_type": "stream",
     "text": [
      "Hello World!\n"
     ]
    }
   ],
   "source": [
    "def fun():\n",
    "    print(\"Hello World!\")\n",
    "\n",
    "fun()"
   ]
  },
  {
   "cell_type": "code",
   "execution_count": 2,
   "id": "096826e8-efcc-478c-88c4-3cf5b794ed12",
   "metadata": {},
   "outputs": [
    {
     "name": "stdout",
     "output_type": "stream",
     "text": [
      "40\n"
     ]
    }
   ],
   "source": [
    "def addition(a, b):\n",
    "    return a + b\n",
    "\n",
    "print(addition(10, 30))"
   ]
  },
  {
   "cell_type": "code",
   "execution_count": 3,
   "id": "59ceba50-1583-43b1-8bee-6342214f6177",
   "metadata": {},
   "outputs": [
    {
     "name": "stdout",
     "output_type": "stream",
     "text": [
      "45\n",
      "33\n"
     ]
    }
   ],
   "source": [
    "# default value \n",
    "def addition(a, b, c=10):\n",
    "    return a + b + c\n",
    "\n",
    "\n",
    "sum1 = addition(10, 25)\n",
    "print(sum1)\n",
    "\n",
    "# pass perameter keyword\n",
    "sum2 = addition(c=20, a=8, b=5)\n",
    "print(sum2)"
   ]
  },
  {
   "cell_type": "code",
   "execution_count": 4,
   "id": "59512c19-5699-4e98-90e3-5dda3489f740",
   "metadata": {},
   "outputs": [
    {
     "name": "stdout",
     "output_type": "stream",
     "text": [
      "(1, 2, 5, 6)\n",
      "1 2 5 6\n",
      "3600\n"
     ]
    }
   ],
   "source": [
    "# args\n",
    "\n",
    "def squires_multiple(*args):\n",
    "    print(args) # return tuple\n",
    "    print(*args)\n",
    "    mul = 1\n",
    "    for x in args:\n",
    "        mul *= x**2\n",
    "    return mul\n",
    "\n",
    "mul = squires_multiple(1, 2, 5, 6)\n",
    "print(mul)\n"
   ]
  },
  {
   "cell_type": "code",
   "execution_count": 5,
   "id": "390ee8c6-4063-4f28-8d96-f94511f7d60e",
   "metadata": {},
   "outputs": [
    {
     "name": "stdout",
     "output_type": "stream",
     "text": [
      "{'name': 'saimun', 'roll': '15', 'address': 'Dhaka'}\n",
      "name : saimun\n",
      "name : saimun\n",
      "roll : 15\n",
      "address : Dhaka\n"
     ]
    }
   ],
   "source": [
    "# kwargs\n",
    "def display(**kwargs):\n",
    "    print(kwargs) # return tuple\n",
    "    name = kwargs.get(\"name\")\n",
    "    print(\"name :\", name)\n",
    "    for k,v in kwargs.items():\n",
    "        print(f\"{k} : {v}\")\n",
    "    \n",
    "\n",
    "display(name=\"saimun\", roll=\"15\", address=\"Dhaka\")\n",
    "\n"
   ]
  },
  {
   "cell_type": "code",
   "execution_count": 6,
   "id": "e4afc0cc-82c7-4993-ae24-90468286aa63",
   "metadata": {},
   "outputs": [
    {
     "name": "stdout",
     "output_type": "stream",
     "text": [
      "([1, 2, 5], 'successfully retrived')\n",
      "[1, 2, 5] successfully retrived\n"
     ]
    }
   ],
   "source": [
    "def get_data():\n",
    "    a = [1, 2, 5]\n",
    "    return a, \"successfully retrived\"\n",
    "\n",
    "data = get_data()\n",
    "print(data)\n",
    "data, message = get_data()\n",
    "print(data, message)"
   ]
  },
  {
   "cell_type": "code",
   "execution_count": 7,
   "id": "4bfa038e-9961-4b7b-8b40-34f8835eedab",
   "metadata": {},
   "outputs": [
    {
     "name": "stdout",
     "output_type": "stream",
     "text": [
      "<class 'list'> <class 'set'>\n",
      "[1, 2, 5] {'a', 'b', 'c'}\n"
     ]
    }
   ],
   "source": [
    "def get_data():\n",
    "    a = [1, 2, 5]\n",
    "    b = {'a', 'b', 'c'}\n",
    "    return a, b\n",
    "\n",
    "lst, st = get_data()\n",
    "print(type(lst), type(st))\n",
    "print(lst, st)\n"
   ]
  },
  {
   "cell_type": "code",
   "execution_count": 8,
   "id": "e0bba95d-f2bd-4cc1-aeed-10fc49635fa2",
   "metadata": {},
   "outputs": [
    {
     "name": "stdout",
     "output_type": "stream",
     "text": [
      "<class 'set_iterator'>\n",
      "10\n",
      "20\n",
      "50\n"
     ]
    }
   ],
   "source": [
    "st = {10, 20, 50, 60}\n",
    "\n",
    "st_iter = iter(st)\n",
    "print(type(st_iter))\n",
    "print(next(st_iter))\n",
    "print(next(st_iter))\n",
    "print(next(st_iter))\n",
    "\n",
    "\n",
    "lst = [1, 5, 6, 7]"
   ]
  },
  {
   "cell_type": "code",
   "execution_count": 9,
   "id": "ed2fd49f-ce23-4200-86b8-940a49480b94",
   "metadata": {},
   "outputs": [],
   "source": [
    "## Generator"
   ]
  },
  {
   "cell_type": "code",
   "execution_count": 10,
   "id": "318deff1-d1ca-4b13-8ae8-2ef67d3e9bfc",
   "metadata": {},
   "outputs": [
    {
     "name": "stdout",
     "output_type": "stream",
     "text": [
      "[0, 1, 2, 3, 4, 5, 6, 7, 8, 9, 10, 11, 12, 13, 14, 15, 16, 17, 18, 19, 20, 21, 22, 23, 24, 25, 26, 27, 28, 29, 30, 31, 32, 33, 34, 35, 36, 37, 38, 39, 40, 41, 42, 43, 44, 45, 46, 47, 48, 49, 50, 51, 52, 53, 54, 55, 56, 57, 58, 59, 60, 61, 62, 63, 64, 65, 66, 67, 68, 69, 70, 71, 72, 73, 74, 75, 76, 77, 78, 79, 80, 81, 82, 83, 84, 85, 86, 87, 88, 89, 90, 91, 92, 93, 94, 95, 96, 97, 98, 99]\n"
     ]
    }
   ],
   "source": [
    "data = [i for i in range(100)]\n",
    "print(data)"
   ]
  },
  {
   "cell_type": "code",
   "execution_count": 11,
   "id": "0084377e-4579-444f-8ca8-09fe091ca2b2",
   "metadata": {},
   "outputs": [
    {
     "name": "stdout",
     "output_type": "stream",
     "text": [
      "<generator object chunk_data at 0x10a0b4c70>\n",
      "<class 'generator'>\n",
      "[0, 1, 2, 3, 4, 5, 6, 7, 8, 9]\n",
      "[10, 11, 12, 13, 14, 15, 16, 17, 18, 19]\n",
      "[20, 21, 22, 23, 24, 25, 26, 27, 28, 29]\n",
      "[30, 31, 32, 33, 34, 35, 36, 37, 38, 39]\n",
      "[40, 41, 42, 43, 44, 45, 46, 47, 48, 49]\n"
     ]
    }
   ],
   "source": [
    "def chunk_data(lst, size):\n",
    "    for i in range(0, len(lst), size):\n",
    "        yield lst[i : i + size]\n",
    "\n",
    "lst = chunk_data(data, 10)\n",
    "print(lst)\n",
    "print(type(lst))\n",
    "\n",
    "d1 = next(lst)\n",
    "print(d1)\n",
    "print(next(lst))\n",
    "print(next(lst))\n",
    "print(next(lst))\n",
    "print(next(lst))\n"
   ]
  },
  {
   "cell_type": "code",
   "execution_count": 12,
   "id": "a5349748-a179-4128-8899-1c5cdd41e10f",
   "metadata": {},
   "outputs": [
    {
     "name": "stdout",
     "output_type": "stream",
     "text": [
      "25\n",
      "66\n"
     ]
    }
   ],
   "source": [
    "# syntax: lambda perameters: expression\n",
    "\n",
    "square = lambda x : x**2\n",
    "print(square(5))\n",
    "\n",
    "square_add = lambda *args : sum([x**2 for x in args])\n",
    "\n",
    "print(square_add(1, 2, 5, 6))"
   ]
  },
  {
   "cell_type": "code",
   "execution_count": 13,
   "id": "e734ecf9-c36e-4aad-9aa6-19b336cea7db",
   "metadata": {},
   "outputs": [
    {
     "name": "stdout",
     "output_type": "stream",
     "text": [
      "[1, 4, 9, 16, 25, 36]\n"
     ]
    }
   ],
   "source": [
    "# syntax: map(fucntion: iterable) **iterable like list, set, string etc\n",
    "lst = [1, 2, 3, 4, 5, 6]\n",
    "\n",
    "def sq(a):\n",
    "    return a**2\n",
    "    \n",
    "new_lst = list(map(sq, lst))\n",
    "print(new_lst)\n"
   ]
  },
  {
   "cell_type": "markdown",
   "id": "d4070fd3-2a2f-4266-88bf-f5e64ac223f1",
   "metadata": {
    "jp-MarkdownHeadingCollapsed": true
   },
   "source": [
    "### Map X Lambda"
   ]
  },
  {
   "cell_type": "code",
   "execution_count": 14,
   "id": "f1447938-3042-4fd5-a978-b1014a0373a7",
   "metadata": {},
   "outputs": [
    {
     "name": "stdout",
     "output_type": "stream",
     "text": [
      "[1, 4, 9, 16, 25, 36]\n",
      "HELLO WORLD, PHITRON\n"
     ]
    }
   ],
   "source": [
    "lst = [1, 2, 3, 4, 5, 6]\n",
    " \n",
    "new_lst = list(map(lambda x : x**2, lst))\n",
    "print(new_lst)\n",
    "\n",
    "st = \"Hello World, Phitron\"\n",
    "\n",
    "new_st = list(map(str.upper, st))\n",
    "new_st = \"\".join(new_st)\n",
    "print(new_st)"
   ]
  },
  {
   "cell_type": "code",
   "execution_count": 15,
   "id": "155ef592-16c5-497e-8506-ff6aacf2ae7d",
   "metadata": {},
   "outputs": [
    {
     "name": "stdout",
     "output_type": "stream",
     "text": [
      "[1, 2, 9, 4, 25, 6]\n"
     ]
    }
   ],
   "source": [
    "lst = [1, 2, 3, 4, 5, 6]\n",
    " \n",
    "new_lst = list(map(lambda x : x**2 if x%2 else x, lst))\n",
    "print(new_lst)\n"
   ]
  },
  {
   "cell_type": "code",
   "execution_count": 16,
   "id": "2ddab0d4-cc43-499f-a098-3cb644c7493c",
   "metadata": {},
   "outputs": [
    {
     "name": "stdout",
     "output_type": "stream",
     "text": [
      "[0, 2, 4, 6, 8, 10, 12, 14, 16, 18, 20, 22, 24, 26, 28, 30, 32, 34, 36, 38, 40, 42, 44, 46, 48, 50, 52, 54, 56, 58, 60, 62, 64, 66, 68, 70, 72, 74, 76, 78, 80, 82, 84, 86, 88, 90, 92, 94, 96, 98]\n"
     ]
    }
   ],
   "source": [
    "# syntax: filter(function that return boolean : iterable)\n",
    "lst = [i for i in range(100)]\n",
    "\n",
    "def is_even(x):\n",
    "    return x % 2 == 0\n",
    "\n",
    "new_lst = list(filter(is_even, lst))\n",
    "print(new_lst)"
   ]
  },
  {
   "cell_type": "code",
   "execution_count": 17,
   "id": "b638307f-6192-4a88-8674-055785667659",
   "metadata": {},
   "outputs": [
    {
     "name": "stdout",
     "output_type": "stream",
     "text": [
      "[1, 3, 5, 7, 9, 11, 13, 15, 17, 19, 21, 23, 25, 27, 29, 31, 33, 35, 37, 39, 41, 43, 45, 47, 49, 51, 53, 55, 57, 59, 61, 63, 65, 67, 69, 71, 73, 75, 77, 79, 81, 83, 85, 87, 89, 91, 93, 95, 97, 99]\n"
     ]
    }
   ],
   "source": [
    "new_lst = list(filter(lambda x : x % 2, lst))\n",
    "print(new_lst)"
   ]
  },
  {
   "cell_type": "code",
   "execution_count": 18,
   "id": "e4ace9d7-8a83-4cd3-b92e-403a78a20e86",
   "metadata": {},
   "outputs": [
    {
     "name": "stdout",
     "output_type": "stream",
     "text": [
      "['a', True, 1, 2]\n",
      "['e', 'o', 'o', 'E', 'e', 'o']\n"
     ]
    }
   ],
   "source": [
    "lst = ['a', None, True, 1, 2, False, None]\n",
    "\n",
    "new_lst = list(filter(None, lst))\n",
    "print(new_lst)\n",
    "\n",
    "st = \"Hello world, Everybody\"\n",
    "print(list(filter(lambda c: c.lower() in \"aeiou\", st)))"
   ]
  },
  {
   "cell_type": "markdown",
   "id": "a1e32114-9de8-47e6-b3d0-3d071c1dcb8c",
   "metadata": {},
   "source": [
    "## why use numpy array over python list"
   ]
  },
  {
   "cell_type": "markdown",
   "id": "888491e7-b519-4947-957a-b42138830799",
   "metadata": {},
   "source": [
    "#### Task is print array elemnt multiply by 5"
   ]
  },
  {
   "cell_type": "code",
   "execution_count": 19,
   "id": "86c5d135-81af-4b2e-8985-d1b8a9e7bb72",
   "metadata": {},
   "outputs": [
    {
     "name": "stdout",
     "output_type": "stream",
     "text": [
      "[1, 2, 3, 1, 2, 3, 1, 2, 3, 1, 2, 3, 1, 2, 3]\n",
      "[5, 10, 15]\n"
     ]
    }
   ],
   "source": [
    "# using python list\n",
    "\n",
    "arr = [1,2,3]\n",
    "\n",
    "print( arr * 5 )\n",
    "\n",
    "arr = [ x*5 for x in arr] \n",
    "\n",
    "print(arr)"
   ]
  },
  {
   "cell_type": "code",
   "execution_count": 20,
   "id": "395d1865-bbd0-4f33-b10f-89a039bd3235",
   "metadata": {},
   "outputs": [
    {
     "name": "stdout",
     "output_type": "stream",
     "text": [
      "[ 5 10 15 20]\n"
     ]
    }
   ],
   "source": [
    "import numpy as np\n",
    "# only use same type of data\n",
    "arr = np.array([1, 2, 3, 4])\n",
    "\n",
    "arr = arr * 5 # use SIMD single instruction multiple data\n",
    "\n",
    "print(arr)"
   ]
  },
  {
   "cell_type": "markdown",
   "id": "ce4b6bfc-85d0-43ec-ab16-22d6b8959bb9",
   "metadata": {},
   "source": [
    "## NDArray"
   ]
  },
  {
   "cell_type": "code",
   "execution_count": 21,
   "id": "d6ee73a5-3b1d-4ac5-b2a8-5067656c798e",
   "metadata": {},
   "outputs": [
    {
     "name": "stdout",
     "output_type": "stream",
     "text": [
      "=== 1d ====\n",
      "[1 2 3 4]\n",
      "\n",
      "=== 2d ====\n",
      "\n",
      "[[1 2 3]\n",
      " [4 5 6]]\n",
      "\n",
      "=== 3d ====\n",
      "\n",
      "[[[1 2 3]\n",
      "  [4 5 6]]\n",
      "\n",
      " [[1 2 3]\n",
      "  [4 5 6]]\n",
      "\n",
      " [[1 2 3]\n",
      "  [4 5 6]]]\n"
     ]
    }
   ],
   "source": [
    "# import numpy as np \n",
    "\n",
    "# 1d array \n",
    "arr1 = np.array([1, 2, 3, 4])\n",
    "\n",
    "# 2d array\n",
    "arr2 = np.array([\n",
    "        [1, 2, 3],\n",
    "        [4, 5, 6]\n",
    "])\n",
    "    \n",
    "\n",
    "# 3d array\n",
    "arr3 = np.array([\n",
    "    [ [1, 2, 3],\n",
    "      [4, 5, 6] ],\n",
    "    \n",
    "    [ [1, 2, 3],\n",
    "      [4, 5, 6] ],\n",
    "\n",
    "    [ [1, 2, 3],\n",
    "      [4, 5, 6] ],\n",
    "])\n",
    "print(\"=== 1d ====\")\n",
    "print(arr1)\n",
    "print(\"\\n=== 2d ====\\n\")\n",
    "print(arr2)\n",
    "print(\"\\n=== 3d ====\\n\")\n",
    "print(arr3)"
   ]
  },
  {
   "cell_type": "markdown",
   "id": "62cb128e-c63f-494c-96c0-6b003b9fb46a",
   "metadata": {},
   "source": [
    "## Array attributes"
   ]
  },
  {
   "cell_type": "code",
   "execution_count": 22,
   "id": "e0686447-dc2a-4306-b1dc-3de8820b29a5",
   "metadata": {},
   "outputs": [
    {
     "name": "stdout",
     "output_type": "stream",
     "text": [
      "1\n",
      "2\n",
      "3\n",
      "(4,)\n",
      "(2, 3)\n",
      "(3, 2, 3)\n",
      "4\n",
      "6\n",
      "18\n",
      "int64\n"
     ]
    }
   ],
   "source": [
    "# dimantion of array\n",
    "print(arr1.ndim)\n",
    "print(arr2.ndim)\n",
    "print(arr3.ndim)\n",
    "\n",
    "# array shape\n",
    "# (4,)\n",
    "# (2, 3) # row, col\n",
    "# (3, 2, 3) # flor, row, col\n",
    "print(arr1.shape)\n",
    "print(arr2.shape)\n",
    "print(arr3.shape) \n",
    "\n",
    "# array size\n",
    "print(arr1.size)\n",
    "print(arr2.size)\n",
    "print(arr3.size)\n",
    "\n",
    "# array datatyp\n",
    "\n",
    "print(arr3.dtype)\n"
   ]
  },
  {
   "cell_type": "markdown",
   "id": "0f00e7ff-32b7-4502-9d70-493c72e08f0d",
   "metadata": {},
   "source": [
    "## ndarray data type"
   ]
  },
  {
   "cell_type": "code",
   "execution_count": 23,
   "id": "72be955a-cdc9-481c-b393-9651160c1c93",
   "metadata": {},
   "outputs": [
    {
     "name": "stdout",
     "output_type": "stream",
     "text": [
      "int64\n",
      "float64\n"
     ]
    }
   ],
   "source": [
    "arr1 = np.array([1, 2, 3, 5])\n",
    "\n",
    "print(arr1.dtype)\n",
    "\n",
    "arr2 = np.array([1.2, 2.6, 8.4, 5.00])\n",
    "print(arr2.dtype)"
   ]
  },
  {
   "cell_type": "code",
   "execution_count": 24,
   "id": "05fdba23-a761-4b36-a265-430556e114e4",
   "metadata": {},
   "outputs": [
    {
     "name": "stdout",
     "output_type": "stream",
     "text": [
      "float64\n",
      "<U32\n",
      "int64 [1 1 0]\n"
     ]
    }
   ],
   "source": [
    "arr = np.array([1, 2, 3, 5.2])\n",
    "\n",
    "# upcasting to float \n",
    "print(arr.dtype)\n",
    "\n",
    "# upcasting to string\n",
    "arr = np.array([1, 2, 3, 5.2, 'hello'])\n",
    "print(arr.dtype)\n",
    "\n",
    "arr = np.array([1,True, 0])\n",
    "print(arr.dtype, arr)"
   ]
  },
  {
   "cell_type": "markdown",
   "id": "fd8e571a-0b5a-4f1d-af6a-85f98cf2d3de",
   "metadata": {},
   "source": [
    "## selecting a data type for an array"
   ]
  },
  {
   "cell_type": "code",
   "execution_count": 25,
   "id": "eb041a57-332a-449e-9721-2e76b5e62bd2",
   "metadata": {},
   "outputs": [
    {
     "name": "stdout",
     "output_type": "stream",
     "text": [
      "int8\n",
      "[1 2 3 5]\n",
      "float64\n",
      "[1. 2. 3. 5.]\n"
     ]
    },
    {
     "ename": "ValueError",
     "evalue": "invalid literal for int() with base 10: 'helo'",
     "output_type": "error",
     "traceback": [
      "\u001b[31m---------------------------------------------------------------------------\u001b[39m",
      "\u001b[31mValueError\u001b[39m                                Traceback (most recent call last)",
      "\u001b[36mCell\u001b[39m\u001b[36m \u001b[39m\u001b[32mIn[25]\u001b[39m\u001b[32m, line 10\u001b[39m\n\u001b[32m      7\u001b[39m \u001b[38;5;28mprint\u001b[39m(arr)\n\u001b[32m      9\u001b[39m \u001b[38;5;66;03m# error\u001b[39;00m\n\u001b[32m---> \u001b[39m\u001b[32m10\u001b[39m arr = \u001b[43mnp\u001b[49m\u001b[43m.\u001b[49m\u001b[43marray\u001b[49m\u001b[43m(\u001b[49m\u001b[43m[\u001b[49m\u001b[32;43m1\u001b[39;49m\u001b[43m,\u001b[49m\u001b[43m \u001b[49m\u001b[32;43m2\u001b[39;49m\u001b[43m,\u001b[49m\u001b[43m \u001b[49m\u001b[32;43m3\u001b[39;49m\u001b[43m,\u001b[49m\u001b[43m \u001b[49m\u001b[32;43m5.2\u001b[39;49m\u001b[43m,\u001b[49m\u001b[43m \u001b[49m\u001b[33;43m\"\u001b[39;49m\u001b[33;43mhelo\u001b[39;49m\u001b[33;43m\"\u001b[39;49m\u001b[43m]\u001b[49m\u001b[43m,\u001b[49m\u001b[43m \u001b[49m\u001b[43mdtype\u001b[49m\u001b[43m=\u001b[49m\u001b[43mnp\u001b[49m\u001b[43m.\u001b[49m\u001b[43mint8\u001b[49m\u001b[43m)\u001b[49m\n",
      "\u001b[31mValueError\u001b[39m: invalid literal for int() with base 10: 'helo'"
     ]
    }
   ],
   "source": [
    "arr = np.array([1, 2, 3, 5.2], dtype=np.int8)\n",
    "print(arr.dtype)\n",
    "print(arr)\n",
    "\n",
    "arr = arr.astype(np.float64)\n",
    "print(arr.dtype)\n",
    "print(arr)\n",
    "\n",
    "# error\n",
    "arr = np.array([1, 2, 3, 5.2, \"helo\"], dtype=np.int8)"
   ]
  },
  {
   "cell_type": "markdown",
   "id": "960f1e2f-ff70-49ab-ad82-02085ddfa411",
   "metadata": {},
   "source": [
    "## ndarray creation from existing data"
   ]
  },
  {
   "cell_type": "code",
   "execution_count": null,
   "id": "ed02f80a-5f3a-4c6a-91f4-ff7b8eea26c7",
   "metadata": {},
   "outputs": [],
   "source": [
    "# list\n",
    "\n",
    "arr = [1, 2, 3]\n",
    "arr = np.array(arr)\n",
    "print(arr.dtype)\n",
    "print(type(arr))\n",
    "print(arr)\n",
    "\n",
    "\n",
    "arr = [1, 2, 3, 'sk']\n",
    "arr = np.array(arr)\n",
    "print(arr.dtype)\n",
    "print(type(arr))\n",
    "print(arr)"
   ]
  },
  {
   "cell_type": "code",
   "execution_count": null,
   "id": "ed279a6c-47d7-4e58-a3a6-8a273527d99b",
   "metadata": {},
   "outputs": [],
   "source": [
    "# tuple\n",
    "\n",
    "arr = (1, 2, 3)\n",
    "arr = np.array(arr)\n",
    "print(arr.dtype)\n",
    "print(arr.ndim)\n",
    "print(type(arr))\n",
    "print(arr)"
   ]
  },
  {
   "cell_type": "code",
   "execution_count": null,
   "id": "2f84b3be-f907-40be-bed2-4ebd681519b7",
   "metadata": {},
   "outputs": [],
   "source": [
    "# set\n",
    "\n",
    "arr = {1, 2, 3}\n",
    "arr = np.array(arr)\n",
    "print(arr.dtype)\n",
    "print(arr.ndim)\n",
    "print(type(arr))\n",
    "print(arr)\n",
    "\n",
    "\n",
    "\n",
    "arr = {1, 2, 3}\n",
    "arr = np.array(list(arr))\n",
    "print(arr.dtype)\n",
    "print(arr.ndim)\n",
    "print(type(arr))\n",
    "print(arr)"
   ]
  },
  {
   "cell_type": "code",
   "execution_count": null,
   "id": "b2c94ed6-faff-432e-82a0-a69dc0f5ad9d",
   "metadata": {},
   "outputs": [],
   "source": [
    "# dict\n",
    "\n",
    "dic = {'a': 1, 'b': 2, 'c': 3}\n",
    "arr = np.array(dic)\n",
    "print(arr.dtype)\n",
    "print(arr.ndim)\n",
    "print(type(arr))\n",
    "print(arr)\n",
    "\n",
    "keys = dic.keys()\n",
    "items = dic.items()\n",
    "values = dic.values()\n",
    "\n",
    "print(keys)\n",
    "print(values)\n",
    "print(items)\n"
   ]
  },
  {
   "cell_type": "code",
   "execution_count": null,
   "id": "0ef08f6d-10ae-4e98-a383-90148f0587a7",
   "metadata": {},
   "outputs": [],
   "source": [
    "# dict keys\n",
    "\n",
    "arr = np.array(keys)\n",
    "print(arr.dtype)\n",
    "print(arr.ndim)\n",
    "print(type(arr))\n",
    "print(arr)\n",
    "\n",
    "# convert list\n",
    "arr = np.array(list(keys))\n",
    "print(arr.dtype)\n",
    "print(arr.ndim)\n",
    "print(type(arr))\n",
    "print(arr)"
   ]
  },
  {
   "cell_type": "code",
   "execution_count": null,
   "id": "599c635b-2c69-41b8-9a42-55d47a9f3ad7",
   "metadata": {},
   "outputs": [],
   "source": [
    "# dict values\n",
    "\n",
    "arr = np.array(values)\n",
    "print(arr.dtype)\n",
    "print(arr.ndim)\n",
    "print(type(arr))\n",
    "print(arr)\n",
    "\n",
    "\n",
    "# convert list\n",
    "\n",
    "arr = np.array(list(values))\n",
    "print(arr.dtype)\n",
    "print(arr.ndim)\n",
    "print(type(arr))\n",
    "print(arr)\n",
    "\n"
   ]
  },
  {
   "cell_type": "code",
   "execution_count": null,
   "id": "71faecdc-83a4-4f9b-8413-f53cbfe0cc72",
   "metadata": {},
   "outputs": [],
   "source": [
    "# dict items\n",
    "\n",
    "arr = np.array(items)\n",
    "print(arr.dtype)\n",
    "print(arr.ndim)\n",
    "print(type(arr))\n",
    "print(arr)\n",
    "\n",
    "\n",
    "# convert list\n",
    "\n",
    "arr = np.array(list(items))\n",
    "print(arr.dtype)\n",
    "print(arr.ndim)\n",
    "print(type(arr))\n",
    "print(arr.shape)\n",
    "print(arr.size)\n",
    "print(arr)\n"
   ]
  },
  {
   "cell_type": "markdown",
   "id": "73e628a5-c548-4fa7-99b9-bfbf03f3d073",
   "metadata": {},
   "source": [
    "## Creating ndarray from scratch"
   ]
  },
  {
   "cell_type": "code",
   "execution_count": null,
   "id": "36c35753-6696-412f-a846-32fbfdd21c91",
   "metadata": {},
   "outputs": [],
   "source": [
    "# empty array with zero\n",
    "\n",
    "arr = np.zeros((1, 5)) # defalut float we can change\n",
    "arr = np.zeros((1, 5), dtype=np.int64) # defalut float we can change\n",
    "# arr = np.zeros(5)\n",
    "print(arr.dtype)\n",
    "print(arr.ndim)\n",
    "print(type(arr))\n",
    "print(arr.shape)\n",
    "print(arr.size)\n",
    "print(arr)\n",
    "\n",
    "\n",
    "# 2d\n",
    "arr = np.zeros((2, 5), dtype=np.int64) # defalut float we can change\n",
    "\n",
    "print(arr.dtype)\n",
    "print(arr.ndim)\n",
    "print(type(arr))\n",
    "print(arr.shape)\n",
    "print(arr.size)\n",
    "print(arr)\n",
    "\n",
    "\n",
    "# 3d\n",
    "arr = np.zeros((3, 5), dtype=np.int64) # defalut float we can change\n",
    "\n",
    "print(arr.dtype)\n",
    "print(arr.ndim)\n",
    "print(type(arr))\n",
    "print(arr.shape)\n",
    "print(arr.size)\n",
    "print(arr)\n",
    "\n",
    "# use shape of another array\n",
    "arr = np.zeros_like(arr3) ## arr3 shape same \n",
    "print(arr)\n",
    "print(arr.shape) "
   ]
  },
  {
   "cell_type": "code",
   "execution_count": null,
   "id": "a0e5ef0f-ae61-4f53-888a-fba223fa3093",
   "metadata": {},
   "outputs": [],
   "source": [
    "# empty array with one\n",
    "\n",
    "arr = np.ones((1, 5)) # defalut float we can change\n",
    "arr = np.ones((1, 5), dtype=np.int64) # defalut float we can change\n",
    "# arr = np.zeros(5)\n",
    "print(arr.dtype)\n",
    "print(arr.ndim)\n",
    "print(type(arr))\n",
    "print(arr.shape)\n",
    "print(arr.size)\n",
    "print(arr)\n",
    "\n",
    "\n",
    "# 2d\n",
    "arr = np.ones((2, 5), dtype=np.int64) # defalut float we can change\n",
    "\n",
    "print(arr.dtype)\n",
    "print(arr.ndim)\n",
    "print(type(arr))\n",
    "print(arr.shape)\n",
    "print(arr.size)\n",
    "print(arr)\n",
    "\n",
    "\n",
    "# 3d\n",
    "arr = np.ones((3, 5), dtype=np.int64) # defalut float we can change\n",
    "\n",
    "print(arr.dtype)\n",
    "print(arr.ndim)\n",
    "print(type(arr))\n",
    "print(arr.shape)\n",
    "print(arr.size)\n",
    "print(arr)\n",
    "\n",
    "# use shape of another array\n",
    "arr = np.ones_like(arr3) ## arr3 shape same \n",
    "print(arr)\n",
    "print(arr.shape) "
   ]
  },
  {
   "cell_type": "code",
   "execution_count": null,
   "id": "151dbe1b-59e9-47f4-a7c4-7ff2422fb932",
   "metadata": {},
   "outputs": [],
   "source": [
    "# empty array with input value\n",
    "\n",
    "arr = np.full((1, 5), 99) # defalut float we can change\n",
    "arr = np.full((1, 5), 99, dtype=np.int64) # defalut float we can change\n",
    "# arr = np.zeros(5)\n",
    "print(arr.dtype)\n",
    "print(arr.ndim)\n",
    "print(type(arr))\n",
    "print(arr.shape)\n",
    "print(arr.size)\n",
    "print(arr)\n",
    "\n",
    "\n",
    "# 2d\n",
    "arr = np.full((2, 5), 99, dtype=np.int64) # defalut float we can change\n",
    "\n",
    "print(arr.dtype)\n",
    "print(arr.ndim)\n",
    "print(type(arr))\n",
    "print(arr.shape)\n",
    "print(arr.size)\n",
    "print(arr)\n",
    "\n",
    "\n",
    "# 3d\n",
    "arr = np.full((3, 5), 99, dtype=np.int64) # defalut float we can change\n",
    "\n",
    "print(arr.dtype)\n",
    "print(arr.ndim)\n",
    "print(type(arr))\n",
    "print(arr.shape)\n",
    "print(arr.size)\n",
    "print(arr)\n",
    "\n",
    "# use shape of another array\n",
    "arr = np.full_like(arr3, 10) ## arr3 shape same \n",
    "print(arr)\n",
    "print(arr.shape) "
   ]
  },
  {
   "cell_type": "markdown",
   "id": "a144e9ba-88a5-46f2-9825-fa53e66aa29a",
   "metadata": {},
   "source": [
    "# empty array with inpinite"
   ]
  },
  {
   "cell_type": "code",
   "execution_count": null,
   "id": "0688ffbc-4a9b-4e34-ba4d-b6f383410641",
   "metadata": {},
   "outputs": [],
   "source": [
    "arr = np.full_like(arr3, np.inf) ## bydefault it use int64\n",
    "print(arr)\n",
    "print(arr.shape)\n",
    "print(arr.dtype)\n",
    "\n",
    "\n",
    "arr = np.full_like(arr3, np.inf, dtype=np.float64) ## bydefault it use int64\n",
    "print(arr)\n",
    "print(arr.shape)\n",
    "print(arr.dtype)\n"
   ]
  },
  {
   "cell_type": "code",
   "execution_count": null,
   "id": "cdfe9d27-b28c-47d6-b403-90a60aa29eee",
   "metadata": {},
   "outputs": [],
   "source": [
    "#np.empty\n",
    "arr = np.empty((4,3),dtype=np.int8)\n",
    "\n",
    "print(arr) \n",
    "print(type(arr)) \n",
    "print(arr.dtype) \n",
    "print(arr.shape) \n",
    "print(arr.ndim)\n",
    "print(arr.size)\n",
    "\n",
    "arr = np.empty_like(arr3) ## arr3 shape same \n",
    "print(arr)\n",
    "print(arr.shape) "
   ]
  },
  {
   "cell_type": "markdown",
   "id": "61dd2e49-601d-411a-b049-eac39a100151",
   "metadata": {},
   "source": [
    "## array creation with random values"
   ]
  },
  {
   "cell_type": "code",
   "execution_count": null,
   "id": "0ecfa3e5-3a13-415b-b77b-162abb4ae938",
   "metadata": {},
   "outputs": [],
   "source": [
    "# np.random.rand(shape) \n",
    "\n",
    "arr = np.random.rand(2,3) # 0 ->1 \n",
    "\n",
    "print(arr) \n",
    "print(type(arr)) \n",
    "print(arr.dtype) \n",
    "print(arr.shape) \n",
    "print(arr.ndim)\n",
    "print(arr.size)"
   ]
  },
  {
   "cell_type": "code",
   "execution_count": null,
   "id": "739fe96d-f5ee-4456-a3ba-539f5a649586",
   "metadata": {},
   "outputs": [],
   "source": [
    "# np.random.randint(start, end, shape) \n",
    "\n",
    "arr = np.random.randint(1,5 , (2,3))  \n",
    "\n",
    "print(arr) \n",
    "print(type(arr)) \n",
    "print(arr.dtype) \n",
    "print(arr.shape) \n",
    "print(arr.ndim)\n",
    "print(arr.size)"
   ]
  },
  {
   "cell_type": "code",
   "execution_count": null,
   "id": "ca5583c6-c61a-48bc-bf4b-f18f9c1be2e0",
   "metadata": {},
   "outputs": [],
   "source": [
    "# np.random.uniform(start, end, shape) \n",
    "\n",
    "arr = np.random.uniform(1,500 , (2,3))  # floating number\n",
    "\n",
    "print(arr) \n",
    "print(type(arr)) \n",
    "print(arr.dtype) \n",
    "print(arr.shape) \n",
    "print(arr.ndim)\n",
    "print(arr.size)"
   ]
  },
  {
   "cell_type": "markdown",
   "id": "6b2fa86c-4726-4899-acaa-4864d33722a2",
   "metadata": {},
   "source": [
    "## array creation with range functions"
   ]
  },
  {
   "cell_type": "code",
   "execution_count": null,
   "id": "54c3ca1d-d38c-41f4-bd28-d8c9ffd751fb",
   "metadata": {},
   "outputs": [
    {
     "name": "stdout",
     "output_type": "stream",
     "text": [
      "[1 2 3 4 5 6 7 8 9]\n",
      "[[1 2 3]\n",
      " [4 5 6]\n",
      " [7 8 9]]\n",
      "<class 'numpy.ndarray'>\n",
      "int64\n",
      "(9,)\n",
      "1\n",
      "9\n"
     ]
    }
   ],
   "source": [
    "# np.arange(first , end , step ) -> similar to range function \n",
    "\n",
    "arr = np.arange(1 , 10 ,1 )\n",
    "mat = arr.reshape(3,3) \n",
    "\n",
    "print(arr) \n",
    "print(mat) \n",
    "print(type(arr)) \n",
    "print(arr.dtype) \n",
    "print(arr.shape) \n",
    "print(arr.ndim)\n",
    "print(arr.size)\n",
    "\n"
   ]
  },
  {
   "cell_type": "code",
   "execution_count": null,
   "id": "32fc4b53-ae87-44c2-939a-2e38e34e381e",
   "metadata": {},
   "outputs": [
    {
     "name": "stdout",
     "output_type": "stream",
     "text": [
      "[ 1.     2.125  3.25   4.375  5.5    6.625  7.75   8.875 10.   ]\n",
      "<class 'numpy.ndarray'>\n",
      "float64\n",
      "(9,)\n",
      "1\n",
      "9\n"
     ]
    }
   ],
   "source": [
    "# np.linspace(first , end(included) , size ) -> in array linearly all element deffrence is same\n",
    "\n",
    "arr = np.linspace(1 , 10 , 9 )\n",
    "\n",
    "print(arr) \n",
    "print(type(arr)) \n",
    "print(arr.dtype) \n",
    "print(arr.shape) \n",
    "print(arr.ndim)\n",
    "print(arr.size)"
   ]
  },
  {
   "cell_type": "code",
   "execution_count": null,
   "id": "f5c96fb1-489d-4eb8-9467-3ee0bcf86465",
   "metadata": {},
   "outputs": [
    {
     "name": "stdout",
     "output_type": "stream",
     "text": [
      "[          1         100       10000     1000000   100000000 10000000000]\n",
      "[   1    4   16   64  256 1024]\n",
      "[  1   3  12  42 147 512]\n"
     ]
    }
   ],
   "source": [
    "# np.logspace(start , end, size, base=10 ) -> base ^ start .. . .. . base ^ end \n",
    "\n",
    "arr = np.logspace(0, 10 , 6 , dtype=np.int64)\n",
    "\n",
    "print(arr) \n",
    "\n",
    "arr = np.logspace(0, 10 , 6 , base=2, dtype=np.int64)\n",
    "print(arr) \n",
    "\n",
    "arr = np.logspace(0, 9 , 6 , base=2, dtype=np.int64)\n",
    "print(arr)"
   ]
  },
  {
   "cell_type": "markdown",
   "id": "9459dce7-84b2-446e-ba64-91ce25690d72",
   "metadata": {},
   "source": [
    "## Matrix"
   ]
  },
  {
   "cell_type": "code",
   "execution_count": null,
   "id": "6360f435-1223-4de9-afe1-c9db0750d9c5",
   "metadata": {},
   "outputs": [
    {
     "name": "stdout",
     "output_type": "stream",
     "text": [
      "[[1 0 0 0]\n",
      " [0 3 0 0]\n",
      " [0 0 4 0]\n",
      " [0 0 0 5]]\n"
     ]
    }
   ],
   "source": [
    "# diagonal matrix\n",
    "\n",
    "arr = np.diag([1, 3, 4, 5])\n",
    "print(arr)"
   ]
  },
  {
   "cell_type": "code",
   "execution_count": null,
   "id": "b540dc90-f690-4b05-9f0e-f9c7f8c1d183",
   "metadata": {},
   "outputs": [
    {
     "name": "stdout",
     "output_type": "stream",
     "text": [
      "[[1 0 0]\n",
      " [0 1 0]\n",
      " [0 0 1]]\n",
      "(3, 3)\n",
      "[[1. 0. 0. 0.]\n",
      " [0. 1. 0. 0.]\n",
      " [0. 0. 1. 0.]\n",
      " [0. 0. 0. 1.]]\n",
      "[[0. 0. 1. 0. 0.]\n",
      " [0. 0. 0. 1. 0.]\n",
      " [0. 0. 0. 0. 1.]\n",
      " [0. 0. 0. 0. 0.]\n",
      " [0. 0. 0. 0. 0.]]\n",
      "\n",
      "==== senaro 3=====\n",
      "\n",
      "[[0. 0. 0. 0. 0.]\n",
      " [1. 0. 0. 0. 0.]\n",
      " [0. 1. 0. 0. 0.]\n",
      " [0. 0. 1. 0. 0.]\n",
      " [0. 0. 0. 1. 0.]]\n"
     ]
    }
   ],
   "source": [
    "# identity matrix\n",
    "\n",
    "arr = np.identity(3, dtype=np.int8)\n",
    "\n",
    "print(arr)\n",
    "print(arr.shape)\n",
    "\n",
    "# 4 X 4 size identity matrix\n",
    "arr = np.eye(4, 4)\n",
    "print(arr)\n",
    "\n",
    "# np.eye(row, col, k)\n",
    "# if k is positive then diagonal goes to upper else reversed\n",
    "arr = np.eye(5, 5, 2)\n",
    "print(arr)\n",
    "print(\"\\n==== senaro 3=====\\n\")\n",
    "arr = np.eye(5, 5, -1)\n",
    "print(arr)"
   ]
  },
  {
   "cell_type": "markdown",
   "id": "3300ab43-df1a-45d4-8fd2-3375774497a6",
   "metadata": {},
   "source": [
    "## ndarray indexing"
   ]
  },
  {
   "cell_type": "code",
   "execution_count": null,
   "id": "30f28c07-9d07-4f2a-a0bf-dc7d6ea6229b",
   "metadata": {},
   "outputs": [],
   "source": [
    "# 1d array \n",
    "arr1 = np.array([1, 2, 3, 4])\n",
    "\n",
    "# 2d array\n",
    "arr2 = np.array([\n",
    "        [1, 2, 3],\n",
    "        [4, 5, 6]\n",
    "])\n"
   ]
  },
  {
   "cell_type": "code",
   "execution_count": null,
   "id": "d63e510b-0e5e-4df3-b948-8cb197f61c1f",
   "metadata": {},
   "outputs": [
    {
     "name": "stdout",
     "output_type": "stream",
     "text": [
      "1\n",
      "[  1   2 100   4]\n"
     ]
    }
   ],
   "source": [
    "# 1d array\n",
    "print(arr1[0])\n",
    "\n",
    "arr1[2] = 100\n",
    "print(arr1)\n"
   ]
  },
  {
   "cell_type": "code",
   "execution_count": null,
   "id": "bb1e5382-861b-4328-a4c0-d574c70feb8a",
   "metadata": {},
   "outputs": [
    {
     "name": "stdout",
     "output_type": "stream",
     "text": [
      "[1 2 3]\n",
      "[4 5 6]\n",
      "6\n"
     ]
    }
   ],
   "source": [
    "\n",
    "# 2d array\n",
    "\n",
    "# get full row \n",
    "print(arr2[0])\n",
    "\n",
    "print(arr2[1])\n",
    "\n",
    "print(arr2[1][2])"
   ]
  },
  {
   "cell_type": "markdown",
   "id": "89334783-fd11-4254-8b85-c1c7bc185110",
   "metadata": {},
   "source": [
    "## Slicing"
   ]
  },
  {
   "cell_type": "code",
   "execution_count": null,
   "id": "6035e12d-1237-4125-b4af-0dcaa716d8e0",
   "metadata": {},
   "outputs": [
    {
     "name": "stdout",
     "output_type": "stream",
     "text": [
      "[  1   2 100   4]\n",
      "[  4 100   2   1]\n",
      "[  1 100]\n"
     ]
    }
   ],
   "source": [
    "# 1d array\n",
    "\n",
    "#arr = arr1[start: end(not included): step]\n",
    "print(arr1)\n",
    "print(arr1[::-1]) # reverse\n",
    "\n",
    "print(arr1[0::2])\n"
   ]
  },
  {
   "cell_type": "code",
   "execution_count": null,
   "id": "61f648f8-1759-470b-a587-cfd6d76c66a6",
   "metadata": {},
   "outputs": [
    {
     "name": "stdout",
     "output_type": "stream",
     "text": [
      "[[1 2 3]\n",
      " [4 5 6]\n",
      " [7 8 9]]\n",
      "\n",
      " == Row == \n",
      "\n",
      "[[1 2 3]]\n",
      "[[7 8 9]]\n",
      "\n",
      "\n",
      "[[1 2 3]\n",
      " [7 8 9]]\n",
      "\n",
      " == column == \n",
      "\n",
      "[[1]\n",
      " [4]\n",
      " [7]]\n",
      "[[3]\n",
      " [6]\n",
      " [9]]\n",
      "\n",
      "\n",
      "[[1 3]\n",
      " [4 6]\n",
      " [7 9]]\n",
      "\n",
      "\n"
     ]
    }
   ],
   "source": [
    "# 2d array\n",
    "\n",
    "#arr = arr1[row_start : row_end: step, col_start : col_end : step]\n",
    "\n",
    "arr = np.arange(1 , 10 ,1 )\n",
    "mat = arr.reshape(3,3) \n",
    "print(mat)\n",
    "print(\"\\n == Row == \\n\")\n",
    "\n",
    "\n",
    "## ================== ROW ============== \n",
    "# get first row\n",
    "print(mat[0:1 , ])\n",
    "\n",
    "# getting third row\n",
    "print(mat[2:, ])\n",
    "print(\"\\n\")\n",
    "\n",
    "# getting 1st and 3rd row\n",
    "print(mat[::2, ])\n",
    "print(\"\\n == column == \\n\")\n",
    "\n",
    "## ================== Column ============== \n",
    "# get first col\n",
    "print(mat[: , :1:])\n",
    "\n",
    "# getting third col\n",
    "print(mat[: , 2::])\n",
    "print(\"\\n\")\n",
    "\n",
    "# getting 1st and 3rd row\n",
    "print(mat[: , ::2])\n",
    "print(\"\\n\")\n",
    "\n"
   ]
  },
  {
   "cell_type": "code",
   "execution_count": null,
   "id": "09efa798-505d-4bcf-99d8-e62c691d70e4",
   "metadata": {},
   "outputs": [
    {
     "name": "stdout",
     "output_type": "stream",
     "text": [
      "[[1 2]\n",
      " [4 5]\n",
      " [7 8]]\n",
      "\n",
      "\n",
      "[[1 2]\n",
      " [4 5]]\n"
     ]
    }
   ],
   "source": [
    "\n",
    "## ================== Get a row and column portion ============== \n",
    "\n",
    "print(mat[:: , :2:])\n",
    "\n",
    "print(\"\\n\")\n",
    "print(mat[:2: , :2:])"
   ]
  },
  {
   "cell_type": "markdown",
   "id": "2eac85c9-9a5d-477d-85b9-9a70fcfd7eaa",
   "metadata": {},
   "source": [
    "## copy array"
   ]
  },
  {
   "cell_type": "code",
   "execution_count": null,
   "id": "f837b305-40d2-46fb-b821-17a527861d0e",
   "metadata": {},
   "outputs": [
    {
     "name": "stdout",
     "output_type": "stream",
     "text": [
      "[  1   2 500   4]\n",
      "[  2 500   4]\n",
      "[  1   2 500 500]\n",
      "[  2 500 500]\n"
     ]
    }
   ],
   "source": [
    "# if not copy its changes the pointer value\n",
    "print(arr1)\n",
    "\n",
    "arr_mod = arr1[1:4]\n",
    "print(arr_mod)\n",
    "\n",
    "arr1[3] = 500\n",
    "print(arr1)\n",
    "print(arr_mod)\n"
   ]
  },
  {
   "cell_type": "code",
   "execution_count": null,
   "id": "451403ab-a2a0-446a-97e1-758958e3ef8e",
   "metadata": {},
   "outputs": [
    {
     "name": "stdout",
     "output_type": "stream",
     "text": [
      "[  1   2 500   2]\n",
      "[  2 500   2]\n",
      "[  1  20 500   2]\n",
      "[  2 500   2]\n"
     ]
    }
   ],
   "source": [
    "print(arr1)\n",
    "\n",
    "arr_mod = arr1[1:4].copy()\n",
    "print(arr_mod)\n",
    "\n",
    "arr1[1] = 20\n",
    "print(arr1)\n",
    "print(arr_mod)\n"
   ]
  },
  {
   "cell_type": "markdown",
   "id": "05b27477-fe39-457a-bad4-50e5af0dab04",
   "metadata": {},
   "source": [
    "## Advanced Indexing"
   ]
  },
  {
   "cell_type": "code",
   "execution_count": null,
   "id": "736b3513-1cf0-45c6-95d1-fac7c3af3b94",
   "metadata": {},
   "outputs": [
    {
     "name": "stdout",
     "output_type": "stream",
     "text": [
      "[10 50 60]\n",
      "[[1 2 3]\n",
      " [4 5 6]]\n",
      "[2 6]\n"
     ]
    }
   ],
   "source": [
    "arr = np.array([10, 50, 40, 60])\n",
    "print(arr[[0, 1, 3]])\n",
    "\n",
    "\n",
    "print(arr2)\n",
    "print(arr2[[0,1], [1, 2]])"
   ]
  },
  {
   "cell_type": "code",
   "execution_count": null,
   "id": "968204e4-e844-4551-9e62-5ea218b3af27",
   "metadata": {},
   "outputs": [
    {
     "name": "stdout",
     "output_type": "stream",
     "text": [
      "[50 60]\n",
      "[10 50 40  0]\n"
     ]
    }
   ],
   "source": [
    "# bolean \n",
    "print(arr[arr >= 50])\n",
    "\n",
    "# all zero if logic match\n",
    "arr[arr > 50] = 0\n",
    "print(arr)"
   ]
  },
  {
   "cell_type": "markdown",
   "id": "829aad86-a816-4981-a3b6-01b9a18630e6",
   "metadata": {},
   "source": [
    "## Iteration"
   ]
  },
  {
   "cell_type": "code",
   "execution_count": null,
   "id": "a65c23dc-ed41-416a-a6b4-ddf147463e47",
   "metadata": {},
   "outputs": [
    {
     "name": "stdout",
     "output_type": "stream",
     "text": [
      "10\n",
      "50\n",
      "40\n",
      "0\n",
      "\n",
      "1\n",
      "2\n",
      "3\n",
      "4\n",
      "5\n",
      "6\n"
     ]
    }
   ],
   "source": [
    "# we can iterate any dimantion of array\n",
    "for val in np.nditer(arr):\n",
    "    print(val)\n",
    "\n",
    "print()\n",
    "# 2d array\n",
    "\n",
    "for val in np.nditer(arr2):\n",
    "    print(val)"
   ]
  },
  {
   "cell_type": "code",
   "execution_count": null,
   "id": "f2d7fdb3-8c76-4208-952f-4affc4732df1",
   "metadata": {},
   "outputs": [
    {
     "name": "stdout",
     "output_type": "stream",
     "text": [
      "[1 0 0 0 5]\n"
     ]
    }
   ],
   "source": [
    "arr =np.array([1,2,3,4,5])\n",
    "arr[1:4] = 0\n",
    "print(arr)"
   ]
  },
  {
   "cell_type": "markdown",
   "id": "ffa0a944-9b23-4675-9a2e-1281138253ba",
   "metadata": {},
   "source": [
    "## Practice Problems"
   ]
  },
  {
   "cell_type": "markdown",
   "id": "ca0b7a07-33dc-40b8-a5aa-2acc1c38888b",
   "metadata": {},
   "source": [
    "### 1. You have a list of temperatures recorded in Celsius. Your task is to:\n",
    "    - Create a NumPy array from the given list.\n",
    "    - Convert all temperatures from Celsius to Fahrenheit. The formula is F = C* 1.8 + 32.\n",
    "    - Print the new Fahrenheit array.\n"
   ]
  },
  {
   "cell_type": "code",
   "execution_count": null,
   "id": "6143daa2-bb86-4d71-8791-743c8d77887c",
   "metadata": {},
   "outputs": [
    {
     "name": "stdout",
     "output_type": "stream",
     "text": [
      "[59.  62.6 68.  73.4 77.  80.6 84.2 78.8 71.6 66.2]\n"
     ]
    }
   ],
   "source": [
    "temp = [15, 17, 20, 23, 25, 27, 29, 26, 22, 19]\n",
    "\n",
    "temp_array = np.array(temp)\n",
    "far_array = temp_array * 1.8 + 32\n",
    "print(far_array)"
   ]
  },
  {
   "cell_type": "markdown",
   "id": "1e6abb54-e8e0-4c31-883e-15d887723310",
   "metadata": {},
   "source": [
    "### 2.  You have a Python list containing the lap times (in seconds) for an athlete.\n",
    "    - Convert the list into a NumPy array.\n",
    "    - Print the array's shape, size, and data type.\n",
    "    - The athlete wants to see their times in minutes. Create a new array by dividing all the lap times by 60.\n",
    "    - Print the new array of lap times in minutes.\n"
   ]
  },
  {
   "cell_type": "code",
   "execution_count": null,
   "id": "6969057d-53cc-432e-8dcc-8e04293d5f2c",
   "metadata": {},
   "outputs": [
    {
     "name": "stdout",
     "output_type": "stream",
     "text": [
      "(8,)\n",
      "8\n",
      "float64\n",
      "[1.20833333 1.18       1.165      1.18666667 1.17166667 1.16166667\n",
      " 1.14833333 1.16833333]\n"
     ]
    }
   ],
   "source": [
    "lap_times = [72.5, 70.8, 69.9, 71.2, 70.3, 69.7, 68.9, 70.1]\n",
    "\n",
    "lap_times_arr = np.array(lap_times)\n",
    "print(lap_times_arr.shape)\n",
    "print(lap_times_arr.size)\n",
    "print(lap_times_arr.dtype)\n",
    "\n",
    "lap_times_min = lap_times_arr / 60\n",
    "print(lap_times_min)"
   ]
  },
  {
   "cell_type": "code",
   "execution_count": null,
   "id": "d47c5c12-4bd9-4fa9-b755-e8dc6f48baea",
   "metadata": {},
   "outputs": [],
   "source": []
  }
 ],
 "metadata": {
  "kernelspec": {
   "display_name": "venv",
   "language": "python",
   "name": "python3"
  },
  "language_info": {
   "codemirror_mode": {
    "name": "ipython",
    "version": 3
   },
   "file_extension": ".py",
   "mimetype": "text/x-python",
   "name": "python",
   "nbconvert_exporter": "python",
   "pygments_lexer": "ipython3",
   "version": "3.12.11"
  }
 },
 "nbformat": 4,
 "nbformat_minor": 5
}
