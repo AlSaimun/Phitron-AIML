{
 "cells": [
  {
   "cell_type": "markdown",
   "id": "207ee37f-a505-4bb2-ac5a-e1b947678307",
   "metadata": {},
   "source": [
    "## Numpy array manipulation"
   ]
  },
  {
   "cell_type": "code",
   "execution_count": 16,
   "id": "8c346b7e-9cc3-4190-b830-e90c25c54fe5",
   "metadata": {},
   "outputs": [],
   "source": [
    "import numpy as np"
   ]
  },
  {
   "cell_type": "code",
   "execution_count": 17,
   "id": "7c72e575-d4e6-4eac-9ff3-b460f93411c6",
   "metadata": {},
   "outputs": [
    {
     "name": "stdout",
     "output_type": "stream",
     "text": [
      "[[1 4 6 8]\n",
      " [1 1 4 4]\n",
      " [4 1 2 1]]\n",
      "[[13 23 18 22]\n",
      " [17 14 18 21]\n",
      " [22 15 14 13]]\n"
     ]
    }
   ],
   "source": [
    "arr1 = np.random.randint(1, 10, size=(3, 4))\n",
    "arr2 = np.random.randint(12, 24, size=(3, 4))\n",
    "\n",
    "print(arr1)\n",
    "print(arr2)"
   ]
  },
  {
   "cell_type": "code",
   "execution_count": 18,
   "id": "eddca452-7f36-4d4b-89fb-e3ed3cee0e27",
   "metadata": {},
   "outputs": [
    {
     "name": "stdout",
     "output_type": "stream",
     "text": [
      "[[1 4 6 8 1 1 4 4 4 1 2 1]]\n",
      "[13 23 18 22 17 14 18 21 22 15 14 13]\n"
     ]
    }
   ],
   "source": [
    "a = arr1.reshape(1, 12)\n",
    "print(a)\n",
    "\n",
    "b = arr2.flatten()\n",
    "print(b)"
   ]
  },
  {
   "cell_type": "code",
   "execution_count": 19,
   "id": "2ecfdc2d-bd3d-42b3-9c50-49c580db17bf",
   "metadata": {},
   "outputs": [
    {
     "name": "stdout",
     "output_type": "stream",
     "text": [
      "[1 1 4 4 1 1 6 4 2 8 4 1]\n",
      "[1 4 6 8 1 1 4 4 4 1 2 1]\n"
     ]
    }
   ],
   "source": [
    "# column wise reshape\n",
    "col_shape = np.ravel(arr1, order='F')\n",
    "print(col_shape)\n",
    "\n",
    "# column wise reshape\n",
    "row_shape = np.ravel(arr1, order='C')\n",
    "print(row_shape)"
   ]
  },
  {
   "cell_type": "markdown",
   "id": "56895531-70d5-4df7-82f8-d6dc8a790022",
   "metadata": {},
   "source": [
    "## Concate"
   ]
  },
  {
   "cell_type": "code",
   "execution_count": 20,
   "id": "5eeeef09-2e57-4130-b746-9d6d95c2ca3f",
   "metadata": {},
   "outputs": [
    {
     "name": "stdout",
     "output_type": "stream",
     "text": [
      "[[6 3 4 2]\n",
      " [8 9 8 8]\n",
      " [1 2 9 6]]\n",
      "[[21 19 20 12]\n",
      " [13 15 23 18]\n",
      " [14 23 16 12]]\n"
     ]
    }
   ],
   "source": [
    "arr1 = np.random.randint(1, 10, size=(3, 4))\n",
    "arr2 = np.random.randint(12, 24, size=(3, 4))\n",
    "print(arr1)\n",
    "print(arr2)"
   ]
  },
  {
   "cell_type": "code",
   "execution_count": 21,
   "id": "a5a808d7-b10e-4859-a330-c20af657488d",
   "metadata": {},
   "outputs": [
    {
     "name": "stdout",
     "output_type": "stream",
     "text": [
      "[[ 6  3  4  2]\n",
      " [ 8  9  8  8]\n",
      " [ 1  2  9  6]\n",
      " [21 19 20 12]\n",
      " [13 15 23 18]\n",
      " [14 23 16 12]]\n",
      "[[ 6  3  4  2 21 19 20 12]\n",
      " [ 8  9  8  8 13 15 23 18]\n",
      " [ 1  2  9  6 14 23 16 12]]\n"
     ]
    }
   ],
   "source": [
    "x = np.concat((arr1, arr2), axis = 0) # row wise\n",
    "print(x)\n",
    "\n",
    "y = np.concat((arr1, arr2), axis = 1) # row wise\n",
    "print(y)\n"
   ]
  },
  {
   "cell_type": "code",
   "execution_count": 22,
   "id": "54003169-9b4d-405e-8108-8a5d9154e28c",
   "metadata": {},
   "outputs": [],
   "source": [
    "# error because :\n",
    "# row wise concate korte hobe column same hobe\n",
    "# column wise concate korle row same hote hobe\n",
    "\n",
    "arr3 = np.random.randint(40, 50, size=(1, 2))\n",
    "# z = np.concat((arr1, arr3), axis=0)\n",
    "# print(z)\n"
   ]
  },
  {
   "cell_type": "code",
   "execution_count": 23,
   "id": "abe20599-bf9f-4d6b-9111-c92026e1321a",
   "metadata": {},
   "outputs": [
    {
     "name": "stdout",
     "output_type": "stream",
     "text": [
      "(3, 4) (1, 4)\n",
      "[[ 6  3  4  2]\n",
      " [ 8  9  8  8]\n",
      " [ 1  2  9  6]\n",
      " [43 47 41 43]]\n"
     ]
    }
   ],
   "source": [
    "arr4 = np.random.randint(40, 50, size=(1, 4))\n",
    "print(arr1.shape, arr4.shape)\n",
    "z = np.concat((arr1, arr4), axis=0)\n",
    "print(z)\n",
    "\n",
    "# but can't concate column wise because row are not same"
   ]
  },
  {
   "cell_type": "code",
   "execution_count": 24,
   "id": "fb28585a-35b8-425d-9ce7-83e5ef43ea3f",
   "metadata": {},
   "outputs": [
    {
     "name": "stdout",
     "output_type": "stream",
     "text": [
      "[[1 5]\n",
      " [2 6]\n",
      " [3 7]\n",
      " [4 8]]\n"
     ]
    }
   ],
   "source": [
    "# Transpose matrix\n",
    "\n",
    "a = np.array([1, 2, 3, 4])\n",
    "b = np.array([5, 6, 7, 8])\n",
    "\n",
    "x = np.array([a, b])\n",
    "\n",
    "tanspose_mat = x.T\n",
    "print(tanspose_mat)"
   ]
  },
  {
   "cell_type": "code",
   "execution_count": 25,
   "id": "a19dc4e8-40f1-4e9f-962a-9595c07828ac",
   "metadata": {},
   "outputs": [
    {
     "name": "stdout",
     "output_type": "stream",
     "text": [
      "[8 4 6 3 1 8 3 2 8 4]\n",
      "[array([8, 4]), array([6, 3]), array([1, 8]), array([3, 2]), array([8, 4])]\n",
      "[array([8, 4, 6, 3]), array([1, 8, 3]), array([2, 8, 4])]\n",
      "[array([8, 4, 6, 3, 1]), array([8, 3, 2, 8, 4])]\n"
     ]
    },
    {
     "ename": "ValueError",
     "evalue": "array split does not result in an equal division",
     "output_type": "error",
     "traceback": [
      "\u001b[31m---------------------------------------------------------------------------\u001b[39m",
      "\u001b[31mValueError\u001b[39m                                Traceback (most recent call last)",
      "\u001b[36mCell\u001b[39m\u001b[36m \u001b[39m\u001b[32mIn[25]\u001b[39m\u001b[32m, line 17\u001b[39m\n\u001b[32m     14\u001b[39m \u001b[38;5;28mprint\u001b[39m(splited_arr)\n\u001b[32m     16\u001b[39m \u001b[38;5;66;03m# error\u001b[39;00m\n\u001b[32m---> \u001b[39m\u001b[32m17\u001b[39m splited_arr = \u001b[43mnp\u001b[49m\u001b[43m.\u001b[49m\u001b[43msplit\u001b[49m\u001b[43m(\u001b[49m\u001b[43ma\u001b[49m\u001b[43m,\u001b[49m\u001b[43m \u001b[49m\u001b[32;43m4\u001b[39;49m\u001b[43m)\u001b[49m\n\u001b[32m     18\u001b[39m \u001b[38;5;28mprint\u001b[39m(splited_arr)\n",
      "\u001b[36mFile \u001b[39m\u001b[32m~/Desktop/phitron AIML/venv/lib/python3.12/site-packages/numpy/lib/_shape_base_impl.py:884\u001b[39m, in \u001b[36msplit\u001b[39m\u001b[34m(ary, indices_or_sections, axis)\u001b[39m\n\u001b[32m    882\u001b[39m     N = ary.shape[axis]\n\u001b[32m    883\u001b[39m     \u001b[38;5;28;01mif\u001b[39;00m N % sections:\n\u001b[32m--> \u001b[39m\u001b[32m884\u001b[39m         \u001b[38;5;28;01mraise\u001b[39;00m \u001b[38;5;167;01mValueError\u001b[39;00m(\n\u001b[32m    885\u001b[39m             \u001b[33m'\u001b[39m\u001b[33marray split does not result in an equal division\u001b[39m\u001b[33m'\u001b[39m) \u001b[38;5;28;01mfrom\u001b[39;00m\u001b[38;5;250m \u001b[39m\u001b[38;5;28;01mNone\u001b[39;00m\n\u001b[32m    886\u001b[39m \u001b[38;5;28;01mreturn\u001b[39;00m array_split(ary, indices_or_sections, axis)\n",
      "\u001b[31mValueError\u001b[39m: array split does not result in an equal division"
     ]
    }
   ],
   "source": [
    "# Splite array without equel division\n",
    "\n",
    "a = np.random.randint(1, 10, size=(10))\n",
    "splited_arr = np.array_split(a, 5)\n",
    "print(a)\n",
    "\n",
    "print(splited_arr)\n",
    "\n",
    "splited_arr = np.array_split(a, 3)\n",
    "print(splited_arr)\n",
    "\n",
    "# perfect splite when need equel division and must be divided\n",
    "splited_arr = np.split(a, 2)\n",
    "print(splited_arr)\n",
    "\n",
    "# error\n",
    "splited_arr = np.split(a, 4)\n",
    "print(splited_arr)"
   ]
  },
  {
   "cell_type": "markdown",
   "id": "d83aef48-9b17-45bf-bb22-2d148a7074f4",
   "metadata": {},
   "source": [
    "## Arithmatical operation and Mathematical function"
   ]
  },
  {
   "cell_type": "code",
   "execution_count": null,
   "id": "3d061e53-357e-4aff-812a-79b7defc3a7a",
   "metadata": {},
   "outputs": [],
   "source": [
    "x = np.array([10, 20, 30, 100])\n",
    "y = np.array([20, 40, 50, 100])\n",
    "\n",
    "\n",
    "# addition\n",
    "print(x + y)\n",
    "print(np.add(x,y))\n",
    "\n",
    "# subtract\n",
    "print(y - x)\n",
    "print(np.subtract(x,y))\n",
    "\n",
    "\n",
    "# multiply\n",
    "print(y * x)\n",
    "print(np.multiply(x,y))\n",
    "\n",
    "# modolus\n",
    "print(y % x)\n",
    "print(np.mod(x,y))\n"
   ]
  },
  {
   "cell_type": "code",
   "execution_count": null,
   "id": "d9a38d33-bf11-464f-bbe6-45e037b82b12",
   "metadata": {},
   "outputs": [],
   "source": [
    "# Trigonomiti\n",
    "z = np.array([5, 30, 90, 100])\n",
    "\n",
    "# z is rediant\n",
    "print(np.sin(z))\n",
    "\n",
    "# degre to rediant\n",
    "rad = np.deg2rad(z)\n",
    "print(rad)\n",
    "\n",
    "print(np.sin(rad))\n",
    "\n",
    "\n",
    "# cos\n",
    "print(np.cos(rad))"
   ]
  },
  {
   "cell_type": "code",
   "execution_count": null,
   "id": "3ebfd4b0-a2b2-414a-8f03-bb6b91b21b61",
   "metadata": {},
   "outputs": [],
   "source": [
    "# log\n",
    "print(np.log10(z))\n",
    "\n",
    "x = np.array([5, 128, 90, 100])\n",
    "print(np.log2(x))"
   ]
  },
  {
   "cell_type": "code",
   "execution_count": null,
   "id": "e2c537a1-8139-4ada-a1ee-438d46007d29",
   "metadata": {},
   "outputs": [],
   "source": [
    "print(np.cumulative_sum(x))\n",
    "\n",
    "print(np.cumulative_prod(x))\n",
    "\n",
    "print(np.lcm(x, y))\n",
    "print(np.gcd(x, y))\n"
   ]
  },
  {
   "cell_type": "code",
   "execution_count": null,
   "id": "be25521a-0ce0-413c-83d6-08f97c0a8bd8",
   "metadata": {},
   "outputs": [],
   "source": [
    "# brodcasting\n",
    "z = np.array([5, 30, 90, 100])\n",
    "print(z ** 2)  # broadcasting\n",
    "\n",
    "print(z + 2)  # broadcasting\n",
    "\n",
    "arr1 = np.random.randint(1, 10, size=(3, 4))\n",
    "ans = z + arr1\n",
    "print(ans)\n",
    "\n",
    "# error\n",
    "arr1 = np.random.randint(1, 10, size=(3, 3))\n",
    "ans = z + arr1\n",
    "print(ans)\n",
    "\n",
    "# column size should be same\n"
   ]
  },
  {
   "cell_type": "markdown",
   "id": "24b7c998-f85e-4101-a1de-ac133ce3a6f7",
   "metadata": {},
   "source": [
    "## Logical operator"
   ]
  },
  {
   "cell_type": "code",
   "execution_count": null,
   "id": "6a27ece0-b5c8-4518-93e7-6e33aae79b28",
   "metadata": {},
   "outputs": [],
   "source": [
    "greater = z > 50\n",
    "print(greater)\n",
    "\n",
    "eq = z >= 90\n",
    "print(eq)\n",
    "\n",
    "print(x)\n",
    "print(z)\n",
    "print(x > z)\n",
    "\n",
    "print(np.all(x > 1)) # check all are true\n",
    "\n",
    "\n",
    "print(np.any(z >= 100)) # check all are true\n",
    "\n",
    "\n",
    "print(np.any(z < 0)) # check all are true"
   ]
  },
  {
   "cell_type": "markdown",
   "id": "64656aff-a976-4474-bb6f-45ee9307e998",
   "metadata": {},
   "source": [
    "## Sorting"
   ]
  },
  {
   "cell_type": "code",
   "execution_count": null,
   "id": "56cea681-54fc-4c94-be08-b90021477f42",
   "metadata": {},
   "outputs": [],
   "source": [
    "# inplace sorting\n",
    "\n",
    "x = np.array([10, 2, 5, 9, 50])\n",
    "\n",
    "z = x.copy()\n",
    "print(z)\n",
    "z.sort()\n",
    "print(z)"
   ]
  },
  {
   "cell_type": "code",
   "execution_count": null,
   "id": "0122d63b-594b-4717-a460-6242b40e304a",
   "metadata": {},
   "outputs": [],
   "source": [
    "# copy sort\n",
    "sorted_arra = np.sort(x)\n",
    "print(sorted_arra)\n",
    "print(x)"
   ]
  },
  {
   "cell_type": "code",
   "execution_count": null,
   "id": "3ef4dbdf-12dd-4dd1-be79-c45e1509fb05",
   "metadata": {},
   "outputs": [],
   "source": [
    "# 2d array sort\n",
    "x = np.array([[10, 2, 5], [5, 6, 7]])\n",
    "print(x)\n",
    "\n",
    "# axis 0 = vertical sort\n",
    "# axis 1 = horizontal sort\n",
    "print(np.sort(x, axis=0))\n",
    "print(np.sort(x, axis=1))\n"
   ]
  },
  {
   "cell_type": "markdown",
   "id": "8f9fa238-9e1d-4084-a6f2-f836683fdf9b",
   "metadata": {},
   "source": [
    "## Searching "
   ]
  },
  {
   "cell_type": "code",
   "execution_count": null,
   "id": "af1e4f6a-6e62-416e-a285-23d0472fd593",
   "metadata": {},
   "outputs": [],
   "source": [
    "x = np.array([10, 2, 5, 9, 50])\n",
    "\n",
    "# indexes of searching\n",
    "idx = np.where(x >= 10)\n",
    "print(idx)\n",
    "\n",
    "# search and replace\n",
    "idx = np.where(x >= 10, x,-1)\n",
    "print(idx)"
   ]
  },
  {
   "cell_type": "code",
   "execution_count": null,
   "id": "89e78f62-98de-422c-ab35-217228d7a81d",
   "metadata": {},
   "outputs": [],
   "source": [
    "# for 2d array searching \n",
    "x = np.array([[10, 2, 5], [5, 6, 7]])\n",
    "idx = np.where(x > 5)\n",
    "print(idx)\n",
    "\n",
    "# (array([0, 1, 1]), array([0, 1, 2]))\n",
    "#    (rows), (col) like x[0][0] > 5\n",
    "idx = np.where(x > 5)\n",
    "print(idx)"
   ]
  },
  {
   "cell_type": "code",
   "execution_count": null,
   "id": "626fa03c-cb7b-44fe-9c5e-133bd7423523",
   "metadata": {},
   "outputs": [],
   "source": [
    "# max min index\n",
    "# result first occurence\n",
    "x = np.array([10, 2, 5, 9, 50])\n",
    "max_ids = np.argmax(x)\n",
    "print(max_ids)\n",
    "\n",
    "y = np.array([[10, 2, 5], [5, 6, 700]])\n",
    "max_ids = np.argmax(y)\n",
    "print(max_ids)\n",
    "\n",
    "\n",
    "# max min index\n",
    "# result first occurence\n",
    "x = np.array([10, 2, 5, 9, 50])\n",
    "min_ids = np.argmin(x)\n",
    "print(min_ids)\n",
    "\n",
    "y = np.array([[10, 2, 5], [5, 0, 700]])\n",
    "min_ids = np.argmin(y)\n",
    "print(min_ids)"
   ]
  },
  {
   "cell_type": "code",
   "execution_count": null,
   "id": "76621338-2221-42f4-b533-41b6c5a15da4",
   "metadata": {},
   "outputs": [],
   "source": [
    "x = np.random.randint(1, 100, size=(100))\n",
    "x"
   ]
  },
  {
   "cell_type": "code",
   "execution_count": null,
   "id": "3a2accfa-f88f-4c69-bd08-2a3eee1201f6",
   "metadata": {},
   "outputs": [],
   "source": [
    "print(np.count_nonzero(x > 50))\n",
    "print(np.count_nonzero(x > 80))"
   ]
  },
  {
   "cell_type": "code",
   "execution_count": null,
   "id": "c1aadd37-ea95-4363-8df6-9f8e04c59eea",
   "metadata": {},
   "outputs": [],
   "source": [
    "y = np.array([[10, 2, 50], [5, 60, 70]])\n",
    "y"
   ]
  },
  {
   "cell_type": "code",
   "execution_count": null,
   "id": "be44931e-79bf-4436-8db5-c903d3b5c9b0",
   "metadata": {},
   "outputs": [],
   "source": [
    "print(np.count_nonzero(y > 10))\n",
    "print(np.count_nonzero(y > 10, axis=1, keepdims=True)) # row wise\n",
    "print(np.count_nonzero(y > 10, axis=0, keepdims=True)) # col wise"
   ]
  },
  {
   "cell_type": "code",
   "execution_count": null,
   "id": "1d2d6834-996f-404c-bfcb-974462da910b",
   "metadata": {},
   "outputs": [],
   "source": [
    "print(np.unique(x))\n",
    "print(np.unique(x, return_counts=True))\n",
    "print(np.unique(x, return_index=True))\n",
    "\n"
   ]
  },
  {
   "cell_type": "code",
   "execution_count": null,
   "id": "961f8069-25cb-43b0-851c-6d67ff5dfea1",
   "metadata": {},
   "outputs": [],
   "source": [
    "y = np.array([[10, 2, 2], [5, 60, 70]])\n",
    "print(y)\n",
    "\n",
    "print(np.unique(y))\n",
    "print(np.unique(y, axis=0)) # row wise\n",
    "print(np.unique(y, axis=1)) # col wise"
   ]
  },
  {
   "cell_type": "markdown",
   "id": "cd5ed5b4-1520-4142-8d21-8117733c8aa2",
   "metadata": {},
   "source": [
    "## Statistics fucntion"
   ]
  },
  {
   "cell_type": "code",
   "execution_count": 27,
   "id": "b2518ea8-f997-4811-90ca-2f52dc43ca6b",
   "metadata": {},
   "outputs": [
    {
     "data": {
      "text/plain": [
       "array([[78., 85., 82.],\n",
       "       [56., 67., 72.],\n",
       "       [89., 92., 88.],\n",
       "       [45., 52., 58.],\n",
       "       [70., 75., 80.],\n",
       "       [92., 90., 91.],\n",
       "       [61., 60., 62.],\n",
       "       [55., 57., 54.],\n",
       "       [88., 89., 87.],\n",
       "       [74., 70., 76.],\n",
       "       [66., 69., 68.],\n",
       "       [80., 82., 81.],\n",
       "       [59., 64., 60.],\n",
       "       [73., 78., 74.],\n",
       "       [91., 93., 90.],\n",
       "       [68., 71., 69.],\n",
       "       [77., 79., 78.],\n",
       "       [84., 86., 85.],\n",
       "       [62., 63., 65.],\n",
       "       [95., 97., 96.]])"
      ]
     },
     "execution_count": 27,
     "metadata": {},
     "output_type": "execute_result"
    }
   ],
   "source": [
    "# load data\n",
    "data = np.genfromtxt('student_scores.csv', delimiter=',', skip_header=1)\n",
    "data"
   ]
  },
  {
   "cell_type": "code",
   "execution_count": 28,
   "id": "9a3a88c9-e3a0-4570-96c3-33f0be4ea057",
   "metadata": {},
   "outputs": [
    {
     "name": "stdout",
     "output_type": "stream",
     "text": [
      "[[78. 56. 89. 45. 70. 92. 61. 55. 88. 74. 66. 80. 59. 73. 91. 68. 77. 84.\n",
      "  62. 95.]]\n",
      "max mark: 95.0\n",
      "min mark: 45.0\n",
      "average mark: 73.15, 73.15\n",
      "median mark: 73.5\n",
      "standart mark: 13.788672887555204\n"
     ]
    }
   ],
   "source": [
    "# statistics fucntion\n",
    "\n",
    "math_data = data[::, :1:]\n",
    "print(math_data.T)\n",
    "\n",
    "max_marks = np.max(math_data)\n",
    "print(f\"max mark: {max_marks}\")\n",
    "\n",
    "min_marks = np.min(math_data)\n",
    "print(f\"min mark: {min_marks}\")\n",
    "\n",
    "avg_marks = np.average(math_data)\n",
    "print(f\"average mark: {avg_marks}, {np.mean(math_data)}\")\n",
    "\n",
    "median_math_marks = np.median(math_data)\n",
    "print(f\"median mark: {median_math_marks}\") \n",
    "\n",
    "std_marks = np.std(math_data)\n",
    "print(f\"standart mark: {std_marks}\")\n",
    "\n",
    "# for i in math_data.astype(np.int64).flatten():\n",
    "#     print(i)"
   ]
  },
  {
   "cell_type": "code",
   "execution_count": null,
   "id": "c727c0e7-a79c-4d3d-984a-45335f6f760f",
   "metadata": {},
   "outputs": [
    {
     "name": "stdout",
     "output_type": "stream",
     "text": [
      "Correlation Matrix:\n",
      " [[1.        0.9953792]\n",
      " [0.9953792 1.       ]]\n"
     ]
    }
   ],
   "source": [
    "study_hours = np.array([2, 4, 5, 7, 8])\n",
    "exam_scores = np.array([65, 75, 78, 88, 90])\n",
    "\n",
    "data = np.array([study_hours, exam_scores])\n",
    "\n",
    "correlation = np.corrcoef(data)\n",
    "\n",
    "print(\"Correlation Matrix:\\n\", correlation)"
   ]
  },
  {
   "cell_type": "markdown",
   "id": "8e0cc104-3fd2-4ac8-bbde-a83ab473b9b3",
   "metadata": {},
   "source": [
    "## linear algebra"
   ]
  },
  {
   "cell_type": "code",
   "execution_count": null,
   "id": "084eb4a9-31a9-4d23-a913-7f290fb6055b",
   "metadata": {},
   "outputs": [
    {
     "name": "stdout",
     "output_type": "stream",
     "text": [
      "[[ 58  64]\n",
      " [139 154]]\n"
     ]
    }
   ],
   "source": [
    "A = np.array([\n",
    "    [1, 2, 3],\n",
    "    [4, 5, 6]\n",
    "])\n",
    "\n",
    "B = np.array([\n",
    "    [7, 8],\n",
    "    [9, 10],\n",
    "    [11, 12]\n",
    "])\n",
    "\n",
    "dot_product = np.dot(A, B)\n",
    "print(dot_product)"
   ]
  },
  {
   "cell_type": "code",
   "execution_count": null,
   "id": "da7b0fea-0154-4499-a269-cd80e2005753",
   "metadata": {},
   "outputs": [
    {
     "name": "stdout",
     "output_type": "stream",
     "text": [
      "16\n",
      "[ 1  5 10]\n",
      "[9 5 3]\n"
     ]
    }
   ],
   "source": [
    "# diagonal value sum/Trace\n",
    "A = np.array([\n",
    "    [1, 2, 3],\n",
    "    [4, 5, 6],\n",
    "    [9, 4, 10],\n",
    "]) \n",
    "# 1 + 5 + 10\n",
    "print(np.trace(A))\n",
    "print(np.diagonal(A)) # primary diagonal\n",
    "\n",
    "print(np.flipud(A).diagonal()) # 2nd diagonal"
   ]
  },
  {
   "cell_type": "code",
   "execution_count": null,
   "id": "1fcf9849-dae7-441a-8b3e-942cb7cfece9",
   "metadata": {},
   "outputs": [
    {
     "name": "stdout",
     "output_type": "stream",
     "text": [
      "-33.0\n",
      "3\n",
      "[[ 1  4  9]\n",
      " [ 2  5  4]\n",
      " [ 3  6 10]]\n",
      "<function <lambda> at 0x177b16980>\n"
     ]
    }
   ],
   "source": [
    "# determinate\n",
    "det_A = np.linalg.det(A)\n",
    "print(det_A)\n",
    "\n",
    "# rank\n",
    "rank_A = np.linalg.matrix_rank(A)\n",
    "print(rank_A)\n",
    "\n",
    "print(np.linalg.matrix_transpose(A))\n",
    "\n",
    "mode = 'col'\n",
    "axis = lambda st: 1 if st == 'row' else 0\n",
    "print(axis)"
   ]
  },
  {
   "cell_type": "code",
   "execution_count": null,
   "id": "a6f2f79e-b6b7-4120-a03a-299ed4e252f9",
   "metadata": {},
   "outputs": [
    {
     "name": "stdout",
     "output_type": "stream",
     "text": [
      "[[19 22]\n",
      " [43 50]]\n"
     ]
    }
   ],
   "source": [
    "A = np.array([[1, 2], [3, 4]])\n",
    "B = np.array([[5, 6], [7, 8]])\n",
    "\n",
    "print(np.dot(A, B))"
   ]
  },
  {
   "cell_type": "markdown",
   "id": "22f3aa37-8d00-4e08-a08e-8777cb4982a5",
   "metadata": {},
   "source": [
    "## Practice problems"
   ]
  },
  {
   "cell_type": "markdown",
   "id": "87358c7e-04c7-454a-a96e-4d3ab4d349bd",
   "metadata": {},
   "source": [
    "#### 1 . Create a 1D, 2D, and 3D NumPy array and print their dimensions and shapes."
   ]
  },
  {
   "cell_type": "code",
   "execution_count": null,
   "id": "66ed6dde-8ccf-457b-a3e1-e5fff8caee26",
   "metadata": {},
   "outputs": [
    {
     "name": "stdout",
     "output_type": "stream",
     "text": [
      "1 (3,)\n",
      "2 (3, 4)\n",
      "3 (3, 2, 3)\n",
      "[[[1 2 3]\n",
      "  [4 5 6]]\n",
      "\n",
      " [[1 2 3]\n",
      "  [4 5 6]]\n",
      "\n",
      " [[1 2 3]\n",
      "  [4 5 6]]]\n"
     ]
    }
   ],
   "source": [
    "arr1 = np.array([1, 2, 3])\n",
    "arra2 = np.array([\n",
    "                    [1, 2, 3],\n",
    "                    [4, 5, 6]\n",
    "                ])\n",
    "\n",
    "arr3 = np.array([\n",
    "                    [\n",
    "                        [1, 2, 3],\n",
    "                        [4, 5, 6],\n",
    "                    ],\n",
    "                    [\n",
    "                        [1, 2, 3],\n",
    "                        [4, 5, 6]\n",
    "                    ],\n",
    "                    [\n",
    "                        [1, 2, 3],\n",
    "                        [4, 5, 6]\n",
    "                    ],\n",
    "])\n",
    "    \n",
    "print(arr1.ndim, arr1.shape)\n",
    "print(arr2.ndim, arr2.shape)\n",
    "print(arr3.ndim, arr3.shape)\n",
    "print(arr3)"
   ]
  }
 ],
 "metadata": {
  "kernelspec": {
   "display_name": "venv",
   "language": "python",
   "name": "python3"
  },
  "language_info": {
   "codemirror_mode": {
    "name": "ipython",
    "version": 3
   },
   "file_extension": ".py",
   "mimetype": "text/x-python",
   "name": "python",
   "nbconvert_exporter": "python",
   "pygments_lexer": "ipython3",
   "version": "3.12.11"
  }
 },
 "nbformat": 4,
 "nbformat_minor": 5
}
