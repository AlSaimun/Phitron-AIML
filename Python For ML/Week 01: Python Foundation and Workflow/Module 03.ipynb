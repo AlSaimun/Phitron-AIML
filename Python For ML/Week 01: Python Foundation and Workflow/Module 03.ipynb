{
 "cells": [
  {
   "cell_type": "markdown",
   "id": "1f97e9ef-4e7c-45ac-ba31-cb23bf0a1707",
   "metadata": {
    "jp-MarkdownHeadingCollapsed": true
   },
   "source": [
    "## String Operations"
   ]
  },
  {
   "cell_type": "code",
   "execution_count": 4,
   "id": "0b66efa3-1e2e-4350-8860-c3418c835986",
   "metadata": {},
   "outputs": [
    {
     "name": "stdout",
     "output_type": "stream",
     "text": [
      "This is also\n",
      "a multiline string.\n",
      "Both work the same way!\n"
     ]
    }
   ],
   "source": [
    "message = \"\"\"This is also\n",
    "a multiline string.\n",
    "Both work the same way!\"\"\"\n",
    "print(message)\n"
   ]
  },
  {
   "cell_type": "code",
   "execution_count": 11,
   "id": "446b87c4-177d-4679-87e4-4c3096e14149",
   "metadata": {},
   "outputs": [
    {
     "name": "stdout",
     "output_type": "stream",
     "text": [
      "This is also\n",
      "a multiline string\n"
     ]
    }
   ],
   "source": [
    "st = message[:31]\n",
    "print(st)"
   ]
  },
  {
   "cell_type": "markdown",
   "id": "2066d569-6b57-4b06-87ba-ddcf14deb9c5",
   "metadata": {},
   "source": [
    "### String slicing"
   ]
  },
  {
   "cell_type": "markdown",
   "id": "b48f60de-b6e3-4d3c-ad0f-7e182667da39",
   "metadata": {},
   "source": [
    "```\n",
    "Positive Indexing →  0   1   2   3   4   5   6   7   8   9   10  11\n",
    "                     H   e   l   l   o       w   o   r   l   d   !\n",
    "\n",
    "Negative Indexing →  -12 -11 -10  -9  -8  -7  -6  -5  -4  -3  -2  -1\n",
    "                      H   e   l   l   o       w   o   r   l   d    !\n",
    "\n",
    "string[start : end : increament]\n",
    "```"
   ]
  },
  {
   "cell_type": "code",
   "execution_count": 16,
   "id": "5adb54f0-23da-4989-bc7b-b38e7c2a1879",
   "metadata": {},
   "outputs": [
    {
     "name": "stdout",
     "output_type": "stream",
     "text": [
      "d\n",
      "!\n",
      "o\n"
     ]
    }
   ],
   "source": [
    "#   Positive Indexing →  0   1   2   3   4   5   6   7   8   9   10  11\n",
    "#                         H   e   l   l   o       w   o   r   l   d   !\n",
    "#\n",
    "#   Negative Indexing →  -12 -11 -10  -9  -8  -7  -6  -5  -4  -3  -2  -1\n",
    "#                         H   e   l   l   o       w   o   r   l   d    !       \n",
    "st2 = \"Hello world!\"\n",
    "print(st2[10])\n",
    "print(st2[-1])\n",
    "print(st2[-5])"
   ]
  },
  {
   "cell_type": "markdown",
   "id": "77d5716e-1acc-46bf-b0a8-21e775f5d662",
   "metadata": {},
   "source": [
    "### String methods"
   ]
  },
  {
   "cell_type": "code",
   "execution_count": 40,
   "id": "6867e74e-03e8-4143-b97e-c5b77f2c1d4c",
   "metadata": {},
   "outputs": [
    {
     "name": "stdout",
     "output_type": "stream",
     "text": [
      "48\n",
      "Hello, and welcome to my world. hello, everybody\n",
      "Hello, And Welcome To My World. Hello, Everybody\n",
      "hello, and welcome to my world. hello, everybody\n",
      "HELLO, AND WELCOME TO MY WORLD. HELLO, EVERYBODY\n",
      "2\n",
      "0\n",
      "32\n",
      "hi, and Welcome to my world. hi, everybody\n",
      "0000000123\n",
      "hi!!!, and Wi!c!mi t! my w!r!d. hi!!!, iviryb!dy\n"
     ]
    }
   ],
   "source": [
    "string = \"hello, and Welcome to my world. hello, everybody\"\n",
    "\n",
    "print(len(string)) # length of string\n",
    "\n",
    "# make sentance title case\n",
    "print(string.capitalize()) \n",
    "print(string.title())\n",
    "\n",
    "# lower case\n",
    "print(string.lower())\n",
    "# Upper case\n",
    "print(string.upper())\n",
    "\n",
    "# count substring\n",
    "print(string.count(\"hello\"))\n",
    "\n",
    "# find index of a substring from left to right get first\n",
    "print(string.find(\"hello\"))\n",
    "# find index of a substring from right to left get first\n",
    "print(string.rfind(\"hello\"))\n",
    "\n",
    "# replace a substring\n",
    "st2 = string.replace(\"hello\", \"hi\") # python is immutable so \"string\" not changed\n",
    "print(st2)\n",
    "\n",
    "print(\"123\".zfill(10)) # fill zero \n",
    "\n",
    "# translation\n",
    "t_map = string.maketrans(\"hello\", \"hi!!!\") \n",
    "print(string.translate(t_map))\n",
    "\n"
   ]
  },
  {
   "cell_type": "markdown",
   "id": "0dab92e2-5670-4043-89f1-ed1bdf8ea182",
   "metadata": {},
   "source": [
    "### Split, joinning, formatting"
   ]
  },
  {
   "cell_type": "code",
   "execution_count": 73,
   "id": "1663f5d5-57e6-43dc-b6ab-7a472a1f46af",
   "metadata": {},
   "outputs": [
    {
     "name": "stdout",
     "output_type": "stream",
     "text": [
      "['hello,', 'and', 'Welcome', 'to', 'my', 'world.', 'hello,', 'everybody']\n",
      "['hello', ' and Welcome to my world. hello', ' everybody']\n",
      "hello,, and, Welcome, to, my, world., hello,, everybody\n",
      "hello,_and_Welcome_to_my_world._hello,_everybody\n",
      "hello world! python\n",
      "hello world! python\n",
      "hello world! python\n",
      "The amount is 80.56\n",
      "The amount is 88.000%\n"
     ]
    }
   ],
   "source": [
    "string = \"hello, and Welcome to my world. hello, everybody\"\n",
    "\n",
    "# splite\n",
    "print(string.split())\n",
    "print(string.split(','))\n",
    "\n",
    "# joinning\n",
    "joinning_word = \", \".join(string.split())\n",
    "joinning_word2 = \"_\".join(string.split())\n",
    "\n",
    "print(joinning_word)\n",
    "print(joinning_word2)\n",
    "\n",
    "# formating\n",
    "lg = \"python\"\n",
    "print(\"hello world! {}\".format(lg))\n",
    "print(\"hello world! {lan}\".format(lan=lg))\n",
    "print(f\"hello world! {lg}\")\n",
    "\n",
    "amount = 80.5555\n",
    "print(\"The amount is {:.2f}\".format(amount))\n",
    "print(f\"The amount is {.880:.3%}\")"
   ]
  },
  {
   "cell_type": "markdown",
   "id": "6473eeff-26ce-4697-96cd-f3944d29e3e7",
   "metadata": {},
   "source": [
    "## List "
   ]
  },
  {
   "cell_type": "markdown",
   "id": "72254a9a-e6dd-45e3-bbe9-9119c51b3078",
   "metadata": {
    "jp-MarkdownHeadingCollapsed": true
   },
   "source": [
    "### list indexing and access element"
   ]
  },
  {
   "cell_type": "code",
   "execution_count": 4,
   "id": "516e8ad8-b40b-48eb-bc15-37423cb30e87",
   "metadata": {},
   "outputs": [
    {
     "name": "stdout",
     "output_type": "stream",
     "text": [
      "<class 'list'>\n"
     ]
    }
   ],
   "source": [
    "numbers = [10, 20, 50, 40]\n",
    "print(type(numbers))"
   ]
  },
  {
   "cell_type": "markdown",
   "id": "4e1119e8-af1b-41a7-a5db-0e3d7ede2ef5",
   "metadata": {},
   "source": [
    "```\n",
    "positive index:     0   1   2    3\n",
    "                    [10, 20, 50, 40]\n",
    "negetive index:     -4  -3  -2  -1\n",
    "```"
   ]
  },
  {
   "cell_type": "code",
   "execution_count": 9,
   "id": "9539d540-a10d-4a7e-b1da-fbf3dc4397cc",
   "metadata": {},
   "outputs": [
    {
     "name": "stdout",
     "output_type": "stream",
     "text": [
      "50\n",
      "40\n",
      "[40, 50, 20, 10]\n",
      "['hi', 25, 52.5, [4, 5]]\n"
     ]
    }
   ],
   "source": [
    "print(numbers[2])\n",
    "print(numbers[-1])\n",
    "print(numbers[::-1]) # reverse list\n",
    "\n",
    "mixed_data = [\"hi\", 25, 52.5, [4,5]]\n",
    "print(mixed_data)"
   ]
  },
  {
   "cell_type": "markdown",
   "id": "bec6fdea-6f03-4a38-b442-0d9c16327642",
   "metadata": {
    "jp-MarkdownHeadingCollapsed": true
   },
   "source": [
    "### list methods"
   ]
  },
  {
   "cell_type": "code",
   "execution_count": 19,
   "id": "32947f3c-df17-411e-b1ca-414151244fa6",
   "metadata": {},
   "outputs": [
    {
     "name": "stdout",
     "output_type": "stream",
     "text": [
      "[54, 40, 20, 10, 50, 2, 2, 2, 54]\n",
      "[54, 40, 20, 10, 50, 2, 2, 2]\n",
      "[54, 40, 20, 10, 2, 2, 2]\n",
      "[2, 2, 2, 2, 10, 20, 40, 54]\n",
      "[54, 40, 20, 10, 2, 2, 2, 2]\n",
      "[2, 2, 2, 2, 10, 20, 40, 54]\n"
     ]
    }
   ],
   "source": [
    "# insert at last\n",
    "numbers.append(54)\n",
    "numbers.insert(4, 50)\n",
    "print(numbers)\n",
    "\n",
    "# pop from last value of the list\n",
    "numbers.pop()\n",
    "print(numbers)\n",
    "\n",
    "# remove specipic value careful must be value in list\n",
    "numbers.remove(50)\n",
    "\n",
    "print(numbers)\n",
    "\n",
    "numbers.append(2)\n",
    "\n",
    "# Sort the list\n",
    "numbers.sort()\n",
    "print(numbers)\n",
    "\n",
    "# Sort the list descending\n",
    "numbers.sort(reverse=True)\n",
    "print(numbers)\n",
    "\n",
    "numbers.reverse() # reverse the list\n",
    "print(numbers)\n"
   ]
  },
  {
   "cell_type": "markdown",
   "id": "937292e5-7557-4e6d-9742-a2e89126922f",
   "metadata": {
    "jp-MarkdownHeadingCollapsed": true
   },
   "source": [
    "### Stack"
   ]
  },
  {
   "cell_type": "code",
   "execution_count": 23,
   "id": "a63ff3fc-df02-47f2-9eb5-86d3955e885b",
   "metadata": {},
   "outputs": [
    {
     "name": "stdout",
     "output_type": "stream",
     "text": [
      "10\n",
      "3\n"
     ]
    }
   ],
   "source": [
    "stack = []\n",
    "\n",
    "# stack push\n",
    "stack.append(1)\n",
    "stack.append(2)\n",
    "stack.append(3)\n",
    "stack.append(10)\n",
    "\n",
    "print(stack.pop())\n",
    "print(stack.pop())\n",
    "\n",
    "\n"
   ]
  },
  {
   "cell_type": "markdown",
   "id": "05266939-dd06-4dde-a4c1-4735a89191ed",
   "metadata": {
    "jp-MarkdownHeadingCollapsed": true
   },
   "source": [
    "### Queue"
   ]
  },
  {
   "cell_type": "code",
   "execution_count": 27,
   "id": "d1af18d3-c942-493d-a2f4-67f32688438a",
   "metadata": {},
   "outputs": [
    {
     "name": "stdout",
     "output_type": "stream",
     "text": [
      "1\n",
      "2\n",
      "3\n"
     ]
    }
   ],
   "source": [
    "queue = []\n",
    "\n",
    "# queue push\n",
    "queue.append(1)\n",
    "queue.append(2)\n",
    "queue.append(3)\n",
    "queue.append(10)\n",
    "\n",
    "# pop \n",
    "print(queue.pop(0))\n",
    "print(queue.pop(0))\n",
    "\n",
    "# front\n",
    "print(queue[0])"
   ]
  },
  {
   "cell_type": "markdown",
   "id": "53242fd0-3b16-4af9-b40a-68c25e05bb22",
   "metadata": {
    "jp-MarkdownHeadingCollapsed": true
   },
   "source": [
    "### list comprehension"
   ]
  },
  {
   "cell_type": "code",
   "execution_count": 36,
   "id": "6a2012c8-267c-4b53-a0ea-afe1e3be70cb",
   "metadata": {},
   "outputs": [
    {
     "name": "stdout",
     "output_type": "stream",
     "text": [
      "[0, 2, 4, 6, 8, 10, 12, 14, 16, 18, 20, 22, 24, 26, 28, 30, 32, 34, 36, 38, 40, 42, 44, 46, 48]\n",
      "[1, 9, 25, 49, 81]\n"
     ]
    }
   ],
   "source": [
    "## syntax: [expresion for i element in elements condition]\n",
    "even = [x for x in range(50) if x % 2 == 0]\n",
    "print(even)\n",
    "\n",
    "list = [x**2 for x in range(10) if x % 2]\n",
    "print(list)"
   ]
  },
  {
   "cell_type": "code",
   "execution_count": 39,
   "id": "e925e0e7-f469-4a68-8c54-469fc346dcde",
   "metadata": {},
   "outputs": [
    {
     "name": "stdout",
     "output_type": "stream",
     "text": [
      "['MANGO', 'APPLE', 'ORANGE']\n"
     ]
    }
   ],
   "source": [
    "fruits = ['mango', 'apple', 'orange']\n",
    "cap_fruits = [fruite.upper() for fruite in fruits]\n",
    "print(cap_fruits)"
   ]
  },
  {
   "cell_type": "code",
   "execution_count": 59,
   "id": "8ad8b062-cd2a-4b58-bfcb-1b530bad31db",
   "metadata": {},
   "outputs": [
    {
     "name": "stdout",
     "output_type": "stream",
     "text": [
      "[1, 2, 3]\n"
     ]
    }
   ],
   "source": [
    "nums = [1, 2, 3,2,4]\n",
    "nums.remove(4)\n",
    "nums.pop()\n",
    "print(nums)"
   ]
  }
 ],
 "metadata": {
  "kernelspec": {
   "display_name": "Python [conda env:base] *",
   "language": "python",
   "name": "conda-base-py"
  },
  "language_info": {
   "codemirror_mode": {
    "name": "ipython",
    "version": 3
   },
   "file_extension": ".py",
   "mimetype": "text/x-python",
   "name": "python",
   "nbconvert_exporter": "python",
   "pygments_lexer": "ipython3",
   "version": "3.13.5"
  }
 },
 "nbformat": 4,
 "nbformat_minor": 5
}
