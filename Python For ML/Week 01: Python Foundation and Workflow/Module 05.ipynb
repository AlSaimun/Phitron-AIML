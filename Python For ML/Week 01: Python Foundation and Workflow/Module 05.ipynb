{
 "cells": [
  {
   "cell_type": "markdown",
   "id": "4a3aee30-2861-4f5c-9060-c1255e2d2958",
   "metadata": {
    "jp-MarkdownHeadingCollapsed": true
   },
   "source": [
    "## Tuple"
   ]
  },
  {
   "cell_type": "code",
   "execution_count": 16,
   "id": "3c889470-1911-4981-b182-e6cddf827f53",
   "metadata": {},
   "outputs": [
    {
     "name": "stdout",
     "output_type": "stream",
     "text": [
      "<class 'tuple'>\n"
     ]
    }
   ],
   "source": [
    "tp = (1, 5, 5)\n",
    "print(type(tp))"
   ]
  },
  {
   "cell_type": "code",
   "execution_count": 26,
   "id": "8af202e4-acc2-4636-bc1b-86a5a24bd485",
   "metadata": {},
   "outputs": [
    {
     "name": "stdout",
     "output_type": "stream",
     "text": [
      "(1,)\n",
      "(1, 2, 5)\n"
     ]
    }
   ],
   "source": [
    "# Creating a tuple with a single element\n",
    "tple = (1,)   \n",
    "print(tple)\n",
    "\n",
    "# Converting a list to a tuple\n",
    "lst = [1, 2, 5]\n",
    "tp2 = tuple(lst[:3])\n",
    "print(tp2)\n"
   ]
  },
  {
   "cell_type": "code",
   "execution_count": 35,
   "id": "991acf60-367b-45bd-9da0-4a47896af002",
   "metadata": {},
   "outputs": [
    {
     "name": "stdout",
     "output_type": "stream",
     "text": [
      "0\n",
      "1\n"
     ]
    }
   ],
   "source": [
    "# tple[0] = 5 # immutable\n",
    "\n",
    "print(tple.index(1)) # carefull about element occure in tuple\n",
    "print(tple.count(1))\n"
   ]
  },
  {
   "cell_type": "markdown",
   "id": "31807c7b-da7b-485f-98f0-d824ac2cde13",
   "metadata": {
    "jp-MarkdownHeadingCollapsed": true
   },
   "source": [
    "## Set"
   ]
  },
  {
   "cell_type": "code",
   "execution_count": 55,
   "id": "affbb6ca-6bfc-4572-9804-4d4ef78752f5",
   "metadata": {},
   "outputs": [
    {
     "name": "stdout",
     "output_type": "stream",
     "text": [
      "{1, 2, 5}\n",
      "{2, 5}\n",
      "2 found\n",
      "2\n",
      "5\n"
     ]
    }
   ],
   "source": [
    "a = {1, 1, 2, 5, 5, 10, 9, 5, 8}\n",
    "print(a)\n",
    "\n",
    "b = set() # empty set\n",
    "b.add(5)\n",
    "b.add(5)\n",
    "b.add(2)\n",
    "print(b)\n",
    "\n",
    "if 2 in b:\n",
    "    print(\"2 found\")\n",
    "else:\n",
    "    print(\"2 not found\")\n",
    "\n",
    "\n",
    "for i in b:\n",
    "    print(i)\n"
   ]
  },
  {
   "cell_type": "code",
   "execution_count": 65,
   "id": "7a9581ee-bef1-452a-b345-1460cd78051e",
   "metadata": {},
   "outputs": [
    {
     "name": "stdout",
     "output_type": "stream",
     "text": [
      "{1, 2, 5, 6, 9}\n",
      "{2, 6, 9}\n"
     ]
    }
   ],
   "source": [
    "a = {1, 2 , 5 , 6 , 9 }\n",
    "print(a)\n",
    "a.pop()\n",
    "a.remove(5)\n",
    "print(a)"
   ]
  },
  {
   "cell_type": "markdown",
   "id": "6f8597da-bb6d-4f13-8b7f-af1fcf942193",
   "metadata": {},
   "source": [
    "### Set Mathematical Methods"
   ]
  },
  {
   "cell_type": "code",
   "execution_count": 74,
   "id": "2b9f8785-c04c-4e04-87c1-3ecb6ea498d9",
   "metadata": {},
   "outputs": [
    {
     "name": "stdout",
     "output_type": "stream",
     "text": [
      "{1, 2, 3, 4, 5, 6}\n",
      "set()\n",
      "True\n",
      "True\n"
     ]
    }
   ],
   "source": [
    "a = {1, 2, 3}\n",
    "b = {5, 6, 4}\n",
    "\n",
    "print(a.union(b))\n",
    "print(a.intersection(b))\n",
    "\n",
    "\n",
    "print(a.isdisjoint(b))\n",
    "\n",
    "s1 = {1, 2, 3}\n",
    "s2 = {1, 2}\n",
    "\n",
    "print(s2.issubset(s1))\n"
   ]
  },
  {
   "cell_type": "markdown",
   "id": "c3d3bbd5-6b20-407e-b018-10c59593ab80",
   "metadata": {
    "jp-MarkdownHeadingCollapsed": true
   },
   "source": [
    "## Dictonary"
   ]
  },
  {
   "cell_type": "code",
   "execution_count": 10,
   "id": "40240012-e377-4161-a475-54c1139e55e9",
   "metadata": {},
   "outputs": [
    {
     "name": "stdout",
     "output_type": "stream",
     "text": [
      "<class 'dict'>\n",
      "{'name': 'saimun', 'age': 23, 'address': 'Dhaka'}\n",
      "Dhaka\n",
      "saimun\n",
      "{'name': 'saimun', 'age': 25, 'address': 'Dhaka'}\n",
      "{'name': 'saimun', 'age': 25, 'address': 'Dhaka', 'id': '2326'}\n",
      "{'name': 'saimun', 'age': 25, 'address': 'Dhaka'}\n"
     ]
    }
   ],
   "source": [
    "dic = {\n",
    "    \"name\" : \"saimun\",\n",
    "    \"age\" : 23,\n",
    "    \"address\": \"Dhaka\"\n",
    "}\n",
    "print(type(dic))\n",
    "print(dic)\n",
    "\n",
    "print(dic[\"address\"])\n",
    "print(dic.get(\"name\", \"N/A\"))\n",
    "\n",
    "dic[\"age\"] = 25\n",
    "print(dic)\n",
    "\n",
    "dic.update({\"id\": \"2326\"})\n",
    "print(dic)\n",
    "\n",
    "del(dic[\"id\"])\n",
    "print(dic)"
   ]
  },
  {
   "cell_type": "markdown",
   "id": "a5ddab3b-5685-4d70-8b6f-9aa0b18b180d",
   "metadata": {},
   "source": [
    "### Dictonary methods"
   ]
  },
  {
   "cell_type": "code",
   "execution_count": 21,
   "id": "95811438-39ed-4fc7-8707-3c3151bdf86a",
   "metadata": {},
   "outputs": [
    {
     "name": "stdout",
     "output_type": "stream",
     "text": [
      "{'name': 'saimun', 'age': 25, 'address': 'Dhaka'}\n",
      "dict_items([('name', 'saimun'), ('age', 25), ('address', 'Dhaka')])\n",
      "dict_keys(['name', 'age', 'address'])\n",
      "dict_values(['saimun', 25, 'Dhaka'])\n",
      "{'name': 'saimun', 'age': 25}\n",
      "{'name': 'saimun'}\n"
     ]
    }
   ],
   "source": [
    "dic2 = dic.copy()\n",
    "print(dic2)\n",
    "\n",
    "print(dic2.items())\n",
    "\n",
    "print(dic2.keys())\n",
    "\n",
    "print(dic2.values())\n",
    "\n",
    "dic2.pop(\"address\")\n",
    "print(dic2)\n",
    "dic2.popitem()\n",
    "print(dic2)\n",
    "\n"
   ]
  },
  {
   "cell_type": "code",
   "execution_count": 22,
   "id": "0dfb0302-3a7e-46c4-9aab-dfd1a654a654",
   "metadata": {},
   "outputs": [
    {
     "name": "stdout",
     "output_type": "stream",
     "text": [
      "{(1, 2, 3): 5}\n"
     ]
    }
   ],
   "source": [
    "## dict = {key: value} \n",
    "## key should be immutable type like tuple, string, int etc not list\n",
    "\n",
    "dic3 = {(1, 2,3): 5}\n",
    "print(dic3)\n"
   ]
  },
  {
   "cell_type": "code",
   "execution_count": 25,
   "id": "f0627fde-08a0-4b51-9e9b-dd3fc8cb93e0",
   "metadata": {},
   "outputs": [
    {
     "name": "stdout",
     "output_type": "stream",
     "text": [
      "name saimun\n",
      "age 23\n",
      "address Dhaka\n"
     ]
    }
   ],
   "source": [
    "dic = {\n",
    "    \"name\" : \"saimun\",\n",
    "    \"age\" : 23,\n",
    "    \"address\": \"Dhaka\"\n",
    "}\n",
    "\n",
    "for key, val in dic.items():\n",
    "    print(key, val)"
   ]
  },
  {
   "cell_type": "markdown",
   "id": "26e08853-8203-4a07-b268-6a4e4737cea6",
   "metadata": {},
   "source": [
    "### Dictonary comprehension"
   ]
  },
  {
   "cell_type": "code",
   "execution_count": 37,
   "id": "d624d857-24c5-406c-b598-a96f00e9acd9",
   "metadata": {},
   "outputs": [
    {
     "name": "stdout",
     "output_type": "stream",
     "text": [
      "{1: 1, 3: 9, 5: 25, 7: 49, 9: 81}\n",
      "{(10, 10.5): 'dhaka', (20.5, 192): 'chattogram', (101, 102): 'sylhet'}\n"
     ]
    }
   ],
   "source": [
    "sq = {x:x**2 for x in range(10) if x % 2}\n",
    "print(sq)\n",
    "\n",
    "\n",
    "\n",
    "co_ordinates = [(10,10.5),(20.5,192) , ( 101,102)]\n",
    "locations =[\"dhaka\" , \"chattogram\" , \"sylhet\", \"sdf\"]\n",
    "\n",
    "dic4 = {cor: loc for cor, loc in zip(co_ordinates, locations)}\n",
    "print(dic4)\n"
   ]
  },
  {
   "cell_type": "markdown",
   "id": "1fc6b164-b078-4328-8fe6-88d8e793955f",
   "metadata": {
    "jp-MarkdownHeadingCollapsed": true
   },
   "source": [
    "## Problem Solving with In Built Structures"
   ]
  },
  {
   "cell_type": "markdown",
   "id": "4ad57b6f-9c19-412e-a13c-224e3415c36b",
   "metadata": {},
   "source": [
    "1. Given a list of numbers, make a list with unique values."
   ]
  },
  {
   "cell_type": "code",
   "execution_count": 40,
   "id": "888e9d2a-46c0-4d16-9cfb-0f193e6e85db",
   "metadata": {},
   "outputs": [
    {
     "name": "stdout",
     "output_type": "stream",
     "text": [
      "[10, 20, 50, 30]\n"
     ]
    }
   ],
   "source": [
    "lst = [10 , 20 , 10 , 30 , 30 , 50 , 30 , 10 , 20 , 10 , 10 ]\n",
    "\n",
    "st = set(lst)\n",
    "\n",
    "ls = list(st)\n",
    "print(ls)"
   ]
  },
  {
   "cell_type": "markdown",
   "id": "f88c4837-0087-4d5c-a0aa-4b1fa9c711cf",
   "metadata": {},
   "source": [
    "2. Given a string , print the frequency of the words"
   ]
  },
  {
   "cell_type": "code",
   "execution_count": 41,
   "id": "f7047fe7-b16d-4b03-9ebc-e60761b2ba73",
   "metadata": {},
   "outputs": [],
   "source": [
    "string = \"\"\"data science machine learning data analysis machine \n",
    "learning statistics data models data training data validation features\n",
    "features labels preprocessing data augmentation models data optimization \n",
    "gradient descent neural networks data tensors matrices visualization \n",
    "exploration pandas numpy matplotlib seaborn scikitlearn tensorflow pytorch \n",
    "deployment inference production monitoring reproducibility experiments results \n",
    "metrics accuracy precision recall f1 cross validation data machine\n",
    "\"\"\""
   ]
  },
  {
   "cell_type": "code",
   "execution_count": 55,
   "id": "5e607728-aaa9-408b-ae96-9196c4e4c8f3",
   "metadata": {},
   "outputs": [
    {
     "name": "stdout",
     "output_type": "stream",
     "text": [
      "key data: 9\n",
      "key science: 1\n",
      "key machine: 3\n",
      "key learning: 2\n",
      "key analysis: 1\n",
      "key statistics: 1\n",
      "key models: 2\n",
      "key training: 1\n",
      "key validation: 2\n",
      "key features: 2\n",
      "key labels: 1\n",
      "key preprocessing: 1\n",
      "key augmentation: 1\n",
      "key optimization: 1\n",
      "key gradient: 1\n",
      "key descent: 1\n",
      "key neural: 1\n",
      "key networks: 1\n",
      "key tensors: 1\n",
      "key matrices: 1\n",
      "key visualization: 1\n",
      "key exploration: 1\n",
      "key pandas: 1\n",
      "key numpy: 1\n",
      "key matplotlib: 1\n",
      "key seaborn: 1\n",
      "key scikitlearn: 1\n",
      "key tensorflow: 1\n",
      "key pytorch: 1\n",
      "key deployment: 1\n",
      "key inference: 1\n",
      "key production: 1\n",
      "key monitoring: 1\n",
      "key reproducibility: 1\n",
      "key experiments: 1\n",
      "key results: 1\n",
      "key metrics: 1\n",
      "key accuracy: 1\n",
      "key precision: 1\n",
      "key recall: 1\n",
      "key f1: 1\n",
      "key cross: 1\n"
     ]
    }
   ],
   "source": [
    "st = string.split()\n",
    "dic = {}\n",
    "# for e in st:\n",
    "#     if e in dic:\n",
    "#         dic[e] += 1\n",
    "#     else:\n",
    "#         dic[e] = 1\n",
    "\n",
    "for e in st:\n",
    "    dic[e] = dic.get(e, 0) + 1\n",
    "\n",
    "for k, v in dic.items():\n",
    "    print(f\"key {k}: {v}\")"
   ]
  }
 ],
 "metadata": {
  "kernelspec": {
   "display_name": "Python [conda env:base] *",
   "language": "python",
   "name": "conda-base-py"
  },
  "language_info": {
   "codemirror_mode": {
    "name": "ipython",
    "version": 3
   },
   "file_extension": ".py",
   "mimetype": "text/x-python",
   "name": "python",
   "nbconvert_exporter": "python",
   "pygments_lexer": "ipython3",
   "version": "3.13.5"
  }
 },
 "nbformat": 4,
 "nbformat_minor": 5
}
