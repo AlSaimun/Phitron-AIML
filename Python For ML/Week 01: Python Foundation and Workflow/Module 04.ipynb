{
 "cells": [
  {
   "cell_type": "markdown",
   "id": "193d3caf-e1e5-4972-9f4e-3c7164d7356f",
   "metadata": {},
   "source": [
    "**Click here: [problems link](https://www.hackerrank.com/contests/ai-ml-module-4-practice-day-1/challenges)**\n"
   ]
  },
  {
   "cell_type": "markdown",
   "id": "7b118d62-1fa0-478b-b21f-0088b2d33a13",
   "metadata": {
    "jp-MarkdownHeadingCollapsed": true
   },
   "source": [
    "## Smart Light Pilot"
   ]
  },
  {
   "cell_type": "code",
   "execution_count": 6,
   "id": "0b3cf17f-4f03-4655-a464-ac956343eaf6",
   "metadata": {},
   "outputs": [
    {
     "name": "stdin",
     "output_type": "stream",
     "text": [
      " 2.3 2.0\n"
     ]
    },
    {
     "name": "stdout",
     "output_type": "stream",
     "text": [
      "ON\n"
     ]
    }
   ],
   "source": [
    "lst = input().split()\n",
    "a = float(lst[0])\n",
    "b = float(lst[1])\n",
    "if a >= b:\n",
    "    print(\"ON\")\n",
    "else:\n",
    "    print(\"OFF\")"
   ]
  },
  {
   "cell_type": "markdown",
   "id": "e1a460e4-74d2-4f56-8a24-44c84ea31cc4",
   "metadata": {
    "jp-MarkdownHeadingCollapsed": true
   },
   "source": [
    "## Sensor Calibrator — Min-Max Scaling"
   ]
  },
  {
   "cell_type": "code",
   "execution_count": 7,
   "id": "bf9edfbb-2188-40d1-9188-a70b594d1ced",
   "metadata": {},
   "outputs": [
    {
     "name": "stdin",
     "output_type": "stream",
     "text": [
      " 0 0 10\n"
     ]
    },
    {
     "name": "stdout",
     "output_type": "stream",
     "text": [
      "0.00\n"
     ]
    }
   ],
   "source": [
    "lst = input().split()\n",
    "x = float(lst[0])\n",
    "min_v = float(lst[1])\n",
    "max_v = float(lst[2])\n",
    "\n",
    "norm = (x - min_v) / (max_v - min_v)\n",
    "print(format(norm,\".2f\"))"
   ]
  },
  {
   "cell_type": "markdown",
   "id": "fbb16f06-a13c-4e42-9edd-5bab4982471f",
   "metadata": {
    "jp-MarkdownHeadingCollapsed": true
   },
   "source": [
    "## Mini Loss Tracker"
   ]
  },
  {
   "cell_type": "code",
   "execution_count": 9,
   "id": "012bea07-bbfd-42d2-a7f3-813e157abf02",
   "metadata": {},
   "outputs": [
    {
     "name": "stdin",
     "output_type": "stream",
     "text": [
      " 3\n",
      " 0.35\n",
      " 0.20\n",
      " 0.30\n",
      "  0.40\n"
     ]
    },
    {
     "name": "stdout",
     "output_type": "stream",
     "text": [
      "PASS\n"
     ]
    }
   ],
   "source": [
    "t = int(input())\n",
    "target = float(input())\n",
    "loss = 0.0\n",
    "for i in range (t):\n",
    "    x = float(input())\n",
    "    loss += x\n",
    "avg = loss / t\n",
    "if avg <= target:\n",
    "    print(\"PASS\")\n",
    "else:\n",
    "    print(\"RETRY\")"
   ]
  },
  {
   "cell_type": "markdown",
   "id": "8ffb2bc0-082a-4c98-910e-3bbbd530e2ce",
   "metadata": {
    "jp-MarkdownHeadingCollapsed": true
   },
   "source": [
    "## Majority Vote Gate"
   ]
  },
  {
   "cell_type": "code",
   "execution_count": 11,
   "id": "fb9c30e5-7beb-4bce-9e72-ae068e55514e",
   "metadata": {},
   "outputs": [
    {
     "name": "stdin",
     "output_type": "stream",
     "text": [
      " 1\n",
      " NO\n"
     ]
    },
    {
     "name": "stdout",
     "output_type": "stream",
     "text": [
      "REJECT\n"
     ]
    }
   ],
   "source": [
    "n = int(input())\n",
    "yes = no = 0\n",
    "\n",
    "for i in range(n):\n",
    "    st = input()\n",
    "    if st == \"YES\":\n",
    "        yes += 1\n",
    "    else:\n",
    "        no += 1\n",
    "\n",
    "if yes >= no:\n",
    "    print(\"ACCEPT\")\n",
    "else:\n",
    "    print(\"REJECT\")"
   ]
  },
  {
   "cell_type": "markdown",
   "id": "019dad19-8711-4704-8aea-c031a099284c",
   "metadata": {
    "jp-MarkdownHeadingCollapsed": true
   },
   "source": [
    "## AI Mood Detector"
   ]
  },
  {
   "cell_type": "code",
   "execution_count": 14,
   "id": "1fd3afef-2765-4ca8-b59f-d6e6a05a96b6",
   "metadata": {},
   "outputs": [
    {
     "name": "stdin",
     "output_type": "stream",
     "text": [
      " i am angry today\n"
     ]
    },
    {
     "name": "stdout",
     "output_type": "stream",
     "text": [
      "Sad Mood\n"
     ]
    }
   ],
   "source": [
    "message = input()\n",
    "if \"happy\" in message or \"joy\" in message or \"smile\" in message:\n",
    "    print(\"Happy Mood\")\n",
    "elif \"sad\" in message or \"cry\" in message or \"angry\" in message:\n",
    "    print(\"Sad Mood\")\n",
    "else:\n",
    "    print(\"Neutral Mood\")\n",
    "    "
   ]
  },
  {
   "cell_type": "markdown",
   "id": "e9774578-f9a8-4672-8725-1b161e5ee6a9",
   "metadata": {
    "jp-MarkdownHeadingCollapsed": true
   },
   "source": [
    "## AI Brightness Analyzer"
   ]
  },
  {
   "cell_type": "code",
   "execution_count": 17,
   "id": "93b71799-560d-4643-8163-673eb947167d",
   "metadata": {},
   "outputs": [
    {
     "name": "stdin",
     "output_type": "stream",
     "text": [
      " 10 20 50 80 1000\n"
     ]
    },
    {
     "name": "stdout",
     "output_type": "stream",
     "text": [
      "Bright Image\n"
     ]
    }
   ],
   "source": [
    "lst = list(map(int, input().split()))\n",
    "total = sum(lst)\n",
    "avg = total / len(lst)\n",
    "\n",
    "if avg < 85:\n",
    "    print(\"Dark Image\")\n",
    "elif avg <= 170:\n",
    "    print(\"Normal Image\")\n",
    "else:\n",
    "    print(\"Bright Image\")"
   ]
  },
  {
   "cell_type": "markdown",
   "id": "5828173c-4e8f-4e88-8e9b-e978a1b2a783",
   "metadata": {
    "jp-MarkdownHeadingCollapsed": true
   },
   "source": [
    "## AI Bias Detector"
   ]
  },
  {
   "cell_type": "code",
   "execution_count": 25,
   "id": "599d3bc6-e1fc-4609-b75d-a6cecdf36e38",
   "metadata": {},
   "outputs": [
    {
     "name": "stdin",
     "output_type": "stream",
     "text": [
      " A A A B B A A\n"
     ]
    },
    {
     "name": "stdout",
     "output_type": "stream",
     "text": [
      "Biased Model\n"
     ]
    }
   ],
   "source": [
    "st = input().split()\n",
    "a_count = st.count('A')\n",
    "b_count = st.count('B')\n",
    "total = len(st)\n",
    "\n",
    "if a_count / total * 100 > 70 or  b_count / total * 100 > 70:\n",
    "    print(\"Biased Model\")\n",
    "else:\n",
    "    print(\"Fair Model\")"
   ]
  },
  {
   "cell_type": "markdown",
   "id": "c4dfdebb-ceb9-4146-82e3-bafaedd036b5",
   "metadata": {
    "jp-MarkdownHeadingCollapsed": true
   },
   "source": [
    "## AI Keyword Counter"
   ]
  },
  {
   "cell_type": "code",
   "execution_count": 27,
   "id": "adf89ae3-d91a-4872-84cf-0ea0ec6df0ef",
   "metadata": {},
   "outputs": [
    {
     "name": "stdin",
     "output_type": "stream",
     "text": [
      " i like reading books\n"
     ]
    },
    {
     "name": "stdout",
     "output_type": "stream",
     "text": [
      "Not AI Related\n"
     ]
    }
   ],
   "source": [
    "message = input().split()\n",
    "if \"ai\" in message or \"data\" in message or \"learn\" in message or \"train\" in message or \"neural\" in message:\n",
    "    print(\"AI Detected\")\n",
    "else:\n",
    "    print(\"Not AI Related\")"
   ]
  }
 ],
 "metadata": {
  "kernelspec": {
   "display_name": "Python [conda env:base] *",
   "language": "python",
   "name": "conda-base-py"
  },
  "language_info": {
   "codemirror_mode": {
    "name": "ipython",
    "version": 3
   },
   "file_extension": ".py",
   "mimetype": "text/x-python",
   "name": "python",
   "nbconvert_exporter": "python",
   "pygments_lexer": "ipython3",
   "version": "3.13.5"
  }
 },
 "nbformat": 4,
 "nbformat_minor": 5
}
