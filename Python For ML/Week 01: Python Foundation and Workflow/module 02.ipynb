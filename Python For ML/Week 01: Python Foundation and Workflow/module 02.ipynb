{
 "cells": [
  {
   "cell_type": "markdown",
   "id": "3dbe48a2",
   "metadata": {},
   "source": [
    "## Control Flow"
   ]
  },
  {
   "cell_type": "markdown",
   "id": "8834d595",
   "metadata": {},
   "source": [
    "### Conditional flow"
   ]
  },
  {
   "cell_type": "code",
   "execution_count": null,
   "id": "5ae1d3a3",
   "metadata": {},
   "outputs": [
    {
     "name": "stdout",
     "output_type": "stream",
     "text": [
      "I will buy a shirt\n"
     ]
    }
   ],
   "source": [
    "taka = 500\n",
    "\n",
    "if taka >= 500:\n",
    "    print(\"I will buy a shirt\")\n",
    "    if taka >= 1000:\n",
    "        print(\"I will also buy a pant\")\n",
    "        if taka >= 1500:\n",
    "            print(\"I will also buy a watch\")\n",
    "        else:\n",
    "            print(\"I will not buy a watch\")\n",
    "elif taka >= 300:\n",
    "    print(\"I will buy a lungi\")\n",
    "else:\n",
    "    print(\"I will not buy anything\")"
   ]
  },
  {
   "cell_type": "markdown",
   "id": "d30dd1bd",
   "metadata": {},
   "source": [
    "### Loop in python"
   ]
  },
  {
   "cell_type": "code",
   "execution_count": 9,
   "id": "4b740bd8",
   "metadata": {},
   "outputs": [
    {
     "name": "stdout",
     "output_type": "stream",
     "text": [
      "1\n",
      "2\n",
      "3\n",
      "4\n",
      "5\n",
      "6\n",
      "7\n",
      "8\n",
      "9\n",
      "10\n",
      "1 x 1 = 1\n",
      "1 x 2 = 2\n",
      "1 x 3 = 3\n",
      "1 x 4 = 4\n",
      "1 x 5 = 5\n",
      "1 x 6 = 6\n",
      "1 x 7 = 7\n",
      "1 x 8 = 8\n",
      "1 x 9 = 9\n",
      "1 x 10 = 10\n",
      "2 x 1 = 2\n",
      "2 x 2 = 4\n",
      "2 x 3 = 6\n",
      "2 x 4 = 8\n",
      "2 x 5 = 10\n",
      "2 x 6 = 12\n",
      "2 x 7 = 14\n",
      "2 x 8 = 16\n",
      "2 x 9 = 18\n",
      "2 x 10 = 20\n",
      "3 x 1 = 3\n",
      "3 x 2 = 6\n",
      "3 x 3 = 9\n",
      "3 x 4 = 12\n",
      "3 x 5 = 15\n",
      "3 x 6 = 18\n",
      "3 x 7 = 21\n",
      "3 x 8 = 24\n",
      "3 x 9 = 27\n",
      "3 x 10 = 30\n",
      "4 x 1 = 4\n",
      "4 x 2 = 8\n",
      "4 x 3 = 12\n",
      "4 x 4 = 16\n",
      "4 x 5 = 20\n",
      "4 x 6 = 24\n",
      "4 x 7 = 28\n",
      "4 x 8 = 32\n",
      "4 x 9 = 36\n",
      "4 x 10 = 40\n",
      "5 x 1 = 5\n",
      "5 x 2 = 10\n",
      "5 x 3 = 15\n",
      "5 x 4 = 20\n",
      "5 x 5 = 25\n",
      "5 x 6 = 30\n",
      "5 x 7 = 35\n",
      "5 x 8 = 40\n",
      "5 x 9 = 45\n",
      "5 x 10 = 50\n",
      "6 x 1 = 6\n",
      "6 x 2 = 12\n",
      "6 x 3 = 18\n",
      "6 x 4 = 24\n",
      "6 x 5 = 30\n",
      "6 x 6 = 36\n",
      "6 x 7 = 42\n",
      "6 x 8 = 48\n",
      "6 x 9 = 54\n",
      "6 x 10 = 60\n",
      "7 x 1 = 7\n",
      "7 x 2 = 14\n",
      "7 x 3 = 21\n",
      "7 x 4 = 28\n",
      "7 x 5 = 35\n",
      "7 x 6 = 42\n",
      "7 x 7 = 49\n",
      "7 x 8 = 56\n",
      "7 x 9 = 63\n",
      "7 x 10 = 70\n",
      "8 x 1 = 8\n",
      "8 x 2 = 16\n",
      "8 x 3 = 24\n",
      "8 x 4 = 32\n",
      "8 x 5 = 40\n",
      "8 x 6 = 48\n",
      "8 x 7 = 56\n",
      "8 x 8 = 64\n",
      "8 x 9 = 72\n",
      "8 x 10 = 80\n",
      "9 x 1 = 9\n",
      "9 x 2 = 18\n",
      "9 x 3 = 27\n",
      "9 x 4 = 36\n",
      "9 x 5 = 45\n",
      "9 x 6 = 54\n",
      "9 x 7 = 63\n",
      "9 x 8 = 72\n",
      "9 x 9 = 81\n",
      "9 x 10 = 90\n",
      "10 x 1 = 10\n",
      "10 x 2 = 20\n",
      "10 x 3 = 30\n",
      "10 x 4 = 40\n",
      "10 x 5 = 50\n",
      "10 x 6 = 60\n",
      "10 x 7 = 70\n",
      "10 x 8 = 80\n",
      "10 x 9 = 90\n",
      "10 x 10 = 100\n"
     ]
    }
   ],
   "source": [
    "for i in range(1, 11):\n",
    "    print(i)\n",
    "\n",
    "for i in range(1, 11):\n",
    "    for j in range(1, 11):\n",
    "        print(f\"{i} x {j} = {i*j}\")\n"
   ]
  },
  {
   "cell_type": "code",
   "execution_count": 11,
   "id": "c070f1e6",
   "metadata": {},
   "outputs": [
    {
     "name": "stdout",
     "output_type": "stream",
     "text": [
      "1\n",
      "2\n",
      "3\n",
      "4\n",
      "5\n",
      "6\n",
      "7\n",
      "8\n",
      "9\n",
      "10\n"
     ]
    }
   ],
   "source": [
    "a = 1\n",
    "\n",
    "while a <= 10:\n",
    "    print(a)\n",
    "    a += 1"
   ]
  },
  {
   "cell_type": "markdown",
   "id": "eca6f21b",
   "metadata": {},
   "source": [
    "### break and continue"
   ]
  },
  {
   "cell_type": "code",
   "execution_count": 16,
   "id": "d606d5bd",
   "metadata": {},
   "outputs": [
    {
     "name": "stdout",
     "output_type": "stream",
     "text": [
      "2 is even\n",
      "4 is even\n",
      "6 is even\n",
      "8 is even\n",
      "10 is even\n"
     ]
    }
   ],
   "source": [
    "for i in range(0, 11):\n",
    "    if i % 2 or not i:\n",
    "        continue\n",
    "    if i % 2 == 0:\n",
    "        print(f\"{i} is even\")\n",
    "    if i == 9:\n",
    "        break"
   ]
  },
  {
   "cell_type": "markdown",
   "id": "29b08136",
   "metadata": {},
   "source": [
    "### Problem: Max and Min"
   ]
  },
  {
   "cell_type": "code",
   "execution_count": null,
   "id": "1405e453",
   "metadata": {},
   "outputs": [
    {
     "name": "stdout",
     "output_type": "stream",
     "text": [
      "1 3\n"
     ]
    }
   ],
   "source": [
    "\n",
    "a, b, c = map(int, input().split())\n",
    "\n",
    "mx = a; mn = a\n",
    "if b > mx:\n",
    "    mx = b\n",
    "if c > mx:\n",
    "    mx = c\n",
    "if b < mn:\n",
    "    mn = b\n",
    "if c < mn:\n",
    "    mn = c\n",
    "    \n",
    "print(mn, mx)"
   ]
  },
  {
   "cell_type": "markdown",
   "id": "5acd6219",
   "metadata": {},
   "source": [
    "### Problem: Even, Odd, Positive and Negative"
   ]
  },
  {
   "cell_type": "code",
   "execution_count": 25,
   "id": "147e99b6",
   "metadata": {},
   "outputs": [
    {
     "name": "stdout",
     "output_type": "stream",
     "text": [
      "Even: 3\n",
      "Odd: 2\n",
      "Positive: 1\n",
      "Negative: 3\n"
     ]
    }
   ],
   "source": [
    "n = int(input())\n",
    "arr = list(map(int, input().split()))\n",
    "ev = odd = pos = neg = 0\n",
    "for x in arr:\n",
    "    ev += (x % 2 == 0)\n",
    "    odd += (x % 2 != 0)\n",
    "    pos += (x > 0)\n",
    "    neg += (x < 0)\n",
    "\n",
    "print(f\"Even: {ev}\")\n",
    "print(f\"Odd: {odd}\")\n",
    "print(f\"Positive: {pos}\")\n",
    "print(f\"Negative: {neg}\")"
   ]
  },
  {
   "cell_type": "markdown",
   "id": "e298e788",
   "metadata": {},
   "source": [
    "### Problem: Digits"
   ]
  },
  {
   "cell_type": "code",
   "execution_count": 31,
   "id": "b251a29c",
   "metadata": {},
   "outputs": [
    {
     "name": "stdout",
     "output_type": "stream",
     "text": [
      "1 2 1 \n",
      "0 0 2 1 \n"
     ]
    }
   ],
   "source": [
    "def print_digit(digit):\n",
    "    if digit == 0:\n",
    "        print(digit, end=\" \")\n",
    "    else:\n",
    "        while(digit > 0):\n",
    "            print(digit % 10, end=\" \")\n",
    "            digit //= 10\n",
    "    print()\n",
    "\n",
    "n = int(input())\n",
    "\n",
    "for i in range(n):\n",
    "    x = int(input())\n",
    "    print_digit(x)\n"
   ]
  }
 ],
 "metadata": {
  "kernelspec": {
   "display_name": "Python [conda env:base] *",
   "language": "python",
   "name": "conda-base-py"
  },
  "language_info": {
   "codemirror_mode": {
    "name": "ipython",
    "version": 3
   },
   "file_extension": ".py",
   "mimetype": "text/x-python",
   "name": "python",
   "nbconvert_exporter": "python",
   "pygments_lexer": "ipython3",
   "version": "3.13.5"
  }
 },
 "nbformat": 4,
 "nbformat_minor": 5
}
