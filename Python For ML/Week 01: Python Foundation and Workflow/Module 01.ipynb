{
 "cells": [
  {
   "cell_type": "markdown",
   "id": "74a958b4",
   "metadata": {},
   "source": [
    "## 1) Python Basics Refresh"
   ]
  },
  {
   "cell_type": "code",
   "execution_count": 5,
   "id": "19479c79",
   "metadata": {},
   "outputs": [
    {
     "name": "stdout",
     "output_type": "stream",
     "text": [
      "{'a': 3, 'b': 2}\n",
      "[[1, 2, 3], [4, 5, 6]]\n",
      "(1, 2, 3, [1, 2, 3], 'Arif')\n",
      "{1, 2, 3, 'Arif'}\n",
      "[[1, 2, 3, ['Arif', 'Rahul', 3.5, 200], 4], [10, 20, 30, 500], 10]\n"
     ]
    }
   ],
   "source": [
    "x = 42                 # int\n",
    "y = 3.14               # float\n",
    "z = \"hello\"            # str\n",
    "t = True               # bool\n",
    "lst = [[1, 2, 3, [\"Arif\", \"Rahul\", 3.5, 100*2], 4], [10 , 20, 30]]\n",
    "ls2D =[ [1, 2, 3],[4, 5, 6] ]     # list (mutable)\n",
    "tpl = (1, 2, 3, [1, 2, 3], \"Arif\")        # tuple (immutable)\n",
    "dct = {\"a\": 1, \"b\": 2, \"a\": 3} # dict (mapping)\n",
    "st = {1, 2, 2, 3, \"Arif\"}      # set (unique)\n",
    "lst.append(10)\n",
    "lst[1].append(500)\n",
    "\n",
    "print(dct)\n",
    "print(ls2D)\n",
    "print(tpl)\n",
    "print(st)\n",
    "print(lst)"
   ]
  },
  {
   "cell_type": "code",
   "execution_count": 27,
   "id": "f6ab0e93",
   "metadata": {},
   "outputs": [
    {
     "name": "stdout",
     "output_type": "stream",
     "text": [
      "[10, 20, 30, 40]\n",
      "[10, 30, 50]\n",
      "60\n",
      "[60, 50, 40, 30, 20]\n",
      "[10, 20, 30, 40, 50]\n",
      "[10, 20, 30, 40, 50, 60]\n",
      "[60, 40, 20]\n",
      "[60, 50, 40, 30, 20, 10]\n"
     ]
    }
   ],
   "source": [
    "# [start, end, increment]\n",
    "#        0  1   2   3   4   5\n",
    "nums = [10, 20, 30, 40, 50, 60]\n",
    "#       -6  -5  -4  -3  -2  -1  \n",
    "print(nums[0: 4])\n",
    "print(nums[::2])\n",
    "print(nums[-1])\n",
    "print(nums[-1:-6:-1])\n",
    "print(nums[-6:-1:])\n",
    "print(nums[-6:])\n",
    "print(nums[::-2])\n",
    "print(nums[::-1])"
   ]
  },
  {
   "cell_type": "code",
   "execution_count": 34,
   "id": "30987ea6",
   "metadata": {},
   "outputs": [
    {
     "name": "stdout",
     "output_type": "stream",
     "text": [
      "0 → Falsy\n",
      "1 → Truthy\n",
      "'' → Falsy\n",
      "'text' → Truthy\n",
      "[] → Falsy\n",
      "[1] → Truthy\n",
      "{} → Falsy\n",
      "{'k': 1} → Truthy\n",
      "None → Falsy\n"
     ]
    }
   ],
   "source": [
    "samples = [0, 1, \"\", \"text\", [], [1], {}, {\"k\": 1}, None]\n",
    "\n",
    "for a in samples:\n",
    "    if a:\n",
    "        print(repr(a), \"→ Truthy\")\n",
    "    else:\n",
    "        print(repr(a), \"→ Falsy\")"
   ]
  },
  {
   "cell_type": "code",
   "execution_count": 35,
   "id": "978060b5",
   "metadata": {},
   "outputs": [
    {
     "name": "stdout",
     "output_type": "stream",
     "text": [
      "User Name: Alice\n",
      "First Item Price: 1200\n",
      "User Email: abc@edu.com\n"
     ]
    }
   ],
   "source": [
    "# --- DEMO: Nested data structures ---\n",
    "data = {\n",
    "    \"user\": {\n",
    "        \"name\": \"Alice\",\n",
    "        \"id\": 123,\n",
    "        \"contact\": {\n",
    "            \"email\": [\"alice@example.com\", \"abc@edu.com\"],\n",
    "            \"phone\": \"555-1234\"\n",
    "        }\n",
    "    },\n",
    "    \"items\": [\n",
    "        {\"name\": \"Laptop\", \"price\": 1200},\n",
    "        {\"name\": \"Keyboard\", \"price\": 75}\n",
    "    ]\n",
    "}\n",
    "\n",
    "print(\"User Name:\", data[\"user\"][\"name\"])\n",
    "print(\"First Item Price:\", data[\"items\"][0][\"price\"])\n",
    "print(\"User Email:\", data[\"user\"][\"contact\"][\"email\"][1])"
   ]
  },
  {
   "cell_type": "markdown",
   "id": "6e720a23",
   "metadata": {},
   "source": [
    "### Problem: Analyze Order Data\n",
    "Given the following nested dictionary representing a customer order, extract and print the following information:\n",
    "\n",
    "The customer's full name.\n",
    "The total price of all items in the order.\n",
    "A list of the names of all items in the order."
   ]
  },
  {
   "cell_type": "code",
   "execution_count": 50,
   "id": "242d15da",
   "metadata": {},
   "outputs": [
    {
     "name": "stdout",
     "output_type": "stream",
     "text": [
      "Bob Johnson\n",
      "31.689999999999998\n",
      "['Book', 'Notebook', 'Pen']\n"
     ]
    }
   ],
   "source": [
    "order_data = {\n",
    "    \"customer\": {\n",
    "        \"first_name\": \"Bob\",\n",
    "        \"last_name\": \"Johnson\"\n",
    "    },\n",
    "    \"items\": [\n",
    "        {\"item_name\": \"Book\",\n",
    "         \"price\": 25.99\n",
    "         },\n",
    "        {\"item_name\": \"Notebook\",\n",
    "         \"price\": 4.50\n",
    "         },\n",
    "        {\"item_name\": \"Pen\",\n",
    "         \"price\": 1.20\n",
    "         }\n",
    "    ]\n",
    "}\n",
    "\n",
    "# 1. Customer's full name\n",
    "print(f\"{order_data[\"customer\"][\"first_name\"]} {order_data[\"customer\"][\"last_name\"]}\")\n",
    "# 2. Total price of all items\n",
    "print(sum([price[\"price\"] for price in order_data[\"items\"]]))\n",
    "# 3. List of item names\n",
    "print([price[\"item_name\"] for price in order_data[\"items\"]])"
   ]
  },
  {
   "cell_type": "markdown",
   "id": "e4efedb4",
   "metadata": {},
   "source": [
    "### Exercises (quick checks)\n",
    "\n",
    "- E1.1: Slice mylist = [1,2,3,4,5,6,7,8] to get the even-indexed items.\n",
    "- E1.2: Using f‑strings, print: \"User: <your name>, Items: <count>\" where count is the length of a list.\n",
    "- Stretch: Create a dict and print a sentence using f‑strings that references two keys."
   ]
  },
  {
   "cell_type": "code",
   "execution_count": 56,
   "id": "8c346849",
   "metadata": {},
   "outputs": [
    {
     "name": "stdout",
     "output_type": "stream",
     "text": [
      "[2, 4, 6, 8]\n",
      "User: Bob Johnson, Items: 3\n",
      "My name is Saimun and I am 25 years old.\n"
     ]
    }
   ],
   "source": [
    "#E1.1\n",
    "mylist = [1,2,3,4,5,6,7,8]\n",
    "print(mylist[1::2])\n",
    "\n",
    "#E1.2\n",
    "order_data = {\n",
    "    \"customer\": {\n",
    "        \"first_name\": \"Bob\",\n",
    "        \"last_name\": \"Johnson\"\n",
    "    },\n",
    "    \"items\": [\n",
    "        {\"item_name\": \"Book\",\n",
    "         \"price\": 25.99\n",
    "         },\n",
    "        {\"item_name\": \"Notebook\",\n",
    "         \"price\": 4.50\n",
    "         },\n",
    "        {\"item_name\": \"Pen\",\n",
    "         \"price\": 1.20\n",
    "         }\n",
    "    ]\n",
    "}\n",
    "print(f\"User: {order_data[\"customer\"][\"first_name\"]} {order_data[\"customer\"][\"last_name\"]}, Items: {len(order_data[\"items\"])}\")\n",
    "\n",
    "# Stretch\n",
    "person = {\n",
    "    \"name\": \"Saimun\",\n",
    "    \"age\": 25\n",
    "}\n",
    "\n",
    "print(f\"My name is {person['name']} and I am {person['age']} years old.\")\n"
   ]
  },
  {
   "cell_type": "markdown",
   "id": "e03b45b8",
   "metadata": {},
   "source": [
    "##  2) Control Flow & Comprehensions\n",
    "Topics: if/elif/else, loops, list/dict/set comprehensions"
   ]
  },
  {
   "cell_type": "code",
   "execution_count": 63,
   "id": "64f197e7",
   "metadata": {},
   "outputs": [
    {
     "name": "stdout",
     "output_type": "stream",
     "text": [
      "0 → zero\n",
      "5 → odd\n",
      "10 → even\n",
      "15 → odd\n",
      "20 → even\n",
      "25 → odd\n",
      "30 → even\n",
      "35 → odd\n",
      "40 → even\n",
      "45 → odd\n",
      "50 → even\n"
     ]
    }
   ],
   "source": [
    "# --- DEMO: Control flow ---\n",
    "for i in range(0, 51, 5):\n",
    "    if not i:\n",
    "        label = \"zero\"\n",
    "    elif i % 2 == 0:\n",
    "        label = \"even\"\n",
    "    else:\n",
    "        label = \"odd\"\n",
    "    print(i, \"→\", label)"
   ]
  },
  {
   "cell_type": "code",
   "execution_count": 73,
   "id": "4a4ef0d9",
   "metadata": {},
   "outputs": [
    {
     "name": "stdout",
     "output_type": "stream",
     "text": [
      "[95.0, 104.0, 82.4, 89.6, 86.0]\n",
      "[1, 4, 9, 16, 25]\n",
      "{1: 1, 2: 4, 3: 9, 4: 16, 5: 25}\n",
      "{'a', 'b'}\n"
     ]
    }
   ],
   "source": [
    "temp = [35, 40, 28, 32, 30]\n",
    "farhen = [c * (9/5) + 32 for c in temp]\n",
    "print(farhen)\n",
    "\n",
    "squires = [x**2 for x in range(1, 6)]\n",
    "print(squires)\n",
    "\n",
    "squires_map = {x: x**2 for x in range(1, 6)}\n",
    "print(squires_map)\n",
    "\n",
    "unique_initials = {item[0].lower() for item in [\"Alice\", \"Bob\", \"alex\", \"Beta\"]}\n",
    "print(unique_initials)"
   ]
  },
  {
   "cell_type": "code",
   "execution_count": 101,
   "id": "696a2044",
   "metadata": {},
   "outputs": [
    {
     "name": "stdout",
     "output_type": "stream",
     "text": [
      "[[4, 16], [16, 36, 64], [64, 100]]\n",
      "{1: 'odd', 2: 'Even', 3: 'odd', 4: 'Even and divisible by 4', 5: 'odd and divisible by 5', 6: 'Even', 7: 'odd', 8: 'Even and divisible by 4', 9: 'odd', 10: 'Even', 11: 'odd', 12: 'Even and divisible by 4', 13: 'odd', 14: 'Even', 15: 'odd and divisible by 5', 16: 'Even and divisible by 4', 17: 'odd', 18: 'Even', 19: 'odd', 20: 'Even and divisible by 4', 21: 'odd', 22: 'Even', 23: 'odd', 24: 'Even and divisible by 4', 25: 'odd and divisible by 5', 26: 'Even', 27: 'odd', 28: 'Even and divisible by 4', 29: 'odd', 30: 'Even', 31: 'odd', 32: 'Even and divisible by 4', 33: 'odd', 34: 'Even', 35: 'odd and divisible by 5', 36: 'Even and divisible by 4', 37: 'odd', 38: 'Even', 39: 'odd', 40: 'Even and divisible by 4', 41: 'odd', 42: 'Even', 43: 'odd', 44: 'Even and divisible by 4', 45: 'odd and divisible by 5', 46: 'Even', 47: 'odd', 48: 'Even and divisible by 4', 49: 'odd', 50: 'Even', 51: 'odd', 52: 'Even and divisible by 4', 53: 'odd', 54: 'Even', 55: 'odd and divisible by 5', 56: 'Even and divisible by 4', 57: 'odd', 58: 'Even', 59: 'odd', 60: 'Even and divisible by 4', 61: 'odd', 62: 'Even', 63: 'odd', 64: 'Even and divisible by 4', 65: 'odd and divisible by 5', 66: 'Even', 67: 'odd', 68: 'Even and divisible by 4', 69: 'odd', 70: 'Even', 71: 'odd', 72: 'Even and divisible by 4', 73: 'odd', 74: 'Even', 75: 'odd and divisible by 5', 76: 'Even and divisible by 4', 77: 'odd', 78: 'Even', 79: 'odd', 80: 'Even and divisible by 4', 81: 'odd', 82: 'Even', 83: 'odd', 84: 'Even and divisible by 4', 85: 'odd and divisible by 5', 86: 'Even', 87: 'odd', 88: 'Even and divisible by 4', 89: 'odd', 90: 'Even', 91: 'odd', 92: 'Even and divisible by 4', 93: 'odd', 94: 'Even', 95: 'odd and divisible by 5', 96: 'Even and divisible by 4', 97: 'odd', 98: 'Even', 99: 'odd'}\n"
     ]
    }
   ],
   "source": [
    "nested_squires = [ [x**2 for x in range(i, i + 5) if i % 2== 0] for i in range(1, 10, 3)]\n",
    "# nested_squares = [[x**2 for x in range(i, i+5) if x % 2 == 0] for i in range(1, 10, 3)]\n",
    "nested_squares = [[x**2 for x in range(i, i+5) if x % 2 == 0] for i in range(1, 10, 3)]\n",
    "print(nested_squares)\n",
    "\n",
    "number_description = {\n",
    "    x : (\"Even and divisible by 4\" if x%2 == 0 and x%4 == 0\n",
    "    else \"Even\" if x %2 == 0\n",
    "    else \"odd and divisible by 5\" if x%5 == 0\n",
    "    else \"odd\")\n",
    "    for x in range(1, 100)\n",
    "}\n",
    "print(number_description)"
   ]
  },
  {
   "cell_type": "markdown",
   "id": "a11ed075",
   "metadata": {},
   "source": [
    "### Problem: Analyze User Order Data\n",
    "Given a list of user dictionaries, where each user has a list of orders, perform the following analyses:\n",
    "\n",
    "- Calculate and print the total amount spent by each user.\n",
    "- Create a list of all order amounts across all users.\n",
    "- Create a dictionary mapping each user's ID to the number of orders they have placed."
   ]
  },
  {
   "cell_type": "code",
   "execution_count": 108,
   "id": "9dfea11b",
   "metadata": {},
   "outputs": [
    {
     "name": "stdout",
     "output_type": "stream",
     "text": [
      "Total amount spent by each user (using loop):\n",
      "Alice: $350\n",
      "Bob: $50\n",
      "Charlie: $0\n",
      "\n",
      "All order amounts: [150, 200, 50]\n",
      "Number of orders per user: {1: 2, 2: 1, 3: 0}\n"
     ]
    }
   ],
   "source": [
    "# 1\n",
    "users_data = [\n",
    "    {\"user_id\": 1, \"name\": \"Alice\", \"orders\": [{\"order_id\": \"A1\", \"amount\": 150}, {\"order_id\": \"A2\", \"amount\": 200}]},\n",
    "    {\"user_id\": 2, \"name\": \"Bob\", \"orders\": [{\"order_id\": \"B1\", \"amount\": 50}]},\n",
    "    {\"user_id\": 3, \"name\": \"Charlie\", \"orders\": []}\n",
    "]\n",
    "\n",
    "# Calculate the total amount spent by each user using a loop\n",
    "print(\"Total amount spent by each user (using loop):\")\n",
    "for user in users_data:\n",
    "    total_spent = 0\n",
    "    for order in user.get(\"orders\", []): # Use .get() for safe access\n",
    "        total_spent += order.get(\"amount\", 0) # Use .get() for safe access\n",
    "    print(f\"{user.get('name', 'N/A')}: ${total_spent}\")\n",
    "\n",
    "# Get a list of all order amounts across all users using a nested comprehension\n",
    "all_order_amounts = [order.get(\"amount\", 0) for user in users_data for order in user.get(\"orders\", [])]\n",
    "print(\"\\nAll order amounts:\", all_order_amounts)\n",
    "\n",
    "# Create a dictionary mapping user_id to the number of orders using a dictionary comprehension\n",
    "orders_count_by_user = {user.get(\"user_id\"): len(user.get(\"orders\", [])) for user in users_data}\n",
    "print(\"Number of orders per user:\", orders_count_by_user)\n",
    "\n"
   ]
  },
  {
   "cell_type": "markdown",
   "id": "28477358",
   "metadata": {},
   "source": [
    "### Exercises\n",
    "\n",
    "- E2.1: From text = \"Educating AI with Python\", build a list of vowels using a comprehension.\n",
    "- E2.2: Create a dict mapping numbers 1..5 to \"odd\"/\"even\" using a comprehension.\n",
    "- Stretch: Build a set of unique lowercase letters from a sentence, excluding spaces and punctuation."
   ]
  },
  {
   "cell_type": "code",
   "execution_count": null,
   "id": "02018bb0",
   "metadata": {},
   "outputs": [
    {
     "name": "stdout",
     "output_type": "stream",
     "text": [
      "['E', 'u', 'a', 'i', 'A', 'I', 'i', 'o']\n",
      "{1: 'Odd', 2: 'Even', 3: 'Odd', 4: 'Even'}\n",
      "{'t', 'c', 'a', 'd', 'p', 'o', 'g', 'y', 'h', 'i', 'w', 'u', 'n', 'e'}\n"
     ]
    }
   ],
   "source": [
    "#E2.1\n",
    "text = \"Educating AI! with Python?\"\n",
    "vowels = [a for a in text if a.lower() in ['a', 'e', 'i', 'o', 'u']]\n",
    "print(vowels)\n",
    "\n",
    "# E2.2\n",
    "num = {i: \"Odd\" if i % 2 else \"Even\" for i in range(1,5)}\n",
    "print(num)\n",
    "\n",
    "# Stretch\n",
    "text = \"Educating AI with Python\"\n",
    "latters = {a.lower() for a in text if a.isalpha()}\n",
    "print(latters)"
   ]
  }
 ],
 "metadata": {
  "kernelspec": {
   "display_name": "venv",
   "language": "python",
   "name": "python3"
  },
  "language_info": {
   "codemirror_mode": {
    "name": "ipython",
    "version": 3
   },
   "file_extension": ".py",
   "mimetype": "text/x-python",
   "name": "python",
   "nbconvert_exporter": "python",
   "pygments_lexer": "ipython3",
   "version": "3.12.11"
  }
 },
 "nbformat": 4,
 "nbformat_minor": 5
}
