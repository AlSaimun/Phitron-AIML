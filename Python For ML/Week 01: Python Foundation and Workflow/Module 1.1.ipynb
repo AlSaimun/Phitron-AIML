{
 "cells": [
  {
   "cell_type": "markdown",
   "id": "d638fe64",
   "metadata": {},
   "source": [
    "## Python Basic"
   ]
  },
  {
   "cell_type": "code",
   "execution_count": 2,
   "id": "a57197b2",
   "metadata": {},
   "outputs": [
    {
     "name": "stdout",
     "output_type": "stream",
     "text": [
      "<class 'int'>\n",
      "<class 'float'>\n",
      "<class 'str'>\n",
      "<class 'bool'>\n"
     ]
    }
   ],
   "source": [
    "a = 15\n",
    "b = 30.4545\n",
    "c = \"Hello, World!\"\n",
    "d = True\n",
    "\n",
    "print(type(a))  # <class 'int'>\n",
    "print(type(b))  # <class 'float'>\n",
    "print(type(c))  # <class 'str'>\n",
    "print(type(d))  # <class 'bool'>"
   ]
  },
  {
   "cell_type": "markdown",
   "id": "a2952a16",
   "metadata": {},
   "source": [
    "## Input in Python "
   ]
  },
  {
   "cell_type": "code",
   "execution_count": 6,
   "id": "fce04a31",
   "metadata": {},
   "outputs": [
    {
     "name": "stdout",
     "output_type": "stream",
     "text": [
      "Saimun <class 'str'>\n"
     ]
    }
   ],
   "source": [
    "name = input(\"Enter your name: \")\n",
    "print(name, type(name))\n"
   ]
  },
  {
   "cell_type": "code",
   "execution_count": 8,
   "id": "ea02524b",
   "metadata": {},
   "outputs": [
    {
     "name": "stdout",
     "output_type": "stream",
     "text": [
      "23 <class 'str'>\n"
     ]
    }
   ],
   "source": [
    "# python input all as string\n",
    "age = input(\"Enter your age: \")\n",
    "print(age, type(age))\n"
   ]
  },
  {
   "cell_type": "code",
   "execution_count": 10,
   "id": "e3ada4d0",
   "metadata": {},
   "outputs": [
    {
     "name": "stdout",
     "output_type": "stream",
     "text": [
      "23 <class 'int'>\n"
     ]
    }
   ],
   "source": [
    "age = int(input(\"Enter your age: \"))\n",
    "print(age, type(age))"
   ]
  },
  {
   "cell_type": "code",
   "execution_count": 11,
   "id": "901114b9",
   "metadata": {},
   "outputs": [
    {
     "name": "stdout",
     "output_type": "stream",
     "text": [
      "5.5 <class 'float'>\n"
     ]
    }
   ],
   "source": [
    "amount = float(input(\"Enter a amount: \"))\n",
    "print(amount, type(amount))"
   ]
  },
  {
   "cell_type": "markdown",
   "id": "b3d71fa7",
   "metadata": {},
   "source": [
    "## Python Operator"
   ]
  },
  {
   "cell_type": "code",
   "execution_count": 19,
   "id": "61a78e16",
   "metadata": {},
   "outputs": [
    {
     "name": "stdout",
     "output_type": "stream",
     "text": [
      "35 200 2.0 3 1 1.42857 32 True True False True True False 15\n"
     ]
    }
   ],
   "source": [
    "a = 10 + 25\n",
    "b = 10 * 20\n",
    "c = 10 / 5\n",
    "d = 10 // 3\n",
    "e = 10 % 3\n",
    "f = round(10/7, 5) # use 2 decimal places\n",
    "power = 2**5\n",
    "greater_than = 10 > 5\n",
    "greater_than_eq = 10 >= 5\n",
    "less_than = 10 < 5\n",
    "less_than_eq = 3 <= 5\n",
    "eq = 10 == 10\n",
    "not_eq = 10 != 10\n",
    "bit = 10^5\n",
    "print (a, b, c, d, e, f, power, greater_than, greater_than_eq, less_than, less_than_eq, eq, not_eq, bit)\n"
   ]
  },
  {
   "cell_type": "markdown",
   "id": "03f8ec74",
   "metadata": {},
   "source": [
    "## Problem : Digit Sumation"
   ]
  },
  {
   "cell_type": "code",
   "execution_count": 30,
   "id": "19677277",
   "metadata": {},
   "outputs": [
    {
     "name": "stdout",
     "output_type": "stream",
     "text": [
      "5\n"
     ]
    }
   ],
   "source": [
    "# num1, num2 = map(int, input().split())\n",
    "# num1, num2 = [int(x) for x in input().split()]\n",
    "nums = input().split()\n",
    "num1 = int(nums[0])\n",
    "num2 = int(nums[1])\n",
    "digit_sum = num1 % 10 + num2 % 10\n",
    "print(digit_sum)"
   ]
  }
 ],
 "metadata": {
  "kernelspec": {
   "display_name": "venv",
   "language": "python",
   "name": "python3"
  },
  "language_info": {
   "codemirror_mode": {
    "name": "ipython",
    "version": 3
   },
   "file_extension": ".py",
   "mimetype": "text/x-python",
   "name": "python",
   "nbconvert_exporter": "python",
   "pygments_lexer": "ipython3",
   "version": "3.12.11"
  }
 },
 "nbformat": 4,
 "nbformat_minor": 5
}
