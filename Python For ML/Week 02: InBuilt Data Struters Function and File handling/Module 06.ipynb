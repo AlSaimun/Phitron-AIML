{
 "cells": [
  {
   "cell_type": "markdown",
   "id": "8498d11b-2331-4e75-988c-e5c7ef9557ca",
   "metadata": {
    "jp-MarkdownHeadingCollapsed": true
   },
   "source": [
    "## Function"
   ]
  },
  {
   "cell_type": "code",
   "execution_count": 2,
   "id": "d97fe33c-be0a-41ff-a46e-2254b6e47696",
   "metadata": {},
   "outputs": [
    {
     "name": "stdout",
     "output_type": "stream",
     "text": [
      "Hello World!\n"
     ]
    }
   ],
   "source": [
    "def fun():\n",
    "    print(\"Hello World!\")\n",
    "\n",
    "fun()"
   ]
  },
  {
   "cell_type": "code",
   "execution_count": 5,
   "id": "096826e8-efcc-478c-88c4-3cf5b794ed12",
   "metadata": {},
   "outputs": [
    {
     "name": "stdout",
     "output_type": "stream",
     "text": [
      "40\n"
     ]
    }
   ],
   "source": [
    "def addition(a, b):\n",
    "    return a + b\n",
    "\n",
    "print(addition(10, 30))"
   ]
  },
  {
   "cell_type": "code",
   "execution_count": 10,
   "id": "59ceba50-1583-43b1-8bee-6342214f6177",
   "metadata": {},
   "outputs": [
    {
     "name": "stdout",
     "output_type": "stream",
     "text": [
      "45\n",
      "33\n"
     ]
    }
   ],
   "source": [
    "# default value \n",
    "def addition(a, b, c=10):\n",
    "    return a + b + c\n",
    "\n",
    "\n",
    "sum1 = addition(10, 25)\n",
    "print(sum1)\n",
    "\n",
    "# pass perameter keyword\n",
    "sum2 = addition(c=20, a=8, b=5)\n",
    "print(sum2)"
   ]
  },
  {
   "cell_type": "code",
   "execution_count": 17,
   "id": "59512c19-5699-4e98-90e3-5dda3489f740",
   "metadata": {},
   "outputs": [
    {
     "name": "stdout",
     "output_type": "stream",
     "text": [
      "(1, 2, 5, 6)\n",
      "1 2 5 6\n",
      "3600\n"
     ]
    }
   ],
   "source": [
    "# args\n",
    "\n",
    "def squires_multiple(*args):\n",
    "    print(args) # return tuple\n",
    "    print(*args)\n",
    "    mul = 1\n",
    "    for x in args:\n",
    "        mul *= x**2\n",
    "    return mul\n",
    "\n",
    "mul = squires_multiple(1, 2, 5, 6)\n",
    "print(mul)\n"
   ]
  },
  {
   "cell_type": "code",
   "execution_count": 28,
   "id": "390ee8c6-4063-4f28-8d96-f94511f7d60e",
   "metadata": {},
   "outputs": [
    {
     "name": "stdout",
     "output_type": "stream",
     "text": [
      "{'name': 'saimun', 'roll': '15', 'address': 'Dhaka'}\n",
      "name : saimun\n",
      "name : saimun\n",
      "roll : 15\n",
      "address : Dhaka\n"
     ]
    }
   ],
   "source": [
    "# kwargs\n",
    "def display(**kwargs):\n",
    "    print(kwargs) # return tuple\n",
    "    name = kwargs.get(\"name\")\n",
    "    print(\"name :\", name)\n",
    "    for k,v in kwargs.items():\n",
    "        print(f\"{k} : {v}\")\n",
    "    \n",
    "\n",
    "display(name=\"saimun\", roll=\"15\", address=\"Dhaka\")\n",
    "\n"
   ]
  },
  {
   "cell_type": "markdown",
   "id": "953a8cc3-f3f0-4973-a870-540eb68978cd",
   "metadata": {
    "jp-MarkdownHeadingCollapsed": true
   },
   "source": [
    "## Function Return value"
   ]
  },
  {
   "cell_type": "code",
   "execution_count": 32,
   "id": "e4afc0cc-82c7-4993-ae24-90468286aa63",
   "metadata": {},
   "outputs": [
    {
     "name": "stdout",
     "output_type": "stream",
     "text": [
      "([1, 2, 5], 'successfully retrived')\n",
      "[1, 2, 5] successfully retrived\n"
     ]
    }
   ],
   "source": [
    "def get_data():\n",
    "    a = [1, 2, 5]\n",
    "    return a, \"successfully retrived\"\n",
    "\n",
    "data = get_data()\n",
    "print(data)\n",
    "data, message = get_data()\n",
    "print(data, message)"
   ]
  },
  {
   "cell_type": "code",
   "execution_count": 36,
   "id": "4bfa038e-9961-4b7b-8b40-34f8835eedab",
   "metadata": {},
   "outputs": [
    {
     "name": "stdout",
     "output_type": "stream",
     "text": [
      "<class 'list'> <class 'set'>\n",
      "[1, 2, 5] {'a', 'b', 'c'}\n"
     ]
    }
   ],
   "source": [
    "def get_data():\n",
    "    a = [1, 2, 5]\n",
    "    b = {'a', 'b', 'c'}\n",
    "    return a, b\n",
    "\n",
    "lst, st = get_data()\n",
    "print(type(lst), type(st))\n",
    "print(lst, st)\n"
   ]
  },
  {
   "cell_type": "markdown",
   "id": "a6bfeeec-d8ce-40b3-8783-6b6553c0e7d2",
   "metadata": {
    "jp-MarkdownHeadingCollapsed": true
   },
   "source": [
    "## Iterator"
   ]
  },
  {
   "cell_type": "code",
   "execution_count": 49,
   "id": "e0bba95d-f2bd-4cc1-aeed-10fc49635fa2",
   "metadata": {},
   "outputs": [
    {
     "name": "stdout",
     "output_type": "stream",
     "text": [
      "<class 'set_iterator'>\n",
      "10\n",
      "20\n",
      "50\n"
     ]
    }
   ],
   "source": [
    "st = {10, 20, 50, 60}\n",
    "\n",
    "st_iter = iter(st)\n",
    "print(type(st_iter))\n",
    "print(next(st_iter))\n",
    "print(next(st_iter))\n",
    "print(next(st_iter))\n",
    "\n",
    "\n",
    "lst = [1, 5, 6, 7]"
   ]
  },
  {
   "cell_type": "code",
   "execution_count": 45,
   "id": "ed2fd49f-ce23-4200-86b8-940a49480b94",
   "metadata": {},
   "outputs": [],
   "source": [
    "## Generator"
   ]
  },
  {
   "cell_type": "code",
   "execution_count": 47,
   "id": "318deff1-d1ca-4b13-8ae8-2ef67d3e9bfc",
   "metadata": {},
   "outputs": [
    {
     "name": "stdout",
     "output_type": "stream",
     "text": [
      "[0, 1, 2, 3, 4, 5, 6, 7, 8, 9, 10, 11, 12, 13, 14, 15, 16, 17, 18, 19, 20, 21, 22, 23, 24, 25, 26, 27, 28, 29, 30, 31, 32, 33, 34, 35, 36, 37, 38, 39, 40, 41, 42, 43, 44, 45, 46, 47, 48, 49, 50, 51, 52, 53, 54, 55, 56, 57, 58, 59, 60, 61, 62, 63, 64, 65, 66, 67, 68, 69, 70, 71, 72, 73, 74, 75, 76, 77, 78, 79, 80, 81, 82, 83, 84, 85, 86, 87, 88, 89, 90, 91, 92, 93, 94, 95, 96, 97, 98, 99]\n"
     ]
    }
   ],
   "source": [
    "data = [i for i in range(100)]\n",
    "print(data)"
   ]
  },
  {
   "cell_type": "code",
   "execution_count": 61,
   "id": "0084377e-4579-444f-8ca8-09fe091ca2b2",
   "metadata": {},
   "outputs": [
    {
     "name": "stdout",
     "output_type": "stream",
     "text": [
      "<generator object chunk_data at 0x148547c40>\n",
      "<class 'generator'>\n",
      "[0, 1, 2, 3, 4, 5, 6, 7, 8, 9]\n",
      "[10, 11, 12, 13, 14, 15, 16, 17, 18, 19]\n",
      "[20, 21, 22, 23, 24, 25, 26, 27, 28, 29]\n",
      "[30, 31, 32, 33, 34, 35, 36, 37, 38, 39]\n",
      "[40, 41, 42, 43, 44, 45, 46, 47, 48, 49]\n"
     ]
    }
   ],
   "source": [
    "def chunk_data(lst, size):\n",
    "    for i in range(0, len(lst), size):\n",
    "        yield lst[i : i + size]\n",
    "\n",
    "lst = chunk_data(data, 10)\n",
    "print(lst)\n",
    "print(type(lst))\n",
    "\n",
    "d1 = next(lst)\n",
    "print(d1)\n",
    "print(next(lst))\n",
    "print(next(lst))\n",
    "print(next(lst))\n",
    "print(next(lst))\n"
   ]
  },
  {
   "cell_type": "markdown",
   "id": "2a550229-e13b-4d71-9c00-daf4f355169e",
   "metadata": {
    "jp-MarkdownHeadingCollapsed": true
   },
   "source": [
    "## Lambda function"
   ]
  },
  {
   "cell_type": "code",
   "execution_count": 66,
   "id": "a5349748-a179-4128-8899-1c5cdd41e10f",
   "metadata": {},
   "outputs": [
    {
     "name": "stdout",
     "output_type": "stream",
     "text": [
      "25\n",
      "66\n"
     ]
    }
   ],
   "source": [
    "# syntax: lambda perameters: expression\n",
    "\n",
    "square = lambda x : x**2\n",
    "print(square(5))\n",
    "\n",
    "square_add = lambda *args : sum([x**2 for x in args])\n",
    "\n",
    "print(square_add(1, 2, 5, 6))"
   ]
  },
  {
   "cell_type": "markdown",
   "id": "502926e2-2915-4e25-a503-7fa3c7df0987",
   "metadata": {
    "jp-MarkdownHeadingCollapsed": true
   },
   "source": [
    "## Map function"
   ]
  },
  {
   "cell_type": "code",
   "execution_count": 69,
   "id": "e734ecf9-c36e-4aad-9aa6-19b336cea7db",
   "metadata": {},
   "outputs": [
    {
     "name": "stdout",
     "output_type": "stream",
     "text": [
      "[1, 4, 9, 16, 25, 36]\n"
     ]
    }
   ],
   "source": [
    "# syntax: map(fucntion: iterable) **iterable like list, set, string etc\n",
    "lst = [1, 2, 3, 4, 5, 6]\n",
    "\n",
    "def sq(a):\n",
    "    return a**2\n",
    "    \n",
    "new_lst = list(map(sq, lst))\n",
    "print(new_lst)\n"
   ]
  },
  {
   "cell_type": "markdown",
   "id": "d4070fd3-2a2f-4266-88bf-f5e64ac223f1",
   "metadata": {
    "jp-MarkdownHeadingCollapsed": true
   },
   "source": [
    "### Map X Lambda"
   ]
  },
  {
   "cell_type": "code",
   "execution_count": 80,
   "id": "f1447938-3042-4fd5-a978-b1014a0373a7",
   "metadata": {},
   "outputs": [
    {
     "name": "stdout",
     "output_type": "stream",
     "text": [
      "[1, 4, 9, 16, 25, 36]\n",
      "HELLO WORLD, PHITRON\n"
     ]
    }
   ],
   "source": [
    "lst = [1, 2, 3, 4, 5, 6]\n",
    " \n",
    "new_lst = list(map(lambda x : x**2, lst))\n",
    "print(new_lst)\n",
    "\n",
    "st = \"Hello World, Phitron\"\n",
    "\n",
    "new_st = list(map(str.upper, st))\n",
    "new_st = \"\".join(new_st)\n",
    "print(new_st)"
   ]
  },
  {
   "cell_type": "code",
   "execution_count": 83,
   "id": "155ef592-16c5-497e-8506-ff6aacf2ae7d",
   "metadata": {},
   "outputs": [
    {
     "name": "stdout",
     "output_type": "stream",
     "text": [
      "[1, 2, 9, 4, 25, 6]\n"
     ]
    }
   ],
   "source": [
    "lst = [1, 2, 3, 4, 5, 6]\n",
    " \n",
    "new_lst = list(map(lambda x : x**2 if x%2 else x, lst))\n",
    "print(new_lst)\n"
   ]
  },
  {
   "cell_type": "markdown",
   "id": "9c8d3e54-6215-4c99-a38c-7417b61767dc",
   "metadata": {
    "jp-MarkdownHeadingCollapsed": true
   },
   "source": [
    "## Filter function"
   ]
  },
  {
   "cell_type": "code",
   "execution_count": 90,
   "id": "2ddab0d4-cc43-499f-a098-3cb644c7493c",
   "metadata": {},
   "outputs": [
    {
     "name": "stdout",
     "output_type": "stream",
     "text": [
      "[0, 2, 4, 6, 8, 10, 12, 14, 16, 18, 20, 22, 24, 26, 28, 30, 32, 34, 36, 38, 40, 42, 44, 46, 48, 50, 52, 54, 56, 58, 60, 62, 64, 66, 68, 70, 72, 74, 76, 78, 80, 82, 84, 86, 88, 90, 92, 94, 96, 98]\n"
     ]
    }
   ],
   "source": [
    "# syntax: filter(function that return boolean : iterable)\n",
    "lst = [i for i in range(100)]\n",
    "\n",
    "def is_even(x):\n",
    "    return x % 2 == 0\n",
    "\n",
    "new_lst = list(filter(is_even, lst))\n",
    "print(new_lst)"
   ]
  },
  {
   "cell_type": "markdown",
   "id": "7b87c495-472f-4333-ac5a-13dbf03b45b6",
   "metadata": {
    "jp-MarkdownHeadingCollapsed": true
   },
   "source": [
    "## Filter X Lambda"
   ]
  },
  {
   "cell_type": "code",
   "execution_count": 96,
   "id": "b638307f-6192-4a88-8674-055785667659",
   "metadata": {},
   "outputs": [
    {
     "name": "stdout",
     "output_type": "stream",
     "text": [
      "[1, 3, 5, 7, 9, 11, 13, 15, 17, 19, 21, 23, 25, 27, 29, 31, 33, 35, 37, 39, 41, 43, 45, 47, 49, 51, 53, 55, 57, 59, 61, 63, 65, 67, 69, 71, 73, 75, 77, 79, 81, 83, 85, 87, 89, 91, 93, 95, 97, 99]\n"
     ]
    }
   ],
   "source": [
    "new_lst = list(filter(lambda x : x % 2, lst))\n",
    "print(new_lst)"
   ]
  },
  {
   "cell_type": "code",
   "execution_count": 114,
   "id": "e4ace9d7-8a83-4cd3-b92e-403a78a20e86",
   "metadata": {},
   "outputs": [
    {
     "name": "stdout",
     "output_type": "stream",
     "text": [
      "['a', True, 1, 2]\n",
      "['e', 'o', 'o', 'E', 'e', 'o']\n"
     ]
    }
   ],
   "source": [
    "lst = ['a', None, True, 1, 2, False, None]\n",
    "\n",
    "new_lst = list(filter(None, lst))\n",
    "print(new_lst)\n",
    "\n",
    "st = \"Hello world, Everybody\"\n",
    "print(list(filter(lambda c: c.lower() in \"aeiou\", st)))"
   ]
  },
  {
   "cell_type": "markdown",
   "id": "5647df16-68ae-4906-93dd-8ef1150c1dfb",
   "metadata": {},
   "source": [
    "## Reduce method"
   ]
  },
  {
   "cell_type": "code",
   "execution_count": 2,
   "id": "bfeb2a74-4c9e-4b96-8f80-0a4f8616506a",
   "metadata": {},
   "outputs": [],
   "source": [
    "from functools import reduce"
   ]
  },
  {
   "cell_type": "code",
   "execution_count": 3,
   "id": "ab953a39-09c4-41c6-aa19-2f6d390069f6",
   "metadata": {},
   "outputs": [
    {
     "name": "stdout",
     "output_type": "stream",
     "text": [
      "210\n",
      "50\n"
     ]
    }
   ],
   "source": [
    "'''\n",
    "reduce(function, iterable[, initializer])\n",
    "\n",
    "function:\tA function that takes two arguments — it combines them into one.\n",
    "iterable:\tAny sequence (list, tuple, etc.) whose items will be reduced.\n",
    "initializer: (optional)\tStarting value. If given, it’s used as the first value of the accumulator.\n",
    "\n",
    "'''\n",
    "lst = [10, 20, 30, 50]\n",
    "\n",
    "ans = reduce(lambda x, y: x + y, lst, 100) # continus summation 210 + 100\n",
    "print(ans)\n",
    "\n",
    "ans = reduce(lambda x,y: x if x > y else y, lst)\n",
    "print(ans)\n"
   ]
  }
 ],
 "metadata": {
  "kernelspec": {
   "display_name": "Python [conda env:base] *",
   "language": "python",
   "name": "conda-base-py"
  },
  "language_info": {
   "codemirror_mode": {
    "name": "ipython",
    "version": 3
   },
   "file_extension": ".py",
   "mimetype": "text/x-python",
   "name": "python",
   "nbconvert_exporter": "python",
   "pygments_lexer": "ipython3",
   "version": "3.13.5"
  }
 },
 "nbformat": 4,
 "nbformat_minor": 5
}
