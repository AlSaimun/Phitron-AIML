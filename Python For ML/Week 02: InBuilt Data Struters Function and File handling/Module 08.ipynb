{
 "cells": [
  {
   "cell_type": "markdown",
   "id": "9296e07f-01b0-4c40-8f77-ed365338121b",
   "metadata": {},
   "source": [
    "## Class and Objects"
   ]
  },
  {
   "cell_type": "code",
   "execution_count": 58,
   "id": "9455a3fb-014d-48aa-8b9f-70a85ee8b802",
   "metadata": {},
   "outputs": [],
   "source": [
    "# base class\n",
    "class Phone:\n",
    "    category = \"Electronics\"\n",
    "\n",
    "    def __init__(self, name, battery, camera, battery_parcentage=100):\n",
    "        self.name = name\n",
    "        self.battery = battery\n",
    "        self.camera = camera\n",
    "        self.battery_parcentage = battery_parcentage\n",
    "        \n",
    "        print(self.battery_parcentage)\n",
    "    def charge(self, hour):\n",
    "        print(f\"charge completed by {hour}\")\n",
    "\n",
    "    def capture(self, photo):\n",
    "        if(self.battery_parcentage)<=0:\n",
    "          print(\"No charge\")\n",
    "        else:\n",
    "          self.battery_parcentage -= photo\n",
    "          print(f\"photo captured in {self.name}\")\n",
    "\n",
    "\n",
    "class CoolingMechanism:\n",
    "    def __init__(self, cooling_method):\n",
    "        self.cooling_method= cooling_method\n",
    "\n",
    "\n",
    "    #methods\n",
    "    def cooling_on(self):\n",
    "        print(f\"the system is being cool by {self.cooling_method}\")\n",
    "\n",
    "\n"
   ]
  },
  {
   "cell_type": "code",
   "execution_count": 59,
   "id": "77a78164-816b-42d2-9cbb-87cd33287ba7",
   "metadata": {},
   "outputs": [
    {
     "name": "stdout",
     "output_type": "stream",
     "text": [
      "100\n",
      "<__main__.Phone object at 0x134f84ad0>\n",
      "<class '__main__.Phone'>\n",
      "Mi note 11\n",
      "100\n"
     ]
    }
   ],
   "source": [
    "# Create object\n",
    "\n",
    "my_phone = Phone(\"Mi note 11\", 4000, 50) # object / instance\n",
    "print(my_phone)\n",
    "print(type(my_phone))\n",
    "\n",
    "print(my_phone.name)\n",
    "print(my_phone.battery_parcentage)"
   ]
  },
  {
   "cell_type": "markdown",
   "id": "6cba0ecd-0b55-453b-bc39-742b8a45a4c8",
   "metadata": {},
   "source": [
    "## Single Inheritance"
   ]
  },
  {
   "cell_type": "code",
   "execution_count": 60,
   "id": "b42e9aa0-b904-4fb7-a914-9ba15145d13c",
   "metadata": {},
   "outputs": [
    {
     "name": "stdout",
     "output_type": "stream",
     "text": [
      "100\n",
      "X\n",
      "SnapDragon\n",
      "charge completed by 1\n",
      "photo captured in X\n"
     ]
    }
   ],
   "source": [
    "class SmartPhone(Phone):\n",
    "    def __init__(self, name, battery, camera, processor):\n",
    "        super().__init__(name, battery, camera) # one way\n",
    "        # Phone.__init__(self, name, battery, camera) # two way, see here need to pass self\n",
    "        self.processor = processor\n",
    "\n",
    "\n",
    "pro = SmartPhone(\"X\",5000,100,\"SnapDragon\")\n",
    "\n",
    "print(pro.name)\n",
    "print(pro.processor)\n",
    "pro.charge(1)\n",
    "pro.capture(5)"
   ]
  },
  {
   "cell_type": "markdown",
   "id": "30626927-9445-4713-b4d1-bc58a1ef2552",
   "metadata": {},
   "source": [
    "## Multiple Inheritance"
   ]
  },
  {
   "cell_type": "code",
   "execution_count": 66,
   "id": "c2945cc9-7175-41e0-8340-12be68154ba4",
   "metadata": {},
   "outputs": [
    {
     "name": "stdout",
     "output_type": "stream",
     "text": [
      "100\n",
      "SD\n",
      "5000\n",
      "Nitrogen\n",
      "the system is being cool by Nitrogen\n",
      "charge completed by 1\n"
     ]
    }
   ],
   "source": [
    "class CoolingSmartPhone(SmartPhone, CoolingMechanism):\n",
    "    def __init__(self, name, battery , camera, processor, cooling_method):\n",
    "        SmartPhone.__init__(self, name, battery, camera, processor)\n",
    "        CoolingMechanism.__init__(self, cooling_method)\n",
    "\n",
    "pro_cooling = CoolingSmartPhone(\"Y\",5000,100,\"SD\",\"Nitrogen\")\n",
    "\n",
    "print(pro_cooling.processor) # SmartPhone class theke\n",
    "print(pro_cooling.battery) # Phone class theke\n",
    "print(pro_cooling.cooling_method) # Cooling_Mechanism class theke\n",
    "pro_cooling.cooling_on() # Cooling_Mechanism class er method\n",
    "pro_cooling.charge(1)"
   ]
  },
  {
   "cell_type": "markdown",
   "id": "e120839b-582d-41fb-81ed-b8d5286422f6",
   "metadata": {},
   "source": [
    "## Polymorphsim"
   ]
  },
  {
   "cell_type": "markdown",
   "id": "eee0a2d6-a6b8-4c99-b851-ebf200f32a7e",
   "metadata": {},
   "source": [
    "### Method overriding"
   ]
  },
  {
   "cell_type": "code",
   "execution_count": 67,
   "id": "d819c524-f86e-40e1-b08c-4b3749a0bdf0",
   "metadata": {},
   "outputs": [],
   "source": [
    "class Camera:\n",
    "  def __init__(self , name):\n",
    "    self.name = name\n",
    "\n",
    " # method\n",
    "  def capture(self):\n",
    "    print(\"a photo is captured\")"
   ]
  },
  {
   "cell_type": "code",
   "execution_count": 70,
   "id": "6ba43fbc-a611-44a6-aa89-8ffa3fbea1fc",
   "metadata": {},
   "outputs": [
    {
     "name": "stdout",
     "output_type": "stream",
     "text": [
      "Photo is captured  by DSLR\n",
      "Photo is captured by Drone\n"
     ]
    }
   ],
   "source": [
    "class DSLR(Camera):\n",
    "  def __init__(self,name,resolution):\n",
    "    super().__init__(name)\n",
    "    self.resolution = resolution\n",
    "\n",
    "  def capture(self):\n",
    "    print(\"Photo is captured  by DSLR\")\n",
    "\n",
    "\n",
    "\n",
    "class Drone(Camera):\n",
    "  def __init__(self,name,resolution):\n",
    "    super().__init__(name)\n",
    "    self.resolution = resolution\n",
    "\n",
    "  def capture(self):\n",
    "    print(\"Photo is captured by Drone\")\n",
    "\n",
    "\n",
    "dslr = DSLR (\"DSLR 07\", 200)\n",
    "drone = Drone(\"Drone x8\", 150)\n",
    "\n",
    "\n",
    "# method overriding by \n",
    "dslr.capture() \n",
    "drone.capture()"
   ]
  },
  {
   "cell_type": "markdown",
   "id": "3b29d482-f01c-423a-ad31-ce4c5b1fc917",
   "metadata": {},
   "source": [
    "### Method overloading"
   ]
  },
  {
   "cell_type": "code",
   "execution_count": 74,
   "id": "386eaebd-2070-4387-9cdc-58c6dce84a2f",
   "metadata": {},
   "outputs": [
    {
     "name": "stdout",
     "output_type": "stream",
     "text": [
      "6\n",
      "11\n"
     ]
    }
   ],
   "source": [
    "# type 1\n",
    "class Math:\n",
    "    def add(self, *args):\n",
    "        return sum(args)\n",
    "\n",
    "m = Math()\n",
    "print(m.add(1, 5))\n",
    "\n",
    "print(m.add(1, 5, 5))"
   ]
  },
  {
   "cell_type": "code",
   "execution_count": 76,
   "id": "2e3f68c5-b6aa-47bc-b60c-22638e6ad3eb",
   "metadata": {},
   "outputs": [
    {
     "name": "stdout",
     "output_type": "stream",
     "text": [
      "6\n",
      "11\n"
     ]
    }
   ],
   "source": [
    "# type 2 like c ++, java\n",
    "from multipledispatch import dispatch\n",
    "\n",
    "class Math:\n",
    "    @dispatch(int, int)\n",
    "    def add(self, a, b):\n",
    "        return a + b\n",
    "\n",
    "    @dispatch(int, int, int)\n",
    "    def add(self, a, b, c):\n",
    "        return a + b + c\n",
    "    \n",
    "m = Math()\n",
    "print(m.add(1, 5))\n",
    "\n",
    "print(m.add(1, 5, 5))\n"
   ]
  },
  {
   "cell_type": "markdown",
   "id": "8c004ecf-83da-4f2e-be23-444de1459ac4",
   "metadata": {},
   "source": [
    "### Operator overloading"
   ]
  },
  {
   "cell_type": "code",
   "execution_count": 81,
   "id": "9b2d165d-f5c3-448a-89ed-6207c986b5c8",
   "metadata": {},
   "outputs": [
    {
     "name": "stdout",
     "output_type": "stream",
     "text": [
      "Addition age\n",
      "43\n",
      "Multiply name\n",
      "saimun Rahim\n"
     ]
    }
   ],
   "source": [
    "class Student:\n",
    "    def __init__(self, name, age):\n",
    "        self.name = name\n",
    "        self.age = age\n",
    "        \n",
    "    def __add__(self, obj): # megic method\n",
    "        print(\"Addition age\")\n",
    "        return self.age + obj.age\n",
    "\n",
    "    def __mul__(self, obj): # megic method\n",
    "        print(\"Multiply name\")\n",
    "        return self.name + \" \" + obj.name \n",
    "    \n",
    "st1 = Student(\"saimun\", 23)\n",
    "st2 = Student(\"Rahim\", 20)\n",
    "print(st1 + st2)\n",
    "\n",
    "print(st1 * st2)"
   ]
  },
  {
   "cell_type": "markdown",
   "id": "f7660444-63bc-461a-aaae-f6ec7a09b927",
   "metadata": {},
   "source": [
    "## Encapsulation"
   ]
  },
  {
   "cell_type": "code",
   "execution_count": 97,
   "id": "e5ffda7b-c72d-4a97-a669-3e139b52c749",
   "metadata": {},
   "outputs": [
    {
     "name": "stdout",
     "output_type": "stream",
     "text": [
      "Phone\n",
      "Name has been changed\n",
      "Phitron\n",
      "1xkaf1\n"
     ]
    }
   ],
   "source": [
    "# design\n",
    "class Mobile:\n",
    "    def __init__(self,name,model,imei):\n",
    "        self.__name = name\n",
    "        self.__model = model\n",
    "        self.__imei = imei # private\n",
    "\n",
    "    def charge(self):\n",
    "        print(\"phone is charging\")\n",
    "    \n",
    "    def imei_getter(self):\n",
    "        return self.__imei\n",
    "        \n",
    "    def model_getter(self):\n",
    "        return self.__model\n",
    "\n",
    "    def __print_message(self, message): # private method only use inside in class\n",
    "        print(message)\n",
    "    \n",
    "    def name_getter(self):\n",
    "        return self.__name\n",
    "    \n",
    "    \n",
    "    def name_setter(self,name):\n",
    "        self.__name = name\n",
    "        self.__print_message(\"Name has been changed\")\n",
    "        \n",
    "\n",
    "# registration\n",
    "iphone = Mobile(\"Phone\",\"17\",\"1xkaf1\")\n",
    "\n",
    "print(iphone.name_getter())\n",
    "\n",
    "iphone.name_setter(\"Phitron\")\n",
    "\n",
    "\n",
    "print(iphone.name_getter())\n",
    "\n",
    "# don't use like that because it's private\n",
    "# print(iphone.imei)\n",
    "\n",
    "\n",
    "print(iphone.imei_getter())\n",
    "\n",
    "# print(iphone.__print_message()) not wokring\n"
   ]
  },
  {
   "cell_type": "markdown",
   "id": "62c34b87-86b7-463a-88bd-1e97e0d6997e",
   "metadata": {},
   "source": [
    "## Abstraction"
   ]
  },
  {
   "cell_type": "code",
   "execution_count": 103,
   "id": "5877c9d7-b1cc-4374-a22d-67984cccac66",
   "metadata": {},
   "outputs": [],
   "source": [
    "\n",
    "from abc import  ABC , abstractmethod\n",
    "\n",
    "class Telephone(ABC):\n",
    "\n",
    "    @abstractmethod\n",
    "    def make_call(self): # when inherited must me implemented this method\n",
    "        pass\n",
    "\n",
    "\n",
    "\n",
    "class Sphone(Telephone):\n",
    "    def make_call(self):\n",
    "        print(\"Making a call using SPhone\")\n",
    "\n",
    "\n",
    "\n",
    "class Iphone(Telephone):\n",
    "    def make_call(self):\n",
    "        print(\"Making a call using IPhone\")\n",
    "\n"
   ]
  },
  {
   "cell_type": "code",
   "execution_count": 104,
   "id": "14151474-cae3-45c9-a30b-7643e8df8a5e",
   "metadata": {},
   "outputs": [
    {
     "name": "stdout",
     "output_type": "stream",
     "text": [
      "Making a call using IPhone\n"
     ]
    }
   ],
   "source": [
    "ip = Iphone()\n",
    "\n",
    "ip.make_call()\n"
   ]
  },
  {
   "cell_type": "markdown",
   "id": "5cbef16f-cf3c-4b3d-80a6-9f4a9de44b10",
   "metadata": {},
   "source": [
    "## Practice module 8.5"
   ]
  },
  {
   "cell_type": "markdown",
   "id": "41c65b00-8ffe-477a-afda-730c98778c4c",
   "metadata": {},
   "source": [
    "[Problem link](https://docs.google.com/document/d/1O6-kp9ImxHmRHsrcms7fy_wAWkFHklZCO80Rnq5_0OU/edit?tab=t.0)"
   ]
  },
  {
   "cell_type": "code",
   "execution_count": 128,
   "id": "a3a20b49-83ca-4bc2-803c-271b8b5957d4",
   "metadata": {},
   "outputs": [
    {
     "name": "stdin",
     "output_type": "stream",
     "text": [
      " 1\n",
      " car dsf 5\n"
     ]
    },
    {
     "ename": "TypeError",
     "evalue": "Can't instantiate abstract class Car without an implementation for abstract method 'show_info'",
     "output_type": "error",
     "traceback": [
      "\u001b[0;31m---------------------------------------------------------------------------\u001b[0m",
      "\u001b[0;31mTypeError\u001b[0m                                 Traceback (most recent call last)",
      "Cell \u001b[0;32mIn[128], line 48\u001b[0m\n\u001b[1;32m     46\u001b[0m vehicle_type, name, speed \u001b[38;5;241m=\u001b[39m \u001b[38;5;28mmap\u001b[39m(\u001b[38;5;28mstr\u001b[39m, \u001b[38;5;28minput\u001b[39m()\u001b[38;5;241m.\u001b[39msplit())\n\u001b[1;32m     47\u001b[0m \u001b[38;5;28;01mif\u001b[39;00m vehicle_type\u001b[38;5;241m.\u001b[39mlower() \u001b[38;5;241m==\u001b[39m \u001b[38;5;124m\"\u001b[39m\u001b[38;5;124mcar\u001b[39m\u001b[38;5;124m\"\u001b[39m:\n\u001b[0;32m---> 48\u001b[0m     vehicle \u001b[38;5;241m=\u001b[39m Car(name, vehicle_type, speed)\n\u001b[1;32m     49\u001b[0m     vehicles\u001b[38;5;241m.\u001b[39mappend(vehicle)\n\u001b[1;32m     50\u001b[0m \u001b[38;5;28;01melse\u001b[39;00m:\n",
      "\u001b[0;31mTypeError\u001b[0m: Can't instantiate abstract class Car without an implementation for abstract method 'show_info'"
     ]
    }
   ],
   "source": [
    "from abc import ABC, abstractmethod\n",
    "\n",
    "class Vehicle(ABC):\n",
    "    def __init__(self, name, vehicle_type, speed):\n",
    "        self.__speed = int(speed)\n",
    "        self.__vehicle_type = vehicle_type\n",
    "        self.__name = name\n",
    "        print(f\"{vehicle_type} Added: {name}\")\n",
    "        \n",
    "    def classify(self):\n",
    "        if self.__speed > 100:\n",
    "            return \"High-speed\"\n",
    "        return \"Normal Vehicle\"\n",
    "\n",
    "    def get_vehicle_type(self):\n",
    "        return self.__vehicle_type\n",
    "        \n",
    "    def get_name(self):\n",
    "        return self.__name\n",
    "        \n",
    "    def get_speed(self):\n",
    "        return self.__speed\n",
    "          \n",
    "    @abstractmethod\n",
    "    def show_info(self):\n",
    "        pass\n",
    "\n",
    "class Car(Vehicle):\n",
    "    def __init__(self, name, vehicle_type, speed):\n",
    "        super().__init__(name, vehicle_type, speed)\n",
    "\n",
    "    def show_info(self):\n",
    "        print(f\"Type: {self.get_vehicle_type()}, Name: {self.get_name()}, Speed: {self.get_speed()} km/h, Predicted: {self.classify()} Vehicle\")\n",
    "\n",
    "class Bike(Vehicle):\n",
    "    def __init__(self, name, vehicle_type, speed):\n",
    "        super().__init__(name, vehicle_type, speed)\n",
    "        \n",
    "    def show_info(self):\n",
    "        print(f\"Type: {self.get_vehicle_type()}, Name: {self.get_name()}, Speed: {self.get_speed()} km/h, Predicted: {self.classify()} Vehicle\")\n",
    "\n",
    "\n",
    "n = int(input())\n",
    "vehicles = []\n",
    "for i in range(n):\n",
    "    vehicle_type, name, speed = map(str, input().split())\n",
    "    if vehicle_type.lower() == \"car\":\n",
    "        vehicle = Car(name, vehicle_type, speed)\n",
    "        vehicles.append(vehicle)\n",
    "    else:\n",
    "        vehicle = Bike(name, vehicle_type, speed)\n",
    "        vehicles.append(vehicle)\n",
    "\n",
    "print(\"\\n--- Vehicle Details ---\")\n",
    "for vehicle in vehicles:\n",
    "    vehicle.show_info()\n",
    "\n",
    "\n",
    "##  Input\n",
    "    \n",
    "# 3\n",
    "# Car Toyota 150\n",
    "# Bike Yamaha 90\n",
    "# Car Honda 120"
   ]
  }
 ],
 "metadata": {
  "kernelspec": {
   "display_name": "Python [conda env:base] *",
   "language": "python",
   "name": "conda-base-py"
  },
  "language_info": {
   "codemirror_mode": {
    "name": "ipython",
    "version": 3
   },
   "file_extension": ".py",
   "mimetype": "text/x-python",
   "name": "python",
   "nbconvert_exporter": "python",
   "pygments_lexer": "ipython3",
   "version": "3.13.5"
  }
 },
 "nbformat": 4,
 "nbformat_minor": 5
}
