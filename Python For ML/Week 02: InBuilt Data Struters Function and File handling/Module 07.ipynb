{
 "cells": [
  {
   "cell_type": "markdown",
   "id": "9ac26a0a-d0b2-472e-bd44-5404b510d98e",
   "metadata": {},
   "source": [
    "## File handling"
   ]
  },
  {
   "cell_type": "code",
   "execution_count": 10,
   "id": "7cb9a44c-0000-49cd-8ef9-a25bb03cbf5e",
   "metadata": {},
   "outputs": [
    {
     "name": "stdout",
     "output_type": "stream",
     "text": [
      "hello world\n",
      "Wellcome to phitron\n",
      "AI ML course\n",
      "False\n",
      "True\n"
     ]
    }
   ],
   "source": [
    "file = open('index.txt', 'r')\n",
    "data = file.read()\n",
    "print(data)\n",
    "\n",
    "# file closing\n",
    "print(file.closed)\n",
    "file.close() # close file\n",
    "print(file.closed)"
   ]
  },
  {
   "cell_type": "code",
   "execution_count": 33,
   "id": "da9fd8c8-2334-430c-9d78-48f3d50036ad",
   "metadata": {},
   "outputs": [
    {
     "name": "stdout",
     "output_type": "stream",
     "text": [
      "['hello world\\n', 'Wellcome to phitron\\n', 'AI ML course\\n']\n",
      "<class 'list'>\n",
      "['hello world', 'Wellcome to phitron', 'AI ML course']\n",
      "hello world\n",
      "Wellcome to phitron\n",
      "AI ML course\n",
      "True\n"
     ]
    }
   ],
   "source": [
    "with open(\"index.txt\", 'r') as f:\n",
    "    data = f.readlines()\n",
    "    map_data = list(map(str.strip, data))\n",
    "    \n",
    "    print(data)\n",
    "    print(type(data))\n",
    "    print(map_data)\n",
    "    \n",
    "\n",
    "with open(\"index.txt\", 'r') as file:\n",
    "    for line in file:\n",
    "        print(line.strip()) # remove new line\n",
    "        \n",
    "print(file.closed)"
   ]
  },
  {
   "cell_type": "code",
   "execution_count": 47,
   "id": "4e17a3f6-5d93-46a7-930d-d6d5bf07088e",
   "metadata": {},
   "outputs": [],
   "source": [
    "## file write\n",
    "\n",
    "with open('test.txt', 'w') as file:\n",
    "    file.write(\"hi, wellcome\\n\")\n",
    "    file.write(\"Good night\\n\")\n",
    "\n",
    "st = [\"hi\", \"hello\", \"wellcome\"]\n",
    "\n",
    "with open('test.txt', 'a') as file: # appending\n",
    "    file.writelines(st)\n",
    "    file.write(\"\\n\")\n",
    "    \n",
    "with open('test.txt', 'a') as file: # appending\n",
    "    for line in st:\n",
    "        file.write(line)"
   ]
  },
  {
   "cell_type": "markdown",
   "id": "82d33535-8387-41cc-93f5-107d6387cd8c",
   "metadata": {},
   "source": [
    "### File cursor"
   ]
  },
  {
   "cell_type": "code",
   "execution_count": 57,
   "id": "cdec11b7-126a-4dec-9580-d0a9707ee42b",
   "metadata": {},
   "outputs": [
    {
     "name": "stdout",
     "output_type": "stream",
     "text": [
      "0\n",
      "hello\n",
      "5\n",
      "0\n",
      "hello world\n",
      "Wellcome to phitron\n",
      "AI ML course\n",
      "\n",
      "45\n"
     ]
    }
   ],
   "source": [
    "with open(\"index.txt\", 'r') as file:\n",
    "    print(file.tell()) # it's show where currently cursor\n",
    "    print(file.read(5))\n",
    "    print(file.tell())\n",
    "    \n",
    "    print(file.seek(0)) # go certain index\n",
    "    \n",
    "    print(file.read()) # cursor in last index\n",
    "    print(file.tell())"
   ]
  },
  {
   "cell_type": "markdown",
   "id": "f90aa943-b4b9-4f98-9e77-06ca535b878d",
   "metadata": {},
   "source": [
    "## Practice 1 :\n",
    "Get the text from index.txt , and count the following\n",
    "- Number of lines\n",
    "- Number of words\n",
    "- Number of characters\n",
    "- and save it to the counter_of_string.txt file"
   ]
  },
  {
   "cell_type": "code",
   "execution_count": 84,
   "id": "db225fd0-a73a-4547-aa44-58401af0ac0a",
   "metadata": {},
   "outputs": [
    {
     "name": "stdout",
     "output_type": "stream",
     "text": [
      "Lines: 3\n",
      "[2, 3, 3]\n",
      "Total words: 8\n",
      "['hello world\\n', 'Wellcome to phitron\\n', 'AI ML course\\n']\n",
      "['hello world', 'Wellcome to phitron', 'AI ML course']\n",
      "['helloworld', 'Wellcometophitron', 'AIMLcourse']\n",
      "Total words: 42\n"
     ]
    }
   ],
   "source": [
    "from functools import reduce\n",
    "\n",
    "with open(\"index.txt\", 'r') as file:\n",
    "    data = file.readlines()\n",
    "    \n",
    "    lines = len(data)\n",
    "    print(f\"Lines: {lines}\")\n",
    "\n",
    "    # total_word = 0\n",
    "    # for line in data:\n",
    "    #     total_word += len(line.split())\n",
    "    # print(f\"Total words: {total_word}\")\n",
    "\n",
    "    total_words_count_list = list(map(lambda st:len(st.split()), data))\n",
    "    print(total_words_count_list)\n",
    "    # print(sum(total_words_count_list))\n",
    "    total_words_count = reduce(lambda x,y: x+y, total_words_count_list)\n",
    "    print(f\"Total words: {total_words_count}\")\n",
    "\n",
    "    print(data)\n",
    "    # clean the data\n",
    "    data = list(map(str.strip, data))\n",
    "    print(data)\n",
    "    string_list = list(map(lambda st: st.replace(\" \", \"\"), data))\n",
    "    print(string_list)\n",
    "\n",
    "    total_char_count_list = list(map(lambda st:len(st), data))\n",
    "    total_char_count = reduce(lambda x,y: x+y, total_char_count_list)\n",
    "    print(f\"Total words: {total_char_count}\")\n",
    "    \n",
    "with open('counter_of_string.txt', 'w') as f:\n",
    "    f.write(f\"Number of lines: {lines}\\n\")\n",
    "    f.write(f\"Number of words: {total_words_count}\\n\")\n",
    "    f.write(f\"Number of characters: {total_char_count}\\n\")\n"
   ]
  },
  {
   "cell_type": "markdown",
   "id": "88cfd511-0a28-4b0b-9756-c26ce008b320",
   "metadata": {},
   "source": [
    "### File read and write same time"
   ]
  },
  {
   "cell_type": "code",
   "execution_count": 107,
   "id": "6f0e2372-2ca1-47a1-9b6c-9db03fa775b3",
   "metadata": {},
   "outputs": [
    {
     "name": "stdout",
     "output_type": "stream",
     "text": [
      "11\n",
      "[]\n",
      "['hello world']\n",
      "11\n"
     ]
    }
   ],
   "source": [
    "with open(\"sample.txt\", 'w+') as f:  # w+ is used for fresh file start existing file read we can use r+\n",
    "    f.write(\"hello world\")\n",
    "    print(f.tell())\n",
    "    print(f.readlines())\n",
    "    f.seek(0)\n",
    "    print(f.readlines())\n",
    "    print(f.tell())"
   ]
  },
  {
   "cell_type": "markdown",
   "id": "e54f1b64-45ff-479e-bd96-a1af83b0ba63",
   "metadata": {},
   "source": [
    "## Exception handling"
   ]
  },
  {
   "cell_type": "code",
   "execution_count": 98,
   "id": "abc71c13-b06e-4e17-989b-931b7e07869b",
   "metadata": {},
   "outputs": [
    {
     "name": "stdin",
     "output_type": "stream",
     "text": [
      " 0\n"
     ]
    },
    {
     "name": "stdout",
     "output_type": "stream",
     "text": [
      "Can't division by zero\n"
     ]
    }
   ],
   "source": [
    "n = int(input())\n",
    "\n",
    "try:\n",
    "    print(10 / n)\n",
    "except ZeroDivisionError:\n",
    "    print(\"Can't division by zero\")"
   ]
  },
  {
   "cell_type": "code",
   "execution_count": 100,
   "id": "78643f27-596e-4baa-a4f2-5e7c3a7f4577",
   "metadata": {},
   "outputs": [
    {
     "name": "stdout",
     "output_type": "stream",
     "text": [
      "name 'e' is not defined\n"
     ]
    }
   ],
   "source": [
    "st = \"saimun\"\n",
    "\n",
    "try:\n",
    "    st = e\n",
    "except NameError as e:\n",
    "    print(e)"
   ]
  },
  {
   "cell_type": "code",
   "execution_count": 3,
   "id": "582f9b07-7772-4527-9082-4202fe372d48",
   "metadata": {},
   "outputs": [
    {
     "name": "stdout",
     "output_type": "stream",
     "text": [
      "name 'e' is not defined\n",
      "Programme completed\n"
     ]
    }
   ],
   "source": [
    "st = \"saimun\"\n",
    "\n",
    "try:\n",
    "    st = e\n",
    "except Exception as e:\n",
    "    print(e)\n",
    "finally:\n",
    "    print(\"Programme completed\") # always exicute"
   ]
  },
  {
   "cell_type": "markdown",
   "id": "92133143-cbf9-4fc1-a858-2dda72408227",
   "metadata": {},
   "source": [
    "## Practice Problem"
   ]
  },
  {
   "cell_type": "markdown",
   "id": "14575928-f9a8-45ca-a769-3ea1c472ea62",
   "metadata": {},
   "source": [
    "## Problem 1\n",
    "Create a text file named `emails.txt` containing multiple email addresses, some in uppercase and some repeated.\n",
    "Write a Python program to clean the data by converting all emails to lowercase, removing duplicates, sorting them alphabetically, and saving the cleaned list to a new file named `unique_emails.txt`.\n"
   ]
  },
  {
   "cell_type": "code",
   "execution_count": 15,
   "id": "e09bc7c5-1f42-474c-b882-54284ea06e8f",
   "metadata": {},
   "outputs": [],
   "source": [
    "with open('emails.txt', 'r') as file:\n",
    "    content = file.readlines()\n",
    "    email_list = list(map(str.strip, content))\n",
    "    email_list = list(map(str.lower, email_list))\n",
    "    unique_email_list = set(email_list)\n",
    "   \n",
    "    sorted_email_list = sorted(unique_email_list)\n",
    "\n",
    "with open('unique_emails.txt', 'w') as file:\n",
    "    for email in sorted_email_list:\n",
    "        file.write(email + \"\\n\")\n",
    "        \n",
    "    "
   ]
  },
  {
   "cell_type": "markdown",
   "id": "d8a69f10-6633-444e-993e-7b660ed53744",
   "metadata": {},
   "source": [
    "## Practice Day 7.5"
   ]
  },
  {
   "cell_type": "markdown",
   "id": "56d0d8b6-bfb6-4eaa-a4fc-b93f16fdf775",
   "metadata": {},
   "source": [
    "### Problem 1: Common Friends (Set Operations)"
   ]
  },
  {
   "cell_type": "markdown",
   "id": "9aab1309-f659-4ce4-b39c-9d7e33d78a59",
   "metadata": {},
   "source": [
    "**Problem**:\n",
    " Given two sets of friends from two people, find the mutual friends, unique friends of each, and the total number of unique friends.\n"
   ]
  },
  {
   "cell_type": "code",
   "execution_count": 28,
   "id": "8911227f-576a-4cac-a15d-b0350a513515",
   "metadata": {},
   "outputs": [
    {
     "name": "stdout",
     "output_type": "stream",
     "text": [
      "Mutul friends: {'Jamal', 'Sakib'}\n",
      "Unique to A: {'Karim', 'Rahim'}\n",
      "Unique to B: {'Rafiq', 'Nadim'}\n",
      "Mutul friends: 6\n"
     ]
    }
   ],
   "source": [
    "\n",
    "# Example Input:\n",
    "# a_friends = {\"Rahim\", \"Karim\", \"Sakib\", \"Jamal\"}\n",
    "# b_friends = {\"Sakib\", \"Jamal\", \"Rafiq\", \"Nadim\"}\n",
    "\n",
    "# Expected Output:\n",
    "# Mutual friends: {'Sakib', 'Jamal'}\n",
    "# Unique to A: {'Rahim', 'Karim'}\n",
    "# Unique to B: {'Rafiq', 'Nadim'}\n",
    "# Total unique friends: 6\n",
    "\n",
    "a_friends = {\"Rahim\", \"Karim\", \"Sakib\", \"Jamal\"}\n",
    "b_friends = {\"Sakib\", \"Jamal\", \"Rafiq\", \"Nadim\"}\n",
    "\n",
    "print(f\"Mutul friends: {a_friends & b_friends}\")\n",
    "print(f\"Unique to A: {a_friends - b_friends}\")\n",
    "print(f\"Unique to B: {b_friends - a_friends}\")\n",
    "print(f\"Mutul friends: {len(a_friends | b_friends)}\")"
   ]
  },
  {
   "cell_type": "markdown",
   "id": "d61a516a-8f4c-4296-93e6-33124885762d",
   "metadata": {},
   "source": [
    "### Problem 2: Sort Students by Marks (Tuple + Dictionary)"
   ]
  },
  {
   "cell_type": "markdown",
   "id": "61471974-d0e0-4d91-ad23-a7396c63e65d",
   "metadata": {},
   "source": [
    "**Problem**:\n",
    " You are given a list of tuples — each containing a student’s name and mark.\n",
    " Sort them in descending order of marks and print the top 3 scorers."
   ]
  },
  {
   "cell_type": "code",
   "execution_count": 34,
   "id": "5c830236-da5b-46a9-9cfa-413407456ca1",
   "metadata": {},
   "outputs": [
    {
     "name": "stdout",
     "output_type": "stream",
     "text": [
      "{'Rafi': 89, 'Sumi': 95, 'Hasan': 90, 'Nila': 75, 'Anik': 98}\n",
      "{'Anik': 98, 'Sumi': 95, 'Hasan': 90, 'Rafi': 89, 'Nila': 75}\n"
     ]
    }
   ],
   "source": [
    "students = [(\"Rafi\", 89), (\"Sumi\", 95), (\"Hasan\", 90), (\"Nila\", 75), (\"Anik\", 98)]\n",
    "\n",
    "data = { k:v for k,v in students}\n",
    "print(data)\n",
    "sorted_scores = dict(sorted(data.items(), key=lambda item: item[1], reverse=True))\n",
    "\n",
    "print(sorted_scores)\n"
   ]
  }
 ],
 "metadata": {
  "kernelspec": {
   "display_name": "Python [conda env:base] *",
   "language": "python",
   "name": "conda-base-py"
  },
  "language_info": {
   "codemirror_mode": {
    "name": "ipython",
    "version": 3
   },
   "file_extension": ".py",
   "mimetype": "text/x-python",
   "name": "python",
   "nbconvert_exporter": "python",
   "pygments_lexer": "ipython3",
   "version": "3.13.5"
  }
 },
 "nbformat": 4,
 "nbformat_minor": 5
}
